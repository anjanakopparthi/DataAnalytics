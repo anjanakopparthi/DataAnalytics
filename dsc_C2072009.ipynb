{
  "cells": [
    {
      "cell_type": "markdown",
      "metadata": {
        "id": "35Jw-Gf_K0EP"
      },
      "source": [
        "CID: C2072009\n"
      ]
    },
    {
      "cell_type": "markdown",
      "metadata": {
        "id": "9zmeDz6pMIMS"
      },
      "source": [
        "# **Question 1: Load**"
      ]
    },
    {
      "cell_type": "markdown",
      "metadata": {
        "id": "UpAoPhlcLJ_g"
      },
      "source": [
        "\n",
        "\n",
        "\n",
        "*   Programmatically download and load into your favorite analytical tool the transactions data. This data, which is in line-delimited JSON format, can be found here\n",
        "\n",
        "*   Please describe the structure of the data. Number of records and fields in each record?\n",
        "\n",
        "*  Please provide some additional basic summary statistics for each field. Be sure to include a count of null, minimum, maximum, and unique values where appropriate."
      ]
    },
    {
      "cell_type": "code",
      "execution_count": null,
      "metadata": {
        "id": "-eWA-uSSKudB"
      },
      "outputs": [],
      "source": [
        "import os\n",
        "import numpy as np\n",
        "import pandas as pd\n",
        "import time\n",
        "import seaborn as sns\n",
        "import matplotlib.pyplot as plt\n",
        "from bs4 import BeautifulSoup\n",
        "import requests\n",
        "import urllib3\n",
        "import zipfile\n",
        "\n",
        "from sklearn.model_selection import train_test_split\n",
        "from sklearn.linear_model import LogisticRegression\n",
        "from sklearn.svm import SVC\n",
        "from sklearn.ensemble import RandomForestClassifier\n",
        "from sklearn.neighbors import KNeighborsClassifier\n",
        "from sklearn.metrics import accuracy_score"
      ]
    },
    {
      "cell_type": "code",
      "execution_count": null,
      "metadata": {
        "id": "2qN30-kgM0jC"
      },
      "outputs": [],
      "source": [
        "# Tried loading from the website directly, there was some issue\n",
        "# Got https://urllib3.readthedocs.io/en/latest/advanced-usage.html#ssl-warnings\n",
        "# http = urllib3.PoolManager()\n",
        "# req = http.request(\"GET\", \"https://github.com/CapitalOneRecruiting/DS/blob/173ca4399629f1e4e74146107eb9bef1e7009741/transactions.zip\", preload_content=False)\n",
        "\n",
        "# with open(\"transactions.zip\", 'wb') as out:\n",
        "#   while True:\n",
        "#     data = req.read(4096)\n",
        "#     if not data:\n",
        "#       break\n",
        "#     out.write(data)\n",
        "# req.release_conn()\n",
        "\n",
        "# zFile = zipfile.ZipFile(\"transactions.zip\", \"r\")\n",
        "# zFile.extract(zFile)\n",
        "\n",
        "# # To check if the file is loaded\n",
        "# !ls transactions/\n",
        "\n",
        "##### Tried other approach to scrape the data, seems like there I could not find the data to read\n",
        "# url_content = requests.get(url).text            # Downloading content from webpage\n",
        "# soup = BeautifulSoup(url_content,'html.parser') # Creating beautifulsoup object\n",
        "\n",
        "# Sometimes we might have more than one table and the table might not have labels but instead classes, this is a quick check to figure out if we have labels or not.\n",
        "# for table in soup.find_all('table'):\n",
        "#     print(table.get('class'))\n",
        "## We have only one table and we have row labels in order\n",
        "\n",
        "# # Get all tables, store as list\n",
        "# tables = soup.find_all('table')\n",
        "# table = tables[0] # Get the first table\n",
        "\n",
        "# # Dummy List's to store rows and columns \n",
        "# row_data = []\n",
        "# headers_data = []\n",
        "\n",
        "# # To collect column headers we need to find all tags with <TH> tags\n",
        "# for column in table.findAll('th'):\n",
        "#     headers_data.append(column.text)\n",
        "# print(headers_data)\n",
        "\n",
        "# # To collect all the rows and columns from the table\n",
        "# rows = table.find_all('tr')\n",
        "# temp_col = table.findAll('th')\n",
        "\n",
        "# for row in rows:\n",
        "#     singlerow = {}\n",
        "#     for td, th in zip(row.findAll(\"td\"), headers_data) :\n",
        "#         singlerow[th] = td.text\n",
        "#     row_data.append(singlerow)\n",
        " \n",
        "# with open('ufos_in_texas.csv', 'w') as file:\n",
        "#     writer = csv.DictWriter(file, fieldnames = headers_data)\n",
        "#     writer.writeheader()\n",
        "#     for row in row_data:\n",
        "#       if row:\n",
        "#         writer.writerow(row)\n",
        "\n"
      ]
    },
    {
      "cell_type": "markdown",
      "source": [
        "Cloned the git repository then unzipped the files manually. Then copied the transactions.txt file on to the drive. Mounted the drive to proceed forward.\n",
        "\n",
        "\n",
        "> If given more time would possibly explore ways to download files from github programmaitcally. \n",
        "\n"
      ],
      "metadata": {
        "id": "m4zHybaZxOfd"
      }
    },
    {
      "cell_type": "code",
      "execution_count": null,
      "metadata": {
        "id": "kveYYKlJLv-C",
        "colab": {
          "base_uri": "https://localhost:8080/",
          "height": 287
        },
        "outputId": "45fb1af1-97e7-493d-8c5f-9ff6a459c292"
      },
      "outputs": [
        {
          "output_type": "execute_result",
          "data": {
            "text/html": [
              "\n",
              "  <div id=\"df-49ce847e-c704-426f-816a-3e8e4335778e\">\n",
              "    <div class=\"colab-df-container\">\n",
              "      <div>\n",
              "<style scoped>\n",
              "    .dataframe tbody tr th:only-of-type {\n",
              "        vertical-align: middle;\n",
              "    }\n",
              "\n",
              "    .dataframe tbody tr th {\n",
              "        vertical-align: top;\n",
              "    }\n",
              "\n",
              "    .dataframe thead th {\n",
              "        text-align: right;\n",
              "    }\n",
              "</style>\n",
              "<table border=\"1\" class=\"dataframe\">\n",
              "  <thead>\n",
              "    <tr style=\"text-align: right;\">\n",
              "      <th></th>\n",
              "      <th>accountNumber</th>\n",
              "      <th>customerId</th>\n",
              "      <th>creditLimit</th>\n",
              "      <th>availableMoney</th>\n",
              "      <th>transactionDateTime</th>\n",
              "      <th>transactionAmount</th>\n",
              "      <th>merchantName</th>\n",
              "      <th>acqCountry</th>\n",
              "      <th>merchantCountryCode</th>\n",
              "      <th>posEntryMode</th>\n",
              "      <th>posConditionCode</th>\n",
              "      <th>merchantCategoryCode</th>\n",
              "      <th>currentExpDate</th>\n",
              "      <th>accountOpenDate</th>\n",
              "      <th>dateOfLastAddressChange</th>\n",
              "      <th>cardCVV</th>\n",
              "      <th>enteredCVV</th>\n",
              "      <th>cardLast4Digits</th>\n",
              "      <th>transactionType</th>\n",
              "      <th>echoBuffer</th>\n",
              "      <th>currentBalance</th>\n",
              "      <th>merchantCity</th>\n",
              "      <th>merchantState</th>\n",
              "      <th>merchantZip</th>\n",
              "      <th>cardPresent</th>\n",
              "      <th>posOnPremises</th>\n",
              "      <th>recurringAuthInd</th>\n",
              "      <th>expirationDateKeyInMatch</th>\n",
              "      <th>isFraud</th>\n",
              "    </tr>\n",
              "  </thead>\n",
              "  <tbody>\n",
              "    <tr>\n",
              "      <th>0</th>\n",
              "      <td>737265056</td>\n",
              "      <td>737265056</td>\n",
              "      <td>5000</td>\n",
              "      <td>5000.0</td>\n",
              "      <td>2016-08-13T14:27:32</td>\n",
              "      <td>98.55</td>\n",
              "      <td>Uber</td>\n",
              "      <td>US</td>\n",
              "      <td>US</td>\n",
              "      <td>02</td>\n",
              "      <td>01</td>\n",
              "      <td>rideshare</td>\n",
              "      <td>06/2023</td>\n",
              "      <td>2015-03-14</td>\n",
              "      <td>2015-03-14</td>\n",
              "      <td>414</td>\n",
              "      <td>414</td>\n",
              "      <td>1803</td>\n",
              "      <td>PURCHASE</td>\n",
              "      <td></td>\n",
              "      <td>0.0</td>\n",
              "      <td></td>\n",
              "      <td></td>\n",
              "      <td></td>\n",
              "      <td>False</td>\n",
              "      <td></td>\n",
              "      <td></td>\n",
              "      <td>False</td>\n",
              "      <td>False</td>\n",
              "    </tr>\n",
              "    <tr>\n",
              "      <th>1</th>\n",
              "      <td>737265056</td>\n",
              "      <td>737265056</td>\n",
              "      <td>5000</td>\n",
              "      <td>5000.0</td>\n",
              "      <td>2016-10-11T05:05:54</td>\n",
              "      <td>74.51</td>\n",
              "      <td>AMC #191138</td>\n",
              "      <td>US</td>\n",
              "      <td>US</td>\n",
              "      <td>09</td>\n",
              "      <td>01</td>\n",
              "      <td>entertainment</td>\n",
              "      <td>02/2024</td>\n",
              "      <td>2015-03-14</td>\n",
              "      <td>2015-03-14</td>\n",
              "      <td>486</td>\n",
              "      <td>486</td>\n",
              "      <td>767</td>\n",
              "      <td>PURCHASE</td>\n",
              "      <td></td>\n",
              "      <td>0.0</td>\n",
              "      <td></td>\n",
              "      <td></td>\n",
              "      <td></td>\n",
              "      <td>True</td>\n",
              "      <td></td>\n",
              "      <td></td>\n",
              "      <td>False</td>\n",
              "      <td>False</td>\n",
              "    </tr>\n",
              "    <tr>\n",
              "      <th>2</th>\n",
              "      <td>737265056</td>\n",
              "      <td>737265056</td>\n",
              "      <td>5000</td>\n",
              "      <td>5000.0</td>\n",
              "      <td>2016-11-08T09:18:39</td>\n",
              "      <td>7.47</td>\n",
              "      <td>Play Store</td>\n",
              "      <td>US</td>\n",
              "      <td>US</td>\n",
              "      <td>09</td>\n",
              "      <td>01</td>\n",
              "      <td>mobileapps</td>\n",
              "      <td>08/2025</td>\n",
              "      <td>2015-03-14</td>\n",
              "      <td>2015-03-14</td>\n",
              "      <td>486</td>\n",
              "      <td>486</td>\n",
              "      <td>767</td>\n",
              "      <td>PURCHASE</td>\n",
              "      <td></td>\n",
              "      <td>0.0</td>\n",
              "      <td></td>\n",
              "      <td></td>\n",
              "      <td></td>\n",
              "      <td>False</td>\n",
              "      <td></td>\n",
              "      <td></td>\n",
              "      <td>False</td>\n",
              "      <td>False</td>\n",
              "    </tr>\n",
              "    <tr>\n",
              "      <th>3</th>\n",
              "      <td>737265056</td>\n",
              "      <td>737265056</td>\n",
              "      <td>5000</td>\n",
              "      <td>5000.0</td>\n",
              "      <td>2016-12-10T02:14:50</td>\n",
              "      <td>7.47</td>\n",
              "      <td>Play Store</td>\n",
              "      <td>US</td>\n",
              "      <td>US</td>\n",
              "      <td>09</td>\n",
              "      <td>01</td>\n",
              "      <td>mobileapps</td>\n",
              "      <td>08/2025</td>\n",
              "      <td>2015-03-14</td>\n",
              "      <td>2015-03-14</td>\n",
              "      <td>486</td>\n",
              "      <td>486</td>\n",
              "      <td>767</td>\n",
              "      <td>PURCHASE</td>\n",
              "      <td></td>\n",
              "      <td>0.0</td>\n",
              "      <td></td>\n",
              "      <td></td>\n",
              "      <td></td>\n",
              "      <td>False</td>\n",
              "      <td></td>\n",
              "      <td></td>\n",
              "      <td>False</td>\n",
              "      <td>False</td>\n",
              "    </tr>\n",
              "    <tr>\n",
              "      <th>4</th>\n",
              "      <td>830329091</td>\n",
              "      <td>830329091</td>\n",
              "      <td>5000</td>\n",
              "      <td>5000.0</td>\n",
              "      <td>2016-03-24T21:04:46</td>\n",
              "      <td>71.18</td>\n",
              "      <td>Tim Hortons #947751</td>\n",
              "      <td>US</td>\n",
              "      <td>US</td>\n",
              "      <td>02</td>\n",
              "      <td>01</td>\n",
              "      <td>fastfood</td>\n",
              "      <td>10/2029</td>\n",
              "      <td>2015-08-06</td>\n",
              "      <td>2015-08-06</td>\n",
              "      <td>885</td>\n",
              "      <td>885</td>\n",
              "      <td>3143</td>\n",
              "      <td>PURCHASE</td>\n",
              "      <td></td>\n",
              "      <td>0.0</td>\n",
              "      <td></td>\n",
              "      <td></td>\n",
              "      <td></td>\n",
              "      <td>True</td>\n",
              "      <td></td>\n",
              "      <td></td>\n",
              "      <td>False</td>\n",
              "      <td>False</td>\n",
              "    </tr>\n",
              "  </tbody>\n",
              "</table>\n",
              "</div>\n",
              "      <button class=\"colab-df-convert\" onclick=\"convertToInteractive('df-49ce847e-c704-426f-816a-3e8e4335778e')\"\n",
              "              title=\"Convert this dataframe to an interactive table.\"\n",
              "              style=\"display:none;\">\n",
              "        \n",
              "  <svg xmlns=\"http://www.w3.org/2000/svg\" height=\"24px\"viewBox=\"0 0 24 24\"\n",
              "       width=\"24px\">\n",
              "    <path d=\"M0 0h24v24H0V0z\" fill=\"none\"/>\n",
              "    <path d=\"M18.56 5.44l.94 2.06.94-2.06 2.06-.94-2.06-.94-.94-2.06-.94 2.06-2.06.94zm-11 1L8.5 8.5l.94-2.06 2.06-.94-2.06-.94L8.5 2.5l-.94 2.06-2.06.94zm10 10l.94 2.06.94-2.06 2.06-.94-2.06-.94-.94-2.06-.94 2.06-2.06.94z\"/><path d=\"M17.41 7.96l-1.37-1.37c-.4-.4-.92-.59-1.43-.59-.52 0-1.04.2-1.43.59L10.3 9.45l-7.72 7.72c-.78.78-.78 2.05 0 2.83L4 21.41c.39.39.9.59 1.41.59.51 0 1.02-.2 1.41-.59l7.78-7.78 2.81-2.81c.8-.78.8-2.07 0-2.86zM5.41 20L4 18.59l7.72-7.72 1.47 1.35L5.41 20z\"/>\n",
              "  </svg>\n",
              "      </button>\n",
              "      \n",
              "  <style>\n",
              "    .colab-df-container {\n",
              "      display:flex;\n",
              "      flex-wrap:wrap;\n",
              "      gap: 12px;\n",
              "    }\n",
              "\n",
              "    .colab-df-convert {\n",
              "      background-color: #E8F0FE;\n",
              "      border: none;\n",
              "      border-radius: 50%;\n",
              "      cursor: pointer;\n",
              "      display: none;\n",
              "      fill: #1967D2;\n",
              "      height: 32px;\n",
              "      padding: 0 0 0 0;\n",
              "      width: 32px;\n",
              "    }\n",
              "\n",
              "    .colab-df-convert:hover {\n",
              "      background-color: #E2EBFA;\n",
              "      box-shadow: 0px 1px 2px rgba(60, 64, 67, 0.3), 0px 1px 3px 1px rgba(60, 64, 67, 0.15);\n",
              "      fill: #174EA6;\n",
              "    }\n",
              "\n",
              "    [theme=dark] .colab-df-convert {\n",
              "      background-color: #3B4455;\n",
              "      fill: #D2E3FC;\n",
              "    }\n",
              "\n",
              "    [theme=dark] .colab-df-convert:hover {\n",
              "      background-color: #434B5C;\n",
              "      box-shadow: 0px 1px 3px 1px rgba(0, 0, 0, 0.15);\n",
              "      filter: drop-shadow(0px 1px 2px rgba(0, 0, 0, 0.3));\n",
              "      fill: #FFFFFF;\n",
              "    }\n",
              "  </style>\n",
              "\n",
              "      <script>\n",
              "        const buttonEl =\n",
              "          document.querySelector('#df-49ce847e-c704-426f-816a-3e8e4335778e button.colab-df-convert');\n",
              "        buttonEl.style.display =\n",
              "          google.colab.kernel.accessAllowed ? 'block' : 'none';\n",
              "\n",
              "        async function convertToInteractive(key) {\n",
              "          const element = document.querySelector('#df-49ce847e-c704-426f-816a-3e8e4335778e');\n",
              "          const dataTable =\n",
              "            await google.colab.kernel.invokeFunction('convertToInteractive',\n",
              "                                                     [key], {});\n",
              "          if (!dataTable) return;\n",
              "\n",
              "          const docLinkHtml = 'Like what you see? Visit the ' +\n",
              "            '<a target=\"_blank\" href=https://colab.research.google.com/notebooks/data_table.ipynb>data table notebook</a>'\n",
              "            + ' to learn more about interactive tables.';\n",
              "          element.innerHTML = '';\n",
              "          dataTable['output_type'] = 'display_data';\n",
              "          await google.colab.output.renderOutput(dataTable, element);\n",
              "          const docLink = document.createElement('div');\n",
              "          docLink.innerHTML = docLinkHtml;\n",
              "          element.appendChild(docLink);\n",
              "        }\n",
              "      </script>\n",
              "    </div>\n",
              "  </div>\n",
              "  "
            ],
            "text/plain": [
              "   accountNumber  customerId  ...  expirationDateKeyInMatch  isFraud\n",
              "0      737265056   737265056  ...                     False    False\n",
              "1      737265056   737265056  ...                     False    False\n",
              "2      737265056   737265056  ...                     False    False\n",
              "3      737265056   737265056  ...                     False    False\n",
              "4      830329091   830329091  ...                     False    False\n",
              "\n",
              "[5 rows x 29 columns]"
            ]
          },
          "metadata": {},
          "execution_count": 45
        }
      ],
      "source": [
        "# Loading data\n",
        "data = pd.read_json(\"/content/drive/MyDrive/DataScience/transactions.txt\", lines=True)\n",
        "# print(\"Time required to parse data :\",time.process_time())\n",
        "\n",
        "# To check the loaded data\n",
        "data.head() # Top 5 Rows\n",
        "# data.info() # Gives information\n",
        "# data.tail() # Last % Rows"
      ]
    },
    {
      "cell_type": "code",
      "source": [
        "# Simple summary statistics and checks for nulls. In case there are any missing entries we can come up strategies like data augmentation (filling with mean/median) or remove some data.\n",
        "print(\"Number of entries in dataset :\",len(data))\n",
        "print(\"Number of columns in dataset :\",len(data.columns))\n",
        "print(\"Number of datapoints in dataset :\",data.count().sum())\n",
        "print(\"Number of null values in dataset :\",data.isnull().sum())"
      ],
      "metadata": {
        "colab": {
          "base_uri": "https://localhost:8080/"
        },
        "id": "5gscePIZwxTS",
        "outputId": "26abcabe-ffa3-4218-d517-44805bc8b323"
      },
      "execution_count": null,
      "outputs": [
        {
          "output_type": "stream",
          "name": "stdout",
          "text": [
            "Number of entries in dataset : 786363\n",
            "Number of columns in dataset : 29\n",
            "Number of datapoints in dataset : 22804527\n",
            "Number of null values in dataset : accountNumber               0\n",
            "customerId                  0\n",
            "creditLimit                 0\n",
            "availableMoney              0\n",
            "transactionDateTime         0\n",
            "transactionAmount           0\n",
            "merchantName                0\n",
            "acqCountry                  0\n",
            "merchantCountryCode         0\n",
            "posEntryMode                0\n",
            "posConditionCode            0\n",
            "merchantCategoryCode        0\n",
            "currentExpDate              0\n",
            "accountOpenDate             0\n",
            "dateOfLastAddressChange     0\n",
            "cardCVV                     0\n",
            "enteredCVV                  0\n",
            "cardLast4Digits             0\n",
            "transactionType             0\n",
            "echoBuffer                  0\n",
            "currentBalance              0\n",
            "merchantCity                0\n",
            "merchantState               0\n",
            "merchantZip                 0\n",
            "cardPresent                 0\n",
            "posOnPremises               0\n",
            "recurringAuthInd            0\n",
            "expirationDateKeyInMatch    0\n",
            "isFraud                     0\n",
            "dtype: int64\n"
          ]
        }
      ]
    },
    {
      "cell_type": "code",
      "source": [
        "# To get the maximum and minimum of each column\n",
        "# data.max()\n",
        "# data.min()\n",
        "# data.isnull().sum()\n",
        "# To get a summary of all data\n",
        "data.describe()"
      ],
      "metadata": {
        "colab": {
          "base_uri": "https://localhost:8080/",
          "height": 299
        },
        "id": "3-FtJj-hyEfQ",
        "outputId": "64ab9295-c2d6-4542-b376-0bf283f06aca"
      },
      "execution_count": null,
      "outputs": [
        {
          "output_type": "execute_result",
          "data": {
            "text/html": [
              "\n",
              "  <div id=\"df-6c78549e-3442-4b43-bf64-63f8787bda4f\">\n",
              "    <div class=\"colab-df-container\">\n",
              "      <div>\n",
              "<style scoped>\n",
              "    .dataframe tbody tr th:only-of-type {\n",
              "        vertical-align: middle;\n",
              "    }\n",
              "\n",
              "    .dataframe tbody tr th {\n",
              "        vertical-align: top;\n",
              "    }\n",
              "\n",
              "    .dataframe thead th {\n",
              "        text-align: right;\n",
              "    }\n",
              "</style>\n",
              "<table border=\"1\" class=\"dataframe\">\n",
              "  <thead>\n",
              "    <tr style=\"text-align: right;\">\n",
              "      <th></th>\n",
              "      <th>accountNumber</th>\n",
              "      <th>customerId</th>\n",
              "      <th>creditLimit</th>\n",
              "      <th>availableMoney</th>\n",
              "      <th>transactionAmount</th>\n",
              "      <th>cardCVV</th>\n",
              "      <th>enteredCVV</th>\n",
              "      <th>cardLast4Digits</th>\n",
              "      <th>currentBalance</th>\n",
              "    </tr>\n",
              "  </thead>\n",
              "  <tbody>\n",
              "    <tr>\n",
              "      <th>count</th>\n",
              "      <td>7.863630e+05</td>\n",
              "      <td>7.863630e+05</td>\n",
              "      <td>786363.000000</td>\n",
              "      <td>786363.000000</td>\n",
              "      <td>786363.000000</td>\n",
              "      <td>786363.000000</td>\n",
              "      <td>786363.000000</td>\n",
              "      <td>786363.000000</td>\n",
              "      <td>786363.000000</td>\n",
              "    </tr>\n",
              "    <tr>\n",
              "      <th>mean</th>\n",
              "      <td>5.372326e+08</td>\n",
              "      <td>5.372326e+08</td>\n",
              "      <td>10759.464459</td>\n",
              "      <td>6250.725369</td>\n",
              "      <td>136.985791</td>\n",
              "      <td>544.467338</td>\n",
              "      <td>544.183857</td>\n",
              "      <td>4757.417799</td>\n",
              "      <td>4508.739089</td>\n",
              "    </tr>\n",
              "    <tr>\n",
              "      <th>std</th>\n",
              "      <td>2.554211e+08</td>\n",
              "      <td>2.554211e+08</td>\n",
              "      <td>11636.174890</td>\n",
              "      <td>8880.783989</td>\n",
              "      <td>147.725569</td>\n",
              "      <td>261.524220</td>\n",
              "      <td>261.551254</td>\n",
              "      <td>2996.583810</td>\n",
              "      <td>6457.442068</td>\n",
              "    </tr>\n",
              "    <tr>\n",
              "      <th>min</th>\n",
              "      <td>1.000881e+08</td>\n",
              "      <td>1.000881e+08</td>\n",
              "      <td>250.000000</td>\n",
              "      <td>-1005.630000</td>\n",
              "      <td>0.000000</td>\n",
              "      <td>100.000000</td>\n",
              "      <td>0.000000</td>\n",
              "      <td>0.000000</td>\n",
              "      <td>0.000000</td>\n",
              "    </tr>\n",
              "    <tr>\n",
              "      <th>25%</th>\n",
              "      <td>3.301333e+08</td>\n",
              "      <td>3.301333e+08</td>\n",
              "      <td>5000.000000</td>\n",
              "      <td>1077.420000</td>\n",
              "      <td>33.650000</td>\n",
              "      <td>310.000000</td>\n",
              "      <td>310.000000</td>\n",
              "      <td>2178.000000</td>\n",
              "      <td>689.910000</td>\n",
              "    </tr>\n",
              "    <tr>\n",
              "      <th>50%</th>\n",
              "      <td>5.074561e+08</td>\n",
              "      <td>5.074561e+08</td>\n",
              "      <td>7500.000000</td>\n",
              "      <td>3184.860000</td>\n",
              "      <td>87.900000</td>\n",
              "      <td>535.000000</td>\n",
              "      <td>535.000000</td>\n",
              "      <td>4733.000000</td>\n",
              "      <td>2451.760000</td>\n",
              "    </tr>\n",
              "    <tr>\n",
              "      <th>75%</th>\n",
              "      <td>7.676200e+08</td>\n",
              "      <td>7.676200e+08</td>\n",
              "      <td>15000.000000</td>\n",
              "      <td>7500.000000</td>\n",
              "      <td>191.480000</td>\n",
              "      <td>785.000000</td>\n",
              "      <td>785.000000</td>\n",
              "      <td>7338.000000</td>\n",
              "      <td>5291.095000</td>\n",
              "    </tr>\n",
              "    <tr>\n",
              "      <th>max</th>\n",
              "      <td>9.993896e+08</td>\n",
              "      <td>9.993896e+08</td>\n",
              "      <td>50000.000000</td>\n",
              "      <td>50000.000000</td>\n",
              "      <td>2011.540000</td>\n",
              "      <td>998.000000</td>\n",
              "      <td>998.000000</td>\n",
              "      <td>9998.000000</td>\n",
              "      <td>47498.810000</td>\n",
              "    </tr>\n",
              "  </tbody>\n",
              "</table>\n",
              "</div>\n",
              "      <button class=\"colab-df-convert\" onclick=\"convertToInteractive('df-6c78549e-3442-4b43-bf64-63f8787bda4f')\"\n",
              "              title=\"Convert this dataframe to an interactive table.\"\n",
              "              style=\"display:none;\">\n",
              "        \n",
              "  <svg xmlns=\"http://www.w3.org/2000/svg\" height=\"24px\"viewBox=\"0 0 24 24\"\n",
              "       width=\"24px\">\n",
              "    <path d=\"M0 0h24v24H0V0z\" fill=\"none\"/>\n",
              "    <path d=\"M18.56 5.44l.94 2.06.94-2.06 2.06-.94-2.06-.94-.94-2.06-.94 2.06-2.06.94zm-11 1L8.5 8.5l.94-2.06 2.06-.94-2.06-.94L8.5 2.5l-.94 2.06-2.06.94zm10 10l.94 2.06.94-2.06 2.06-.94-2.06-.94-.94-2.06-.94 2.06-2.06.94z\"/><path d=\"M17.41 7.96l-1.37-1.37c-.4-.4-.92-.59-1.43-.59-.52 0-1.04.2-1.43.59L10.3 9.45l-7.72 7.72c-.78.78-.78 2.05 0 2.83L4 21.41c.39.39.9.59 1.41.59.51 0 1.02-.2 1.41-.59l7.78-7.78 2.81-2.81c.8-.78.8-2.07 0-2.86zM5.41 20L4 18.59l7.72-7.72 1.47 1.35L5.41 20z\"/>\n",
              "  </svg>\n",
              "      </button>\n",
              "      \n",
              "  <style>\n",
              "    .colab-df-container {\n",
              "      display:flex;\n",
              "      flex-wrap:wrap;\n",
              "      gap: 12px;\n",
              "    }\n",
              "\n",
              "    .colab-df-convert {\n",
              "      background-color: #E8F0FE;\n",
              "      border: none;\n",
              "      border-radius: 50%;\n",
              "      cursor: pointer;\n",
              "      display: none;\n",
              "      fill: #1967D2;\n",
              "      height: 32px;\n",
              "      padding: 0 0 0 0;\n",
              "      width: 32px;\n",
              "    }\n",
              "\n",
              "    .colab-df-convert:hover {\n",
              "      background-color: #E2EBFA;\n",
              "      box-shadow: 0px 1px 2px rgba(60, 64, 67, 0.3), 0px 1px 3px 1px rgba(60, 64, 67, 0.15);\n",
              "      fill: #174EA6;\n",
              "    }\n",
              "\n",
              "    [theme=dark] .colab-df-convert {\n",
              "      background-color: #3B4455;\n",
              "      fill: #D2E3FC;\n",
              "    }\n",
              "\n",
              "    [theme=dark] .colab-df-convert:hover {\n",
              "      background-color: #434B5C;\n",
              "      box-shadow: 0px 1px 3px 1px rgba(0, 0, 0, 0.15);\n",
              "      filter: drop-shadow(0px 1px 2px rgba(0, 0, 0, 0.3));\n",
              "      fill: #FFFFFF;\n",
              "    }\n",
              "  </style>\n",
              "\n",
              "      <script>\n",
              "        const buttonEl =\n",
              "          document.querySelector('#df-6c78549e-3442-4b43-bf64-63f8787bda4f button.colab-df-convert');\n",
              "        buttonEl.style.display =\n",
              "          google.colab.kernel.accessAllowed ? 'block' : 'none';\n",
              "\n",
              "        async function convertToInteractive(key) {\n",
              "          const element = document.querySelector('#df-6c78549e-3442-4b43-bf64-63f8787bda4f');\n",
              "          const dataTable =\n",
              "            await google.colab.kernel.invokeFunction('convertToInteractive',\n",
              "                                                     [key], {});\n",
              "          if (!dataTable) return;\n",
              "\n",
              "          const docLinkHtml = 'Like what you see? Visit the ' +\n",
              "            '<a target=\"_blank\" href=https://colab.research.google.com/notebooks/data_table.ipynb>data table notebook</a>'\n",
              "            + ' to learn more about interactive tables.';\n",
              "          element.innerHTML = '';\n",
              "          dataTable['output_type'] = 'display_data';\n",
              "          await google.colab.output.renderOutput(dataTable, element);\n",
              "          const docLink = document.createElement('div');\n",
              "          docLink.innerHTML = docLinkHtml;\n",
              "          element.appendChild(docLink);\n",
              "        }\n",
              "      </script>\n",
              "    </div>\n",
              "  </div>\n",
              "  "
            ],
            "text/plain": [
              "       accountNumber    customerId  ...  cardLast4Digits  currentBalance\n",
              "count   7.863630e+05  7.863630e+05  ...    786363.000000   786363.000000\n",
              "mean    5.372326e+08  5.372326e+08  ...      4757.417799     4508.739089\n",
              "std     2.554211e+08  2.554211e+08  ...      2996.583810     6457.442068\n",
              "min     1.000881e+08  1.000881e+08  ...         0.000000        0.000000\n",
              "25%     3.301333e+08  3.301333e+08  ...      2178.000000      689.910000\n",
              "50%     5.074561e+08  5.074561e+08  ...      4733.000000     2451.760000\n",
              "75%     7.676200e+08  7.676200e+08  ...      7338.000000     5291.095000\n",
              "max     9.993896e+08  9.993896e+08  ...      9998.000000    47498.810000\n",
              "\n",
              "[8 rows x 9 columns]"
            ]
          },
          "metadata": {},
          "execution_count": 4
        }
      ]
    },
    {
      "cell_type": "markdown",
      "source": [
        "# Question 2: Plot"
      ],
      "metadata": {
        "id": "ciy2du-wz3zm"
      }
    },
    {
      "cell_type": "markdown",
      "source": [
        "1.   Plot a histogram of the processed amounts of each transaction, the transactionAmount column.\n",
        "2.   Report any structure you find and any hypotheses you have about that structure"
      ],
      "metadata": {
        "id": "CQFZbnx70GAn"
      }
    },
    {
      "cell_type": "code",
      "source": [
        "# # Drop unused columns\n",
        "# data.drop(['merchantState',\t'merchantZip', 'echoBuffer', 'posOnPremises','recurringAuthInd' ],axis = 1 , inplace = True)\n",
        "data.to_csv('/content/drive/MyDrive/cleanedTransactiondata.csv')\n"
      ],
      "metadata": {
        "id": "taLibdbvz-ZX"
      },
      "execution_count": null,
      "outputs": []
    },
    {
      "cell_type": "code",
      "source": [
        "plt.suptitle('Statistical Data Distribution')\n",
        "\n",
        "plt.suptitle('Numerical Data Distribution')\n",
        "Balances = ['transactionAmount','creditLimit','availableMoney','currentBalance']\n",
        "x_labels = ['Transaction amount','Credit Limit','Available Money','Current Balance', ]\n",
        "colors = ['r', 'g', 'b', 'c']\n",
        "\n",
        "for i in range(0,len(Balances)):\n",
        "    \n",
        "    plt.figure(figsize=(16,4), dpi= 80)\n",
        "    sns.histplot(data[Balances[i]],color = colors[i], bins =80)\n",
        "    # sns.boxplot(data[Balances[i]],color = colors[i], orient = 'Vertical')\n",
        "    plt.xlabel(x_labels[i])\n",
        "    plt.ylabel('No. of Records')\n",
        "    plt.title('Histogram of ' + x_labels[i])"
      ],
      "metadata": {
        "colab": {
          "base_uri": "https://localhost:8080/"
        },
        "id": "d7StaXFx1XHD",
        "outputId": "8a2d479d-f886-412f-9abe-6578ef7a8ec9"
      },
      "execution_count": null,
      "outputs": [
        {
          "output_type": "display_data",
          "data": {
            "text/plain": [
              "<Figure size 432x288 with 0 Axes>"
            ]
          },
          "metadata": {}
        },
        {
          "output_type": "display_data",
          "data": {
            "image/png": "[encoded data removed]",
            "text/plain": [
              "<Figure size 1280x320 with 1 Axes>"
            ]
          },
          "metadata": {
            "needs_background": "light"
          }
        },
        {
          "output_type": "display_data",
          "data": {
            "image/png": "[encoded data removed]",
            "text/plain": [
              "<Figure size 1280x320 with 1 Axes>"
            ]
          },
          "metadata": {
            "needs_background": "light"
          }
        },
        {
          "output_type": "display_data",
          "data": {
            "image/png": "[encoded data removed]",
            "text/plain": [
              "<Figure size 1280x320 with 1 Axes>"
            ]
          },
          "metadata": {
            "needs_background": "light"
          }
        },
        {
          "output_type": "display_data",
          "data": {
            "image/png": "[encoded data removed]",
            "text/plain": [
              "<Figure size 1280x320 with 1 Axes>"
            ]
          },
          "metadata": {
            "needs_background": "light"
          }
        }
      ]
    },
    {
      "cell_type": "code",
      "source": [
        "from enum import unique\n",
        "cl = data['creditLimit'].unique()\n",
        "cl.sort()\n",
        "l = []; s =[]\n",
        "for i in range(len(cl)):\n",
        "  if i==0:\n",
        "    df =  data.loc[data['creditLimit']<cl[i]+1]\n",
        "    print(\"Number of accounts with credit Limit  \" + str(cl[i])+ \" are  \" +str(count(df['accountNumber'].unique())))\n",
        "  else:    \n",
        "    df =  data.loc[(data['creditLimit']<cl[i]+1)& (data['creditLimit']>cl[i-1]+1)]\n",
        "    l.append(count(df['accountNumber'].unique()))\n",
        "    print(\"Number of accounts with credit Limit  \" + str(cl[i])+ \" are  \" +str(count(df['accountNumber'].unique())))"
      ],
      "metadata": {
        "colab": {
          "base_uri": "https://localhost:8080/"
        },
        "id": "LrXIK5sjPqxT",
        "outputId": "07d50cdd-e234-436b-ae5c-cd04a41cc221"
      },
      "execution_count": null,
      "outputs": [
        {
          "output_type": "stream",
          "name": "stdout",
          "text": [
            "Number of accounts with credit Limit  250 are  265\n",
            "Number of accounts with credit Limit  500 are  234\n",
            "Number of accounts with credit Limit  1000 are  240\n",
            "Number of accounts with credit Limit  2500 are  499\n",
            "Number of accounts with credit Limit  5000 are  1031\n",
            "Number of accounts with credit Limit  7500 are  750\n",
            "Number of accounts with credit Limit  10000 are  484\n",
            "Number of accounts with credit Limit  15000 are  773\n",
            "Number of accounts with credit Limit  20000 are  478\n",
            "Number of accounts with credit Limit  50000 are  246\n"
          ]
        }
      ]
    },
    {
      "cell_type": "code",
      "source": [
        "cl"
      ],
      "metadata": {
        "colab": {
          "base_uri": "https://localhost:8080/"
        },
        "id": "kpnc9Xcvjdg1",
        "outputId": "c9d80f6b-6fa4-4560-d416-034083200667"
      },
      "execution_count": null,
      "outputs": [
        {
          "output_type": "execute_result",
          "data": {
            "text/plain": [
              "array([  250,   500,  1000,  2500,  5000,  7500, 10000, 15000, 20000,\n",
              "       50000])"
            ]
          },
          "metadata": {},
          "execution_count": 141
        }
      ]
    },
    {
      "cell_type": "code",
      "source": [
        "# Lets check the transactions and net value\n",
        "import math\n",
        "n =[]; s =[]\n",
        "for i in range(len(cl)):\n",
        "  if i==0:\n",
        "    df =  data.loc[data['creditLimit']<cl[i]+1]\n",
        "  else:    \n",
        "    df =  data.loc[(data['creditLimit']<cl[i]+1)& (data['creditLimit']>cl[i-1]+1)]\n",
        "    #l.append(count(df['accountNumber'].unique()))\n",
        "  n1 = count(df['transactionAmount']); n.append(n1)\n",
        "  s1 = math.floor(sum(df['transactionAmount'])); s.append(s1)\n",
        "  print(str(cl[i])+\" #Transactions are \" +str(n1)+ \". And $ value is \" + str(s1) + \" Per transaction amount of spending is \"+ str(math.floor(s1/n1)))\n"
      ],
      "metadata": {
        "colab": {
          "base_uri": "https://localhost:8080/"
        },
        "id": "6NZCxsm3UBoQ",
        "outputId": "6f2ceca8-f4f9-4109-b206-04df50bb3981"
      },
      "execution_count": null,
      "outputs": [
        {
          "output_type": "stream",
          "name": "stdout",
          "text": [
            "250 #Transactions are 34025. And $ value is 4625417 Per transaction amount of spending is 135\n",
            "500 #Transactions are 27097. And $ value is 3613655 Per transaction amount of spending is 133\n",
            "1000 #Transactions are 36430. And $ value is 4970575 Per transaction amount of spending is 136\n",
            "2500 #Transactions are 75429. And $ value is 10284144 Per transaction amount of spending is 136\n",
            "5000 #Transactions are 201863. And $ value is 27963035 Per transaction amount of spending is 138\n",
            "7500 #Transactions are 97913. And $ value is 13130340 Per transaction amount of spending is 134\n",
            "10000 #Transactions are 56889. And $ value is 7618742 Per transaction amount of spending is 133\n",
            "15000 #Transactions are 139307. And $ value is 19331882 Per transaction amount of spending is 138\n",
            "20000 #Transactions are 68629. And $ value is 9356052 Per transaction amount of spending is 136\n",
            "50000 #Transactions are 48781. And $ value is 6826710 Per transaction amount of spending is 139\n"
          ]
        }
      ]
    },
    {
      "cell_type": "code",
      "source": [
        "print(min(s))\n",
        "print(max(s))"
      ],
      "metadata": {
        "colab": {
          "base_uri": "https://localhost:8080/"
        },
        "id": "boatWb-DXN7H",
        "outputId": "3c4c5d6c-a2dc-4b9d-959d-85a554b9d89e"
      },
      "execution_count": null,
      "outputs": [
        {
          "output_type": "stream",
          "name": "stdout",
          "text": [
            "3613655\n",
            "27963035\n"
          ]
        }
      ]
    },
    {
      "cell_type": "code",
      "source": [
        "# Transaction amount vs credit Limit\n",
        "plt.figure()\n",
        "sns.boxenplot(data=data, x='creditLimit', y='transactionAmount', palette='Set1')\n",
        "plt.title('Relationship Between Transaction Amount and Credit Limit')\n",
        "plt.xlabel('CreditLimit')\n",
        "plt.ylabel('Transaction Amount')"
      ],
      "metadata": {
        "colab": {
          "base_uri": "https://localhost:8080/"
        },
        "id": "jgemOQYv7P1N",
        "outputId": "ac45f504-b29f-466d-eaff-fd972761be26"
      },
      "execution_count": null,
      "outputs": [
        {
          "output_type": "execute_result",
          "data": {
            "text/plain": [
              "Text(0, 0.5, 'Transaction Amount')"
            ]
          },
          "metadata": {},
          "execution_count": 146
        },
        {
          "output_type": "display_data",
          "data": {
            "image/png": "[encoded data removed]",
            "text/plain": [
              "<Figure size 432x288 with 1 Axes>"
            ]
          },
          "metadata": {
            "needs_background": "light"
          }
        }
      ]
    },
    {
      "cell_type": "markdown",
      "source": [
        "## **Observations**\n",
        "\n",
        "\n",
        "**Transaction Amount**\n",
        "\n",
        "* There are many transactions with credit card with 0$ transaction amount. These maybe to very the cardholder or to authenticate. Most (Almost all) of them happended without card present. \n",
        "\n",
        "* Analysis indicates that average money spent on transaction in each band and total is low (around $135).\n",
        "\n",
        "* This indicates that most people are making small purchases frequently. Almost all transactions were less than $500.\n",
        "\n",
        "* Most money spent is from the band with credit limit $5000. This maybe due to highest number of transactions from this band.\n",
        "\n",
        "\n",
        "**Credit Limit**\n",
        "\n",
        "* There is a range of credit limit 0 - $50,000. They are 250,   500,  1000,  2500,  5000,  7500, 10000, 15000, 20000, 50000.\n",
        "\n",
        "* Looks like highest number of people have $1000 as the credit limit.\n",
        "\n",
        "* There are very few people with credit limit > $20,000 as expected.\n",
        "\n",
        "\n",
        "**Available Money**\n",
        "\n",
        "* It tells us about the money which is available to spent with respect to Credit Limit. There are some -ve values which tells us that some people went over board.\n",
        "\n",
        "* Among the people with -ve available money, many are from 250 dollars credit limit, followed by 500 then 1000.  This may indicate that they spend more and might be considered for increase in credit limit. [If this is due to one big purchse like a laptop which is not frequent then they dont need increase in credit limit.]\n"
      ],
      "metadata": {
        "id": "6exOlOoY7Djm"
      }
    },
    {
      "cell_type": "markdown",
      "source": [
        "# Question 3:Data Wrangling - Duplicate Transactions"
      ],
      "metadata": {
        "id": "UW6zpOZEF6pz"
      }
    },
    {
      "cell_type": "markdown",
      "source": [
        "You will notice a number of what look like duplicated transactions in the data set. One type of duplicated transaction is a reversed transaction, where a purchase is followed by a reversal. Another example is a multi-swipe, where a vendor accidentally charges a customer's card multiple times within a short time span.\n",
        "\n",
        "1.   Can you programmatically identify reversed and multi-swipe transactions?\n",
        "2.   What total number of transactions and total dollar amount do you estimate for the reversed transactions? For the multi-swipe transactions? (please consider the first transaction to be \"normal\" and exclude it from the number of transaction and dollar amount counts)\n",
        "3. Did you find anything interesting about either kind of transaction?\n",
        "\n",
        "\n"
      ],
      "metadata": {
        "id": "NGGP2T3fJ_8H"
      }
    },
    {
      "cell_type": "code",
      "source": [
        "# There are a number of transactions which looked like duplicated transactions in the dataset. Using the function duplicated we can identify all the transactions which have same transaction amount.\n",
        "# If they appear in short span then they are multi-swipe transactions. \n",
        "data_rev = data[data['transactionType']==\"REVERSAL\"]\n",
        "data_pur = data[data['transactionType']==\"PURCHASE\"]\n",
        "#data_rev = data.loc[data['transactionType']=\"REVERSAL\"]"
      ],
      "metadata": {
        "id": "LBQJ3pyOEbhs"
      },
      "execution_count": null,
      "outputs": []
    },
    {
      "cell_type": "code",
      "source": [
        "temp1 = data[data.duplicated(subset = {'transactionAmount'})==True]\n",
        "temp1\n",
        "# We see lot of duplicates - this maybe due to repeat purchases, we cant term of all them as duplicates."
      ],
      "metadata": {
        "colab": {
          "base_uri": "https://localhost:8080/",
          "height": 661
        },
        "id": "nxHYzN4AYu6z",
        "outputId": "19122ba6-7cc8-405a-b17f-d936e43969e5"
      },
      "execution_count": null,
      "outputs": [
        {
          "output_type": "execute_result",
          "data": {
            "text/html": [
              "\n",
              "  <div id=\"df-38954600-b40d-4ea0-9874-5cd9a4947b5e\">\n",
              "    <div class=\"colab-df-container\">\n",
              "      <div>\n",
              "<style scoped>\n",
              "    .dataframe tbody tr th:only-of-type {\n",
              "        vertical-align: middle;\n",
              "    }\n",
              "\n",
              "    .dataframe tbody tr th {\n",
              "        vertical-align: top;\n",
              "    }\n",
              "\n",
              "    .dataframe thead th {\n",
              "        text-align: right;\n",
              "    }\n",
              "</style>\n",
              "<table border=\"1\" class=\"dataframe\">\n",
              "  <thead>\n",
              "    <tr style=\"text-align: right;\">\n",
              "      <th></th>\n",
              "      <th>accountNumber</th>\n",
              "      <th>customerId</th>\n",
              "      <th>creditLimit</th>\n",
              "      <th>availableMoney</th>\n",
              "      <th>transactionDateTime</th>\n",
              "      <th>transactionAmount</th>\n",
              "      <th>merchantName</th>\n",
              "      <th>acqCountry</th>\n",
              "      <th>merchantCountryCode</th>\n",
              "      <th>posEntryMode</th>\n",
              "      <th>posConditionCode</th>\n",
              "      <th>merchantCategoryCode</th>\n",
              "      <th>currentExpDate</th>\n",
              "      <th>accountOpenDate</th>\n",
              "      <th>dateOfLastAddressChange</th>\n",
              "      <th>cardCVV</th>\n",
              "      <th>enteredCVV</th>\n",
              "      <th>cardLast4Digits</th>\n",
              "      <th>transactionType</th>\n",
              "      <th>echoBuffer</th>\n",
              "      <th>currentBalance</th>\n",
              "      <th>merchantCity</th>\n",
              "      <th>merchantState</th>\n",
              "      <th>merchantZip</th>\n",
              "      <th>cardPresent</th>\n",
              "      <th>posOnPremises</th>\n",
              "      <th>recurringAuthInd</th>\n",
              "      <th>expirationDateKeyInMatch</th>\n",
              "      <th>isFraud</th>\n",
              "      <th>Date</th>\n",
              "      <th>Time</th>\n",
              "    </tr>\n",
              "  </thead>\n",
              "  <tbody>\n",
              "    <tr>\n",
              "      <th>3</th>\n",
              "      <td>737265056</td>\n",
              "      <td>737265056</td>\n",
              "      <td>5000</td>\n",
              "      <td>5000.00</td>\n",
              "      <td>2016-12-10T02:14:50</td>\n",
              "      <td>7.47</td>\n",
              "      <td>Play Store</td>\n",
              "      <td>US</td>\n",
              "      <td>US</td>\n",
              "      <td>09</td>\n",
              "      <td>01</td>\n",
              "      <td>mobileapps</td>\n",
              "      <td>08/2025</td>\n",
              "      <td>2015-03-14</td>\n",
              "      <td>2015-03-14</td>\n",
              "      <td>486</td>\n",
              "      <td>486</td>\n",
              "      <td>767</td>\n",
              "      <td>PURCHASE</td>\n",
              "      <td></td>\n",
              "      <td>0.00</td>\n",
              "      <td></td>\n",
              "      <td></td>\n",
              "      <td></td>\n",
              "      <td>False</td>\n",
              "      <td></td>\n",
              "      <td></td>\n",
              "      <td>False</td>\n",
              "      <td>False</td>\n",
              "      <td>2016-12-10</td>\n",
              "      <td>02:14:50</td>\n",
              "    </tr>\n",
              "    <tr>\n",
              "      <th>12</th>\n",
              "      <td>830329091</td>\n",
              "      <td>830329091</td>\n",
              "      <td>5000</td>\n",
              "      <td>4959.25</td>\n",
              "      <td>2016-12-14T10:00:35</td>\n",
              "      <td>40.75</td>\n",
              "      <td>GreenCook</td>\n",
              "      <td>US</td>\n",
              "      <td>US</td>\n",
              "      <td>09</td>\n",
              "      <td>01</td>\n",
              "      <td>food_delivery</td>\n",
              "      <td>08/2024</td>\n",
              "      <td>2015-08-06</td>\n",
              "      <td>2015-08-06</td>\n",
              "      <td>885</td>\n",
              "      <td>885</td>\n",
              "      <td>3143</td>\n",
              "      <td>PURCHASE</td>\n",
              "      <td></td>\n",
              "      <td>40.75</td>\n",
              "      <td></td>\n",
              "      <td></td>\n",
              "      <td></td>\n",
              "      <td>False</td>\n",
              "      <td></td>\n",
              "      <td></td>\n",
              "      <td>False</td>\n",
              "      <td>False</td>\n",
              "      <td>2016-12-14</td>\n",
              "      <td>10:00:35</td>\n",
              "    </tr>\n",
              "    <tr>\n",
              "      <th>13</th>\n",
              "      <td>830329091</td>\n",
              "      <td>830329091</td>\n",
              "      <td>5000</td>\n",
              "      <td>4918.50</td>\n",
              "      <td>2016-12-20T18:38:23</td>\n",
              "      <td>40.75</td>\n",
              "      <td>GreenCook</td>\n",
              "      <td>US</td>\n",
              "      <td>US</td>\n",
              "      <td>09</td>\n",
              "      <td>01</td>\n",
              "      <td>food_delivery</td>\n",
              "      <td>08/2024</td>\n",
              "      <td>2015-08-06</td>\n",
              "      <td>2015-08-06</td>\n",
              "      <td>885</td>\n",
              "      <td>885</td>\n",
              "      <td>3143</td>\n",
              "      <td>PURCHASE</td>\n",
              "      <td></td>\n",
              "      <td>81.50</td>\n",
              "      <td></td>\n",
              "      <td></td>\n",
              "      <td></td>\n",
              "      <td>False</td>\n",
              "      <td></td>\n",
              "      <td></td>\n",
              "      <td>False</td>\n",
              "      <td>False</td>\n",
              "      <td>2016-12-20</td>\n",
              "      <td>18:38:23</td>\n",
              "    </tr>\n",
              "    <tr>\n",
              "      <th>14</th>\n",
              "      <td>830329091</td>\n",
              "      <td>830329091</td>\n",
              "      <td>5000</td>\n",
              "      <td>4877.75</td>\n",
              "      <td>2016-12-28T06:43:01</td>\n",
              "      <td>40.75</td>\n",
              "      <td>GreenCook</td>\n",
              "      <td>US</td>\n",
              "      <td>US</td>\n",
              "      <td>09</td>\n",
              "      <td>01</td>\n",
              "      <td>food_delivery</td>\n",
              "      <td>08/2024</td>\n",
              "      <td>2015-08-06</td>\n",
              "      <td>2015-08-06</td>\n",
              "      <td>885</td>\n",
              "      <td>885</td>\n",
              "      <td>3143</td>\n",
              "      <td>PURCHASE</td>\n",
              "      <td></td>\n",
              "      <td>122.25</td>\n",
              "      <td></td>\n",
              "      <td></td>\n",
              "      <td></td>\n",
              "      <td>False</td>\n",
              "      <td></td>\n",
              "      <td></td>\n",
              "      <td>False</td>\n",
              "      <td>False</td>\n",
              "      <td>2016-12-28</td>\n",
              "      <td>06:43:01</td>\n",
              "    </tr>\n",
              "    <tr>\n",
              "      <th>39</th>\n",
              "      <td>574788567</td>\n",
              "      <td>574788567</td>\n",
              "      <td>2500</td>\n",
              "      <td>2200.98</td>\n",
              "      <td>2016-05-24T01:38:03</td>\n",
              "      <td>215.13</td>\n",
              "      <td>Convenient Tire</td>\n",
              "      <td>US</td>\n",
              "      <td>US</td>\n",
              "      <td>09</td>\n",
              "      <td>01</td>\n",
              "      <td>auto</td>\n",
              "      <td>10/2021</td>\n",
              "      <td>2015-10-13</td>\n",
              "      <td>2015-10-13</td>\n",
              "      <td>206</td>\n",
              "      <td>206</td>\n",
              "      <td>8522</td>\n",
              "      <td>REVERSAL</td>\n",
              "      <td></td>\n",
              "      <td>299.02</td>\n",
              "      <td></td>\n",
              "      <td></td>\n",
              "      <td></td>\n",
              "      <td>True</td>\n",
              "      <td></td>\n",
              "      <td></td>\n",
              "      <td>False</td>\n",
              "      <td>False</td>\n",
              "      <td>2016-05-24</td>\n",
              "      <td>01:38:03</td>\n",
              "    </tr>\n",
              "    <tr>\n",
              "      <th>...</th>\n",
              "      <td>...</td>\n",
              "      <td>...</td>\n",
              "      <td>...</td>\n",
              "      <td>...</td>\n",
              "      <td>...</td>\n",
              "      <td>...</td>\n",
              "      <td>...</td>\n",
              "      <td>...</td>\n",
              "      <td>...</td>\n",
              "      <td>...</td>\n",
              "      <td>...</td>\n",
              "      <td>...</td>\n",
              "      <td>...</td>\n",
              "      <td>...</td>\n",
              "      <td>...</td>\n",
              "      <td>...</td>\n",
              "      <td>...</td>\n",
              "      <td>...</td>\n",
              "      <td>...</td>\n",
              "      <td>...</td>\n",
              "      <td>...</td>\n",
              "      <td>...</td>\n",
              "      <td>...</td>\n",
              "      <td>...</td>\n",
              "      <td>...</td>\n",
              "      <td>...</td>\n",
              "      <td>...</td>\n",
              "      <td>...</td>\n",
              "      <td>...</td>\n",
              "      <td>...</td>\n",
              "      <td>...</td>\n",
              "    </tr>\n",
              "    <tr>\n",
              "      <th>786358</th>\n",
              "      <td>732852505</td>\n",
              "      <td>732852505</td>\n",
              "      <td>50000</td>\n",
              "      <td>48904.96</td>\n",
              "      <td>2016-12-22T18:44:12</td>\n",
              "      <td>119.92</td>\n",
              "      <td>Lyft</td>\n",
              "      <td>US</td>\n",
              "      <td>US</td>\n",
              "      <td>90</td>\n",
              "      <td>01</td>\n",
              "      <td>rideshare</td>\n",
              "      <td>12/2022</td>\n",
              "      <td>2012-08-23</td>\n",
              "      <td>2012-08-23</td>\n",
              "      <td>936</td>\n",
              "      <td>936</td>\n",
              "      <td>3783</td>\n",
              "      <td>PURCHASE</td>\n",
              "      <td></td>\n",
              "      <td>1095.04</td>\n",
              "      <td></td>\n",
              "      <td></td>\n",
              "      <td></td>\n",
              "      <td>False</td>\n",
              "      <td></td>\n",
              "      <td></td>\n",
              "      <td>False</td>\n",
              "      <td>False</td>\n",
              "      <td>2016-12-22</td>\n",
              "      <td>18:44:12</td>\n",
              "    </tr>\n",
              "    <tr>\n",
              "      <th>786359</th>\n",
              "      <td>732852505</td>\n",
              "      <td>732852505</td>\n",
              "      <td>50000</td>\n",
              "      <td>48785.04</td>\n",
              "      <td>2016-12-25T16:20:34</td>\n",
              "      <td>18.89</td>\n",
              "      <td>hulu.com</td>\n",
              "      <td>US</td>\n",
              "      <td>US</td>\n",
              "      <td>09</td>\n",
              "      <td>01</td>\n",
              "      <td>online_subscriptions</td>\n",
              "      <td>08/2023</td>\n",
              "      <td>2012-08-23</td>\n",
              "      <td>2012-08-23</td>\n",
              "      <td>939</td>\n",
              "      <td>939</td>\n",
              "      <td>3388</td>\n",
              "      <td>PURCHASE</td>\n",
              "      <td></td>\n",
              "      <td>1214.96</td>\n",
              "      <td></td>\n",
              "      <td></td>\n",
              "      <td></td>\n",
              "      <td>False</td>\n",
              "      <td></td>\n",
              "      <td></td>\n",
              "      <td>False</td>\n",
              "      <td>False</td>\n",
              "      <td>2016-12-25</td>\n",
              "      <td>16:20:34</td>\n",
              "    </tr>\n",
              "    <tr>\n",
              "      <th>786360</th>\n",
              "      <td>732852505</td>\n",
              "      <td>732852505</td>\n",
              "      <td>50000</td>\n",
              "      <td>48766.15</td>\n",
              "      <td>2016-12-27T15:46:24</td>\n",
              "      <td>49.43</td>\n",
              "      <td>Lyft</td>\n",
              "      <td>US</td>\n",
              "      <td>US</td>\n",
              "      <td>02</td>\n",
              "      <td>01</td>\n",
              "      <td>rideshare</td>\n",
              "      <td>08/2025</td>\n",
              "      <td>2012-08-23</td>\n",
              "      <td>2012-08-23</td>\n",
              "      <td>936</td>\n",
              "      <td>936</td>\n",
              "      <td>3783</td>\n",
              "      <td>PURCHASE</td>\n",
              "      <td></td>\n",
              "      <td>1233.85</td>\n",
              "      <td></td>\n",
              "      <td></td>\n",
              "      <td></td>\n",
              "      <td>False</td>\n",
              "      <td></td>\n",
              "      <td></td>\n",
              "      <td>False</td>\n",
              "      <td>False</td>\n",
              "      <td>2016-12-27</td>\n",
              "      <td>15:46:24</td>\n",
              "    </tr>\n",
              "    <tr>\n",
              "      <th>786361</th>\n",
              "      <td>732852505</td>\n",
              "      <td>732852505</td>\n",
              "      <td>50000</td>\n",
              "      <td>48716.72</td>\n",
              "      <td>2016-12-29T00:30:55</td>\n",
              "      <td>49.89</td>\n",
              "      <td>walmart.com</td>\n",
              "      <td>US</td>\n",
              "      <td>US</td>\n",
              "      <td>09</td>\n",
              "      <td>99</td>\n",
              "      <td>online_retail</td>\n",
              "      <td>07/2022</td>\n",
              "      <td>2012-08-23</td>\n",
              "      <td>2012-08-23</td>\n",
              "      <td>939</td>\n",
              "      <td>939</td>\n",
              "      <td>3388</td>\n",
              "      <td>PURCHASE</td>\n",
              "      <td></td>\n",
              "      <td>1283.28</td>\n",
              "      <td></td>\n",
              "      <td></td>\n",
              "      <td></td>\n",
              "      <td>False</td>\n",
              "      <td></td>\n",
              "      <td></td>\n",
              "      <td>False</td>\n",
              "      <td>False</td>\n",
              "      <td>2016-12-29</td>\n",
              "      <td>00:30:55</td>\n",
              "    </tr>\n",
              "    <tr>\n",
              "      <th>786362</th>\n",
              "      <td>732852505</td>\n",
              "      <td>732852505</td>\n",
              "      <td>50000</td>\n",
              "      <td>48666.83</td>\n",
              "      <td>2016-12-30T20:10:29</td>\n",
              "      <td>72.18</td>\n",
              "      <td>Uber</td>\n",
              "      <td>US</td>\n",
              "      <td>US</td>\n",
              "      <td>05</td>\n",
              "      <td>01</td>\n",
              "      <td>rideshare</td>\n",
              "      <td>05/2024</td>\n",
              "      <td>2012-08-23</td>\n",
              "      <td>2012-08-23</td>\n",
              "      <td>939</td>\n",
              "      <td>939</td>\n",
              "      <td>3388</td>\n",
              "      <td>PURCHASE</td>\n",
              "      <td></td>\n",
              "      <td>1333.17</td>\n",
              "      <td></td>\n",
              "      <td></td>\n",
              "      <td></td>\n",
              "      <td>False</td>\n",
              "      <td></td>\n",
              "      <td></td>\n",
              "      <td>False</td>\n",
              "      <td>False</td>\n",
              "      <td>2016-12-30</td>\n",
              "      <td>20:10:29</td>\n",
              "    </tr>\n",
              "  </tbody>\n",
              "</table>\n",
              "<p>720325 rows × 31 columns</p>\n",
              "</div>\n",
              "      <button class=\"colab-df-convert\" onclick=\"convertToInteractive('df-38954600-b40d-4ea0-9874-5cd9a4947b5e')\"\n",
              "              title=\"Convert this dataframe to an interactive table.\"\n",
              "              style=\"display:none;\">\n",
              "        \n",
              "  <svg xmlns=\"http://www.w3.org/2000/svg\" height=\"24px\"viewBox=\"0 0 24 24\"\n",
              "       width=\"24px\">\n",
              "    <path d=\"M0 0h24v24H0V0z\" fill=\"none\"/>\n",
              "    <path d=\"M18.56 5.44l.94 2.06.94-2.06 2.06-.94-2.06-.94-.94-2.06-.94 2.06-2.06.94zm-11 1L8.5 8.5l.94-2.06 2.06-.94-2.06-.94L8.5 2.5l-.94 2.06-2.06.94zm10 10l.94 2.06.94-2.06 2.06-.94-2.06-.94-.94-2.06-.94 2.06-2.06.94z\"/><path d=\"M17.41 7.96l-1.37-1.37c-.4-.4-.92-.59-1.43-.59-.52 0-1.04.2-1.43.59L10.3 9.45l-7.72 7.72c-.78.78-.78 2.05 0 2.83L4 21.41c.39.39.9.59 1.41.59.51 0 1.02-.2 1.41-.59l7.78-7.78 2.81-2.81c.8-.78.8-2.07 0-2.86zM5.41 20L4 18.59l7.72-7.72 1.47 1.35L5.41 20z\"/>\n",
              "  </svg>\n",
              "      </button>\n",
              "      \n",
              "  <style>\n",
              "    .colab-df-container {\n",
              "      display:flex;\n",
              "      flex-wrap:wrap;\n",
              "      gap: 12px;\n",
              "    }\n",
              "\n",
              "    .colab-df-convert {\n",
              "      background-color: #E8F0FE;\n",
              "      border: none;\n",
              "      border-radius: 50%;\n",
              "      cursor: pointer;\n",
              "      display: none;\n",
              "      fill: #1967D2;\n",
              "      height: 32px;\n",
              "      padding: 0 0 0 0;\n",
              "      width: 32px;\n",
              "    }\n",
              "\n",
              "    .colab-df-convert:hover {\n",
              "      background-color: #E2EBFA;\n",
              "      box-shadow: 0px 1px 2px rgba(60, 64, 67, 0.3), 0px 1px 3px 1px rgba(60, 64, 67, 0.15);\n",
              "      fill: #174EA6;\n",
              "    }\n",
              "\n",
              "    [theme=dark] .colab-df-convert {\n",
              "      background-color: #3B4455;\n",
              "      fill: #D2E3FC;\n",
              "    }\n",
              "\n",
              "    [theme=dark] .colab-df-convert:hover {\n",
              "      background-color: #434B5C;\n",
              "      box-shadow: 0px 1px 3px 1px rgba(0, 0, 0, 0.15);\n",
              "      filter: drop-shadow(0px 1px 2px rgba(0, 0, 0, 0.3));\n",
              "      fill: #FFFFFF;\n",
              "    }\n",
              "  </style>\n",
              "\n",
              "      <script>\n",
              "        const buttonEl =\n",
              "          document.querySelector('#df-38954600-b40d-4ea0-9874-5cd9a4947b5e button.colab-df-convert');\n",
              "        buttonEl.style.display =\n",
              "          google.colab.kernel.accessAllowed ? 'block' : 'none';\n",
              "\n",
              "        async function convertToInteractive(key) {\n",
              "          const element = document.querySelector('#df-38954600-b40d-4ea0-9874-5cd9a4947b5e');\n",
              "          const dataTable =\n",
              "            await google.colab.kernel.invokeFunction('convertToInteractive',\n",
              "                                                     [key], {});\n",
              "          if (!dataTable) return;\n",
              "\n",
              "          const docLinkHtml = 'Like what you see? Visit the ' +\n",
              "            '<a target=\"_blank\" href=https://colab.research.google.com/notebooks/data_table.ipynb>data table notebook</a>'\n",
              "            + ' to learn more about interactive tables.';\n",
              "          element.innerHTML = '';\n",
              "          dataTable['output_type'] = 'display_data';\n",
              "          await google.colab.output.renderOutput(dataTable, element);\n",
              "          const docLink = document.createElement('div');\n",
              "          docLink.innerHTML = docLinkHtml;\n",
              "          element.appendChild(docLink);\n",
              "        }\n",
              "      </script>\n",
              "    </div>\n",
              "  </div>\n",
              "  "
            ],
            "text/plain": [
              "        accountNumber  customerId  creditLimit  ...  isFraud        Date      Time\n",
              "3           737265056   737265056         5000  ...    False  2016-12-10  02:14:50\n",
              "12          830329091   830329091         5000  ...    False  2016-12-14  10:00:35\n",
              "13          830329091   830329091         5000  ...    False  2016-12-20  18:38:23\n",
              "14          830329091   830329091         5000  ...    False  2016-12-28  06:43:01\n",
              "39          574788567   574788567         2500  ...    False  2016-05-24  01:38:03\n",
              "...               ...         ...          ...  ...      ...         ...       ...\n",
              "786358      732852505   732852505        50000  ...    False  2016-12-22  18:44:12\n",
              "786359      732852505   732852505        50000  ...    False  2016-12-25  16:20:34\n",
              "786360      732852505   732852505        50000  ...    False  2016-12-27  15:46:24\n",
              "786361      732852505   732852505        50000  ...    False  2016-12-29  00:30:55\n",
              "786362      732852505   732852505        50000  ...    False  2016-12-30  20:10:29\n",
              "\n",
              "[720325 rows x 31 columns]"
            ]
          },
          "metadata": {},
          "execution_count": 55
        }
      ]
    },
    {
      "cell_type": "code",
      "source": [
        "# We need to take advantage of the fact that multi-swipe happen in very short duration of time. To identify them we need to conver the time into usable format.\n",
        "#data['Time'] = datetime.strptime(data['time'].replace('T', ' ')).date()\n",
        "data['Date'] = data['transactionDateTime'].apply(lambda x: datetime.strptime(x.replace('T', ' '), '%Y-%m-%d %H:%M:%S').date())\n",
        "data['Time'] = data['transactionDateTime'].apply(lambda x: datetime.strptime(x.replace('T', ' '), '%Y-%m-%d %H:%M:%S').time())\n"
      ],
      "metadata": {
        "id": "ZLJ2JocpKGmY"
      },
      "execution_count": null,
      "outputs": []
    },
    {
      "cell_type": "code",
      "source": [
        "data.head()"
      ],
      "metadata": {
        "colab": {
          "base_uri": "https://localhost:8080/",
          "height": 357
        },
        "id": "Um10IWypL3U2",
        "outputId": "e63d2fba-7801-4ebd-f75e-eb0175dcce20"
      },
      "execution_count": null,
      "outputs": [
        {
          "output_type": "execute_result",
          "data": {
            "text/html": [
              "\n",
              "  <div id=\"df-369a0839-c3c3-4b9d-8334-a9ba1f71d3d7\">\n",
              "    <div class=\"colab-df-container\">\n",
              "      <div>\n",
              "<style scoped>\n",
              "    .dataframe tbody tr th:only-of-type {\n",
              "        vertical-align: middle;\n",
              "    }\n",
              "\n",
              "    .dataframe tbody tr th {\n",
              "        vertical-align: top;\n",
              "    }\n",
              "\n",
              "    .dataframe thead th {\n",
              "        text-align: right;\n",
              "    }\n",
              "</style>\n",
              "<table border=\"1\" class=\"dataframe\">\n",
              "  <thead>\n",
              "    <tr style=\"text-align: right;\">\n",
              "      <th></th>\n",
              "      <th>accountNumber</th>\n",
              "      <th>customerId</th>\n",
              "      <th>creditLimit</th>\n",
              "      <th>availableMoney</th>\n",
              "      <th>transactionDateTime</th>\n",
              "      <th>transactionAmount</th>\n",
              "      <th>merchantName</th>\n",
              "      <th>acqCountry</th>\n",
              "      <th>merchantCountryCode</th>\n",
              "      <th>posEntryMode</th>\n",
              "      <th>posConditionCode</th>\n",
              "      <th>merchantCategoryCode</th>\n",
              "      <th>currentExpDate</th>\n",
              "      <th>accountOpenDate</th>\n",
              "      <th>dateOfLastAddressChange</th>\n",
              "      <th>cardCVV</th>\n",
              "      <th>enteredCVV</th>\n",
              "      <th>cardLast4Digits</th>\n",
              "      <th>transactionType</th>\n",
              "      <th>echoBuffer</th>\n",
              "      <th>currentBalance</th>\n",
              "      <th>merchantCity</th>\n",
              "      <th>merchantState</th>\n",
              "      <th>merchantZip</th>\n",
              "      <th>cardPresent</th>\n",
              "      <th>posOnPremises</th>\n",
              "      <th>recurringAuthInd</th>\n",
              "      <th>expirationDateKeyInMatch</th>\n",
              "      <th>isFraud</th>\n",
              "      <th>Date</th>\n",
              "      <th>Time</th>\n",
              "    </tr>\n",
              "  </thead>\n",
              "  <tbody>\n",
              "    <tr>\n",
              "      <th>0</th>\n",
              "      <td>737265056</td>\n",
              "      <td>737265056</td>\n",
              "      <td>5000</td>\n",
              "      <td>5000.0</td>\n",
              "      <td>2016-08-13T14:27:32</td>\n",
              "      <td>98.55</td>\n",
              "      <td>Uber</td>\n",
              "      <td>US</td>\n",
              "      <td>US</td>\n",
              "      <td>02</td>\n",
              "      <td>01</td>\n",
              "      <td>rideshare</td>\n",
              "      <td>06/2023</td>\n",
              "      <td>2015-03-14</td>\n",
              "      <td>2015-03-14</td>\n",
              "      <td>414</td>\n",
              "      <td>414</td>\n",
              "      <td>1803</td>\n",
              "      <td>PURCHASE</td>\n",
              "      <td></td>\n",
              "      <td>0.0</td>\n",
              "      <td></td>\n",
              "      <td></td>\n",
              "      <td></td>\n",
              "      <td>False</td>\n",
              "      <td></td>\n",
              "      <td></td>\n",
              "      <td>False</td>\n",
              "      <td>False</td>\n",
              "      <td>2016-08-13</td>\n",
              "      <td>14:27:32</td>\n",
              "    </tr>\n",
              "    <tr>\n",
              "      <th>1</th>\n",
              "      <td>737265056</td>\n",
              "      <td>737265056</td>\n",
              "      <td>5000</td>\n",
              "      <td>5000.0</td>\n",
              "      <td>2016-10-11T05:05:54</td>\n",
              "      <td>74.51</td>\n",
              "      <td>AMC #191138</td>\n",
              "      <td>US</td>\n",
              "      <td>US</td>\n",
              "      <td>09</td>\n",
              "      <td>01</td>\n",
              "      <td>entertainment</td>\n",
              "      <td>02/2024</td>\n",
              "      <td>2015-03-14</td>\n",
              "      <td>2015-03-14</td>\n",
              "      <td>486</td>\n",
              "      <td>486</td>\n",
              "      <td>767</td>\n",
              "      <td>PURCHASE</td>\n",
              "      <td></td>\n",
              "      <td>0.0</td>\n",
              "      <td></td>\n",
              "      <td></td>\n",
              "      <td></td>\n",
              "      <td>True</td>\n",
              "      <td></td>\n",
              "      <td></td>\n",
              "      <td>False</td>\n",
              "      <td>False</td>\n",
              "      <td>2016-10-11</td>\n",
              "      <td>05:05:54</td>\n",
              "    </tr>\n",
              "    <tr>\n",
              "      <th>2</th>\n",
              "      <td>737265056</td>\n",
              "      <td>737265056</td>\n",
              "      <td>5000</td>\n",
              "      <td>5000.0</td>\n",
              "      <td>2016-11-08T09:18:39</td>\n",
              "      <td>7.47</td>\n",
              "      <td>Play Store</td>\n",
              "      <td>US</td>\n",
              "      <td>US</td>\n",
              "      <td>09</td>\n",
              "      <td>01</td>\n",
              "      <td>mobileapps</td>\n",
              "      <td>08/2025</td>\n",
              "      <td>2015-03-14</td>\n",
              "      <td>2015-03-14</td>\n",
              "      <td>486</td>\n",
              "      <td>486</td>\n",
              "      <td>767</td>\n",
              "      <td>PURCHASE</td>\n",
              "      <td></td>\n",
              "      <td>0.0</td>\n",
              "      <td></td>\n",
              "      <td></td>\n",
              "      <td></td>\n",
              "      <td>False</td>\n",
              "      <td></td>\n",
              "      <td></td>\n",
              "      <td>False</td>\n",
              "      <td>False</td>\n",
              "      <td>2016-11-08</td>\n",
              "      <td>09:18:39</td>\n",
              "    </tr>\n",
              "    <tr>\n",
              "      <th>3</th>\n",
              "      <td>737265056</td>\n",
              "      <td>737265056</td>\n",
              "      <td>5000</td>\n",
              "      <td>5000.0</td>\n",
              "      <td>2016-12-10T02:14:50</td>\n",
              "      <td>7.47</td>\n",
              "      <td>Play Store</td>\n",
              "      <td>US</td>\n",
              "      <td>US</td>\n",
              "      <td>09</td>\n",
              "      <td>01</td>\n",
              "      <td>mobileapps</td>\n",
              "      <td>08/2025</td>\n",
              "      <td>2015-03-14</td>\n",
              "      <td>2015-03-14</td>\n",
              "      <td>486</td>\n",
              "      <td>486</td>\n",
              "      <td>767</td>\n",
              "      <td>PURCHASE</td>\n",
              "      <td></td>\n",
              "      <td>0.0</td>\n",
              "      <td></td>\n",
              "      <td></td>\n",
              "      <td></td>\n",
              "      <td>False</td>\n",
              "      <td></td>\n",
              "      <td></td>\n",
              "      <td>False</td>\n",
              "      <td>False</td>\n",
              "      <td>2016-12-10</td>\n",
              "      <td>02:14:50</td>\n",
              "    </tr>\n",
              "    <tr>\n",
              "      <th>4</th>\n",
              "      <td>830329091</td>\n",
              "      <td>830329091</td>\n",
              "      <td>5000</td>\n",
              "      <td>5000.0</td>\n",
              "      <td>2016-03-24T21:04:46</td>\n",
              "      <td>71.18</td>\n",
              "      <td>Tim Hortons #947751</td>\n",
              "      <td>US</td>\n",
              "      <td>US</td>\n",
              "      <td>02</td>\n",
              "      <td>01</td>\n",
              "      <td>fastfood</td>\n",
              "      <td>10/2029</td>\n",
              "      <td>2015-08-06</td>\n",
              "      <td>2015-08-06</td>\n",
              "      <td>885</td>\n",
              "      <td>885</td>\n",
              "      <td>3143</td>\n",
              "      <td>PURCHASE</td>\n",
              "      <td></td>\n",
              "      <td>0.0</td>\n",
              "      <td></td>\n",
              "      <td></td>\n",
              "      <td></td>\n",
              "      <td>True</td>\n",
              "      <td></td>\n",
              "      <td></td>\n",
              "      <td>False</td>\n",
              "      <td>False</td>\n",
              "      <td>2016-03-24</td>\n",
              "      <td>21:04:46</td>\n",
              "    </tr>\n",
              "  </tbody>\n",
              "</table>\n",
              "</div>\n",
              "      <button class=\"colab-df-convert\" onclick=\"convertToInteractive('df-369a0839-c3c3-4b9d-8334-a9ba1f71d3d7')\"\n",
              "              title=\"Convert this dataframe to an interactive table.\"\n",
              "              style=\"display:none;\">\n",
              "        \n",
              "  <svg xmlns=\"http://www.w3.org/2000/svg\" height=\"24px\"viewBox=\"0 0 24 24\"\n",
              "       width=\"24px\">\n",
              "    <path d=\"M0 0h24v24H0V0z\" fill=\"none\"/>\n",
              "    <path d=\"M18.56 5.44l.94 2.06.94-2.06 2.06-.94-2.06-.94-.94-2.06-.94 2.06-2.06.94zm-11 1L8.5 8.5l.94-2.06 2.06-.94-2.06-.94L8.5 2.5l-.94 2.06-2.06.94zm10 10l.94 2.06.94-2.06 2.06-.94-2.06-.94-.94-2.06-.94 2.06-2.06.94z\"/><path d=\"M17.41 7.96l-1.37-1.37c-.4-.4-.92-.59-1.43-.59-.52 0-1.04.2-1.43.59L10.3 9.45l-7.72 7.72c-.78.78-.78 2.05 0 2.83L4 21.41c.39.39.9.59 1.41.59.51 0 1.02-.2 1.41-.59l7.78-7.78 2.81-2.81c.8-.78.8-2.07 0-2.86zM5.41 20L4 18.59l7.72-7.72 1.47 1.35L5.41 20z\"/>\n",
              "  </svg>\n",
              "      </button>\n",
              "      \n",
              "  <style>\n",
              "    .colab-df-container {\n",
              "      display:flex;\n",
              "      flex-wrap:wrap;\n",
              "      gap: 12px;\n",
              "    }\n",
              "\n",
              "    .colab-df-convert {\n",
              "      background-color: #E8F0FE;\n",
              "      border: none;\n",
              "      border-radius: 50%;\n",
              "      cursor: pointer;\n",
              "      display: none;\n",
              "      fill: #1967D2;\n",
              "      height: 32px;\n",
              "      padding: 0 0 0 0;\n",
              "      width: 32px;\n",
              "    }\n",
              "\n",
              "    .colab-df-convert:hover {\n",
              "      background-color: #E2EBFA;\n",
              "      box-shadow: 0px 1px 2px rgba(60, 64, 67, 0.3), 0px 1px 3px 1px rgba(60, 64, 67, 0.15);\n",
              "      fill: #174EA6;\n",
              "    }\n",
              "\n",
              "    [theme=dark] .colab-df-convert {\n",
              "      background-color: #3B4455;\n",
              "      fill: #D2E3FC;\n",
              "    }\n",
              "\n",
              "    [theme=dark] .colab-df-convert:hover {\n",
              "      background-color: #434B5C;\n",
              "      box-shadow: 0px 1px 3px 1px rgba(0, 0, 0, 0.15);\n",
              "      filter: drop-shadow(0px 1px 2px rgba(0, 0, 0, 0.3));\n",
              "      fill: #FFFFFF;\n",
              "    }\n",
              "  </style>\n",
              "\n",
              "      <script>\n",
              "        const buttonEl =\n",
              "          document.querySelector('#df-369a0839-c3c3-4b9d-8334-a9ba1f71d3d7 button.colab-df-convert');\n",
              "        buttonEl.style.display =\n",
              "          google.colab.kernel.accessAllowed ? 'block' : 'none';\n",
              "\n",
              "        async function convertToInteractive(key) {\n",
              "          const element = document.querySelector('#df-369a0839-c3c3-4b9d-8334-a9ba1f71d3d7');\n",
              "          const dataTable =\n",
              "            await google.colab.kernel.invokeFunction('convertToInteractive',\n",
              "                                                     [key], {});\n",
              "          if (!dataTable) return;\n",
              "\n",
              "          const docLinkHtml = 'Like what you see? Visit the ' +\n",
              "            '<a target=\"_blank\" href=https://colab.research.google.com/notebooks/data_table.ipynb>data table notebook</a>'\n",
              "            + ' to learn more about interactive tables.';\n",
              "          element.innerHTML = '';\n",
              "          dataTable['output_type'] = 'display_data';\n",
              "          await google.colab.output.renderOutput(dataTable, element);\n",
              "          const docLink = document.createElement('div');\n",
              "          docLink.innerHTML = docLinkHtml;\n",
              "          element.appendChild(docLink);\n",
              "        }\n",
              "      </script>\n",
              "    </div>\n",
              "  </div>\n",
              "  "
            ],
            "text/plain": [
              "   accountNumber  customerId  creditLimit  ...  isFraud        Date      Time\n",
              "0      737265056   737265056         5000  ...    False  2016-08-13  14:27:32\n",
              "1      737265056   737265056         5000  ...    False  2016-10-11  05:05:54\n",
              "2      737265056   737265056         5000  ...    False  2016-11-08  09:18:39\n",
              "3      737265056   737265056         5000  ...    False  2016-12-10  02:14:50\n",
              "4      830329091   830329091         5000  ...    False  2016-03-24  21:04:46\n",
              "\n",
              "[5 rows x 31 columns]"
            ]
          },
          "metadata": {},
          "execution_count": 47
        }
      ]
    },
    {
      "cell_type": "code",
      "source": [
        "# Can we find duplicates that happened on same day - these can be multiple purchases or multi-swipe\n",
        "temp = data[data.duplicated(subset = {'transactionAmount', 'Date'})==True]\n",
        "# Using .duplicated(keep = False) - will remove all the duplicates in the data.\n",
        "# We can get first occurance of duplicate and last occurance of duplicates using them we can figure out multi-swipe and reversal transactions"
      ],
      "metadata": {
        "id": "5-yX-hPH6gHx"
      },
      "execution_count": null,
      "outputs": []
    },
    {
      "cell_type": "code",
      "source": [
        "temp"
      ],
      "metadata": {
        "colab": {
          "base_uri": "https://localhost:8080/",
          "height": 661
        },
        "id": "6yoq1lCy96zw",
        "outputId": "d2d0a4dd-5781-4544-a16f-60b19d6e6d1c"
      },
      "execution_count": null,
      "outputs": [
        {
          "output_type": "execute_result",
          "data": {
            "text/html": [
              "\n",
              "  <div id=\"df-c269f1a7-6a78-4201-8d8c-f3658790cbd4\">\n",
              "    <div class=\"colab-df-container\">\n",
              "      <div>\n",
              "<style scoped>\n",
              "    .dataframe tbody tr th:only-of-type {\n",
              "        vertical-align: middle;\n",
              "    }\n",
              "\n",
              "    .dataframe tbody tr th {\n",
              "        vertical-align: top;\n",
              "    }\n",
              "\n",
              "    .dataframe thead th {\n",
              "        text-align: right;\n",
              "    }\n",
              "</style>\n",
              "<table border=\"1\" class=\"dataframe\">\n",
              "  <thead>\n",
              "    <tr style=\"text-align: right;\">\n",
              "      <th></th>\n",
              "      <th>accountNumber</th>\n",
              "      <th>customerId</th>\n",
              "      <th>creditLimit</th>\n",
              "      <th>availableMoney</th>\n",
              "      <th>transactionDateTime</th>\n",
              "      <th>transactionAmount</th>\n",
              "      <th>merchantName</th>\n",
              "      <th>acqCountry</th>\n",
              "      <th>merchantCountryCode</th>\n",
              "      <th>posEntryMode</th>\n",
              "      <th>posConditionCode</th>\n",
              "      <th>merchantCategoryCode</th>\n",
              "      <th>currentExpDate</th>\n",
              "      <th>accountOpenDate</th>\n",
              "      <th>dateOfLastAddressChange</th>\n",
              "      <th>cardCVV</th>\n",
              "      <th>enteredCVV</th>\n",
              "      <th>cardLast4Digits</th>\n",
              "      <th>transactionType</th>\n",
              "      <th>echoBuffer</th>\n",
              "      <th>currentBalance</th>\n",
              "      <th>merchantCity</th>\n",
              "      <th>merchantState</th>\n",
              "      <th>merchantZip</th>\n",
              "      <th>cardPresent</th>\n",
              "      <th>posOnPremises</th>\n",
              "      <th>recurringAuthInd</th>\n",
              "      <th>expirationDateKeyInMatch</th>\n",
              "      <th>isFraud</th>\n",
              "      <th>Date</th>\n",
              "      <th>Time</th>\n",
              "    </tr>\n",
              "  </thead>\n",
              "  <tbody>\n",
              "    <tr>\n",
              "      <th>39</th>\n",
              "      <td>574788567</td>\n",
              "      <td>574788567</td>\n",
              "      <td>2500</td>\n",
              "      <td>2200.98</td>\n",
              "      <td>2016-05-24T01:38:03</td>\n",
              "      <td>215.13</td>\n",
              "      <td>Convenient Tire</td>\n",
              "      <td>US</td>\n",
              "      <td>US</td>\n",
              "      <td>09</td>\n",
              "      <td>01</td>\n",
              "      <td>auto</td>\n",
              "      <td>10/2021</td>\n",
              "      <td>2015-10-13</td>\n",
              "      <td>2015-10-13</td>\n",
              "      <td>206</td>\n",
              "      <td>206</td>\n",
              "      <td>8522</td>\n",
              "      <td>REVERSAL</td>\n",
              "      <td></td>\n",
              "      <td>299.02</td>\n",
              "      <td></td>\n",
              "      <td></td>\n",
              "      <td></td>\n",
              "      <td>True</td>\n",
              "      <td></td>\n",
              "      <td></td>\n",
              "      <td>False</td>\n",
              "      <td>False</td>\n",
              "      <td>2016-05-24</td>\n",
              "      <td>01:38:03</td>\n",
              "    </tr>\n",
              "    <tr>\n",
              "      <th>133</th>\n",
              "      <td>984504651</td>\n",
              "      <td>984504651</td>\n",
              "      <td>50000</td>\n",
              "      <td>46367.41</td>\n",
              "      <td>2016-01-16T09:53:15</td>\n",
              "      <td>450.74</td>\n",
              "      <td>Planet Fitness #849960</td>\n",
              "      <td>US</td>\n",
              "      <td>US</td>\n",
              "      <td>05</td>\n",
              "      <td>01</td>\n",
              "      <td>health</td>\n",
              "      <td>08/2028</td>\n",
              "      <td>2015-07-27</td>\n",
              "      <td>2015-07-27</td>\n",
              "      <td>640</td>\n",
              "      <td>640</td>\n",
              "      <td>8332</td>\n",
              "      <td>REVERSAL</td>\n",
              "      <td></td>\n",
              "      <td>3632.59</td>\n",
              "      <td></td>\n",
              "      <td></td>\n",
              "      <td></td>\n",
              "      <td>False</td>\n",
              "      <td></td>\n",
              "      <td></td>\n",
              "      <td>False</td>\n",
              "      <td>False</td>\n",
              "      <td>2016-01-16</td>\n",
              "      <td>09:53:15</td>\n",
              "    </tr>\n",
              "    <tr>\n",
              "      <th>200</th>\n",
              "      <td>984504651</td>\n",
              "      <td>984504651</td>\n",
              "      <td>50000</td>\n",
              "      <td>36452.49</td>\n",
              "      <td>2016-02-12T05:10:49</td>\n",
              "      <td>34.92</td>\n",
              "      <td>Golds Gym #747443</td>\n",
              "      <td>US</td>\n",
              "      <td>US</td>\n",
              "      <td>09</td>\n",
              "      <td>01</td>\n",
              "      <td>health</td>\n",
              "      <td>03/2028</td>\n",
              "      <td>2015-07-27</td>\n",
              "      <td>2015-07-27</td>\n",
              "      <td>640</td>\n",
              "      <td>640</td>\n",
              "      <td>8332</td>\n",
              "      <td>REVERSAL</td>\n",
              "      <td></td>\n",
              "      <td>13547.51</td>\n",
              "      <td></td>\n",
              "      <td></td>\n",
              "      <td></td>\n",
              "      <td>False</td>\n",
              "      <td></td>\n",
              "      <td></td>\n",
              "      <td>False</td>\n",
              "      <td>False</td>\n",
              "      <td>2016-02-12</td>\n",
              "      <td>05:10:49</td>\n",
              "    </tr>\n",
              "    <tr>\n",
              "      <th>263</th>\n",
              "      <td>984504651</td>\n",
              "      <td>984504651</td>\n",
              "      <td>50000</td>\n",
              "      <td>26680.99</td>\n",
              "      <td>2016-03-12T06:34:29</td>\n",
              "      <td>118.52</td>\n",
              "      <td>AMC #706324</td>\n",
              "      <td>US</td>\n",
              "      <td>US</td>\n",
              "      <td>02</td>\n",
              "      <td>01</td>\n",
              "      <td>entertainment</td>\n",
              "      <td>10/2024</td>\n",
              "      <td>2015-07-27</td>\n",
              "      <td>2015-07-27</td>\n",
              "      <td>640</td>\n",
              "      <td>640</td>\n",
              "      <td>8332</td>\n",
              "      <td>PURCHASE</td>\n",
              "      <td></td>\n",
              "      <td>23319.01</td>\n",
              "      <td></td>\n",
              "      <td></td>\n",
              "      <td></td>\n",
              "      <td>True</td>\n",
              "      <td></td>\n",
              "      <td></td>\n",
              "      <td>False</td>\n",
              "      <td>False</td>\n",
              "      <td>2016-03-12</td>\n",
              "      <td>06:34:29</td>\n",
              "    </tr>\n",
              "    <tr>\n",
              "      <th>264</th>\n",
              "      <td>984504651</td>\n",
              "      <td>984504651</td>\n",
              "      <td>50000</td>\n",
              "      <td>26562.47</td>\n",
              "      <td>2016-03-12T06:36:41</td>\n",
              "      <td>118.52</td>\n",
              "      <td>AMC #706324</td>\n",
              "      <td>US</td>\n",
              "      <td>US</td>\n",
              "      <td>02</td>\n",
              "      <td>01</td>\n",
              "      <td>entertainment</td>\n",
              "      <td>10/2024</td>\n",
              "      <td>2015-07-27</td>\n",
              "      <td>2015-07-27</td>\n",
              "      <td>640</td>\n",
              "      <td>640</td>\n",
              "      <td>8332</td>\n",
              "      <td>PURCHASE</td>\n",
              "      <td></td>\n",
              "      <td>23437.53</td>\n",
              "      <td></td>\n",
              "      <td></td>\n",
              "      <td></td>\n",
              "      <td>True</td>\n",
              "      <td></td>\n",
              "      <td></td>\n",
              "      <td>False</td>\n",
              "      <td>False</td>\n",
              "      <td>2016-03-12</td>\n",
              "      <td>06:36:41</td>\n",
              "    </tr>\n",
              "    <tr>\n",
              "      <th>...</th>\n",
              "      <td>...</td>\n",
              "      <td>...</td>\n",
              "      <td>...</td>\n",
              "      <td>...</td>\n",
              "      <td>...</td>\n",
              "      <td>...</td>\n",
              "      <td>...</td>\n",
              "      <td>...</td>\n",
              "      <td>...</td>\n",
              "      <td>...</td>\n",
              "      <td>...</td>\n",
              "      <td>...</td>\n",
              "      <td>...</td>\n",
              "      <td>...</td>\n",
              "      <td>...</td>\n",
              "      <td>...</td>\n",
              "      <td>...</td>\n",
              "      <td>...</td>\n",
              "      <td>...</td>\n",
              "      <td>...</td>\n",
              "      <td>...</td>\n",
              "      <td>...</td>\n",
              "      <td>...</td>\n",
              "      <td>...</td>\n",
              "      <td>...</td>\n",
              "      <td>...</td>\n",
              "      <td>...</td>\n",
              "      <td>...</td>\n",
              "      <td>...</td>\n",
              "      <td>...</td>\n",
              "      <td>...</td>\n",
              "    </tr>\n",
              "    <tr>\n",
              "      <th>786270</th>\n",
              "      <td>732852505</td>\n",
              "      <td>732852505</td>\n",
              "      <td>50000</td>\n",
              "      <td>48811.18</td>\n",
              "      <td>2016-02-26T19:30:27</td>\n",
              "      <td>0.00</td>\n",
              "      <td>Lyft</td>\n",
              "      <td>US</td>\n",
              "      <td>US</td>\n",
              "      <td>05</td>\n",
              "      <td>01</td>\n",
              "      <td>rideshare</td>\n",
              "      <td>04/2029</td>\n",
              "      <td>2012-08-23</td>\n",
              "      <td>2012-08-23</td>\n",
              "      <td>939</td>\n",
              "      <td>939</td>\n",
              "      <td>3388</td>\n",
              "      <td>ADDRESS_VERIFICATION</td>\n",
              "      <td></td>\n",
              "      <td>1188.82</td>\n",
              "      <td></td>\n",
              "      <td></td>\n",
              "      <td></td>\n",
              "      <td>False</td>\n",
              "      <td></td>\n",
              "      <td></td>\n",
              "      <td>False</td>\n",
              "      <td>False</td>\n",
              "      <td>2016-02-26</td>\n",
              "      <td>19:30:27</td>\n",
              "    </tr>\n",
              "    <tr>\n",
              "      <th>786286</th>\n",
              "      <td>732852505</td>\n",
              "      <td>732852505</td>\n",
              "      <td>50000</td>\n",
              "      <td>49971.30</td>\n",
              "      <td>2016-05-03T03:15:51</td>\n",
              "      <td>19.79</td>\n",
              "      <td>Uber</td>\n",
              "      <td>US</td>\n",
              "      <td>US</td>\n",
              "      <td>05</td>\n",
              "      <td>01</td>\n",
              "      <td>rideshare</td>\n",
              "      <td>04/2026</td>\n",
              "      <td>2012-08-23</td>\n",
              "      <td>2012-08-23</td>\n",
              "      <td>939</td>\n",
              "      <td>939</td>\n",
              "      <td>3388</td>\n",
              "      <td>PURCHASE</td>\n",
              "      <td></td>\n",
              "      <td>28.70</td>\n",
              "      <td></td>\n",
              "      <td></td>\n",
              "      <td></td>\n",
              "      <td>False</td>\n",
              "      <td></td>\n",
              "      <td></td>\n",
              "      <td>False</td>\n",
              "      <td>False</td>\n",
              "      <td>2016-05-03</td>\n",
              "      <td>03:15:51</td>\n",
              "    </tr>\n",
              "    <tr>\n",
              "      <th>786293</th>\n",
              "      <td>732852505</td>\n",
              "      <td>732852505</td>\n",
              "      <td>50000</td>\n",
              "      <td>49004.69</td>\n",
              "      <td>2016-05-24T17:06:01</td>\n",
              "      <td>111.11</td>\n",
              "      <td>Uber</td>\n",
              "      <td>US</td>\n",
              "      <td>US</td>\n",
              "      <td>05</td>\n",
              "      <td>01</td>\n",
              "      <td>rideshare</td>\n",
              "      <td>10/2023</td>\n",
              "      <td>2012-08-23</td>\n",
              "      <td>2012-08-23</td>\n",
              "      <td>939</td>\n",
              "      <td>939</td>\n",
              "      <td>3388</td>\n",
              "      <td>PURCHASE</td>\n",
              "      <td></td>\n",
              "      <td>995.31</td>\n",
              "      <td></td>\n",
              "      <td></td>\n",
              "      <td></td>\n",
              "      <td>False</td>\n",
              "      <td></td>\n",
              "      <td></td>\n",
              "      <td>False</td>\n",
              "      <td>False</td>\n",
              "      <td>2016-05-24</td>\n",
              "      <td>17:06:01</td>\n",
              "    </tr>\n",
              "    <tr>\n",
              "      <th>786311</th>\n",
              "      <td>732852505</td>\n",
              "      <td>732852505</td>\n",
              "      <td>50000</td>\n",
              "      <td>49396.51</td>\n",
              "      <td>2016-07-22T01:31:22</td>\n",
              "      <td>225.77</td>\n",
              "      <td>Uber</td>\n",
              "      <td>US</td>\n",
              "      <td>US</td>\n",
              "      <td>09</td>\n",
              "      <td>01</td>\n",
              "      <td>rideshare</td>\n",
              "      <td>02/2025</td>\n",
              "      <td>2012-08-23</td>\n",
              "      <td>2012-08-23</td>\n",
              "      <td>936</td>\n",
              "      <td>937</td>\n",
              "      <td>3783</td>\n",
              "      <td>PURCHASE</td>\n",
              "      <td></td>\n",
              "      <td>603.49</td>\n",
              "      <td></td>\n",
              "      <td></td>\n",
              "      <td></td>\n",
              "      <td>False</td>\n",
              "      <td></td>\n",
              "      <td></td>\n",
              "      <td>False</td>\n",
              "      <td>False</td>\n",
              "      <td>2016-07-22</td>\n",
              "      <td>01:31:22</td>\n",
              "    </tr>\n",
              "    <tr>\n",
              "      <th>786320</th>\n",
              "      <td>732852505</td>\n",
              "      <td>732852505</td>\n",
              "      <td>50000</td>\n",
              "      <td>49585.18</td>\n",
              "      <td>2016-08-29T05:20:14</td>\n",
              "      <td>53.25</td>\n",
              "      <td>Uber</td>\n",
              "      <td>US</td>\n",
              "      <td>US</td>\n",
              "      <td>05</td>\n",
              "      <td>08</td>\n",
              "      <td>rideshare</td>\n",
              "      <td>11/2025</td>\n",
              "      <td>2012-08-23</td>\n",
              "      <td>2012-08-23</td>\n",
              "      <td>936</td>\n",
              "      <td>936</td>\n",
              "      <td>3783</td>\n",
              "      <td>PURCHASE</td>\n",
              "      <td></td>\n",
              "      <td>414.82</td>\n",
              "      <td></td>\n",
              "      <td></td>\n",
              "      <td></td>\n",
              "      <td>False</td>\n",
              "      <td></td>\n",
              "      <td></td>\n",
              "      <td>False</td>\n",
              "      <td>False</td>\n",
              "      <td>2016-08-29</td>\n",
              "      <td>05:20:14</td>\n",
              "    </tr>\n",
              "  </tbody>\n",
              "</table>\n",
              "<p>63251 rows × 31 columns</p>\n",
              "</div>\n",
              "      <button class=\"colab-df-convert\" onclick=\"convertToInteractive('df-c269f1a7-6a78-4201-8d8c-f3658790cbd4')\"\n",
              "              title=\"Convert this dataframe to an interactive table.\"\n",
              "              style=\"display:none;\">\n",
              "        \n",
              "  <svg xmlns=\"http://www.w3.org/2000/svg\" height=\"24px\"viewBox=\"0 0 24 24\"\n",
              "       width=\"24px\">\n",
              "    <path d=\"M0 0h24v24H0V0z\" fill=\"none\"/>\n",
              "    <path d=\"M18.56 5.44l.94 2.06.94-2.06 2.06-.94-2.06-.94-.94-2.06-.94 2.06-2.06.94zm-11 1L8.5 8.5l.94-2.06 2.06-.94-2.06-.94L8.5 2.5l-.94 2.06-2.06.94zm10 10l.94 2.06.94-2.06 2.06-.94-2.06-.94-.94-2.06-.94 2.06-2.06.94z\"/><path d=\"M17.41 7.96l-1.37-1.37c-.4-.4-.92-.59-1.43-.59-.52 0-1.04.2-1.43.59L10.3 9.45l-7.72 7.72c-.78.78-.78 2.05 0 2.83L4 21.41c.39.39.9.59 1.41.59.51 0 1.02-.2 1.41-.59l7.78-7.78 2.81-2.81c.8-.78.8-2.07 0-2.86zM5.41 20L4 18.59l7.72-7.72 1.47 1.35L5.41 20z\"/>\n",
              "  </svg>\n",
              "      </button>\n",
              "      \n",
              "  <style>\n",
              "    .colab-df-container {\n",
              "      display:flex;\n",
              "      flex-wrap:wrap;\n",
              "      gap: 12px;\n",
              "    }\n",
              "\n",
              "    .colab-df-convert {\n",
              "      background-color: #E8F0FE;\n",
              "      border: none;\n",
              "      border-radius: 50%;\n",
              "      cursor: pointer;\n",
              "      display: none;\n",
              "      fill: #1967D2;\n",
              "      height: 32px;\n",
              "      padding: 0 0 0 0;\n",
              "      width: 32px;\n",
              "    }\n",
              "\n",
              "    .colab-df-convert:hover {\n",
              "      background-color: #E2EBFA;\n",
              "      box-shadow: 0px 1px 2px rgba(60, 64, 67, 0.3), 0px 1px 3px 1px rgba(60, 64, 67, 0.15);\n",
              "      fill: #174EA6;\n",
              "    }\n",
              "\n",
              "    [theme=dark] .colab-df-convert {\n",
              "      background-color: #3B4455;\n",
              "      fill: #D2E3FC;\n",
              "    }\n",
              "\n",
              "    [theme=dark] .colab-df-convert:hover {\n",
              "      background-color: #434B5C;\n",
              "      box-shadow: 0px 1px 3px 1px rgba(0, 0, 0, 0.15);\n",
              "      filter: drop-shadow(0px 1px 2px rgba(0, 0, 0, 0.3));\n",
              "      fill: #FFFFFF;\n",
              "    }\n",
              "  </style>\n",
              "\n",
              "      <script>\n",
              "        const buttonEl =\n",
              "          document.querySelector('#df-c269f1a7-6a78-4201-8d8c-f3658790cbd4 button.colab-df-convert');\n",
              "        buttonEl.style.display =\n",
              "          google.colab.kernel.accessAllowed ? 'block' : 'none';\n",
              "\n",
              "        async function convertToInteractive(key) {\n",
              "          const element = document.querySelector('#df-c269f1a7-6a78-4201-8d8c-f3658790cbd4');\n",
              "          const dataTable =\n",
              "            await google.colab.kernel.invokeFunction('convertToInteractive',\n",
              "                                                     [key], {});\n",
              "          if (!dataTable) return;\n",
              "\n",
              "          const docLinkHtml = 'Like what you see? Visit the ' +\n",
              "            '<a target=\"_blank\" href=https://colab.research.google.com/notebooks/data_table.ipynb>data table notebook</a>'\n",
              "            + ' to learn more about interactive tables.';\n",
              "          element.innerHTML = '';\n",
              "          dataTable['output_type'] = 'display_data';\n",
              "          await google.colab.output.renderOutput(dataTable, element);\n",
              "          const docLink = document.createElement('div');\n",
              "          docLink.innerHTML = docLinkHtml;\n",
              "          element.appendChild(docLink);\n",
              "        }\n",
              "      </script>\n",
              "    </div>\n",
              "  </div>\n",
              "  "
            ],
            "text/plain": [
              "        accountNumber  customerId  creditLimit  ...  isFraud        Date      Time\n",
              "39          574788567   574788567         2500  ...    False  2016-05-24  01:38:03\n",
              "133         984504651   984504651        50000  ...    False  2016-01-16  09:53:15\n",
              "200         984504651   984504651        50000  ...    False  2016-02-12  05:10:49\n",
              "263         984504651   984504651        50000  ...    False  2016-03-12  06:34:29\n",
              "264         984504651   984504651        50000  ...    False  2016-03-12  06:36:41\n",
              "...               ...         ...          ...  ...      ...         ...       ...\n",
              "786270      732852505   732852505        50000  ...    False  2016-02-26  19:30:27\n",
              "786286      732852505   732852505        50000  ...    False  2016-05-03  03:15:51\n",
              "786293      732852505   732852505        50000  ...    False  2016-05-24  17:06:01\n",
              "786311      732852505   732852505        50000  ...    False  2016-07-22  01:31:22\n",
              "786320      732852505   732852505        50000  ...    False  2016-08-29  05:20:14\n",
              "\n",
              "[63251 rows x 31 columns]"
            ]
          },
          "metadata": {},
          "execution_count": 54
        }
      ]
    },
    {
      "cell_type": "markdown",
      "source": [
        "## This way we can identify multi-swipe transactions \n",
        "\n"
      ],
      "metadata": {
        "id": "Z3rdTyMKUT_W"
      }
    },
    {
      "cell_type": "markdown",
      "source": [
        "1. We can identify duplicate transactions from the data set using duplicated() function on the transaction amount. (We can check the merchant name to be sure that it is a same purchase). \n",
        "2. Once we get that we can see the date and time by splitting the transactionDateTime column into date and time. \n",
        "\n",
        "> If multiple transactions happen within short duration we can name them multi-swipe. We can get the first occurance and similarly the last occurance. \n",
        "1. If the duration between first and last occurance is with in a threshold then we can term them as multi-swipe transactions. \n",
        "2. Else we can term them as reversals\n",
        "\n",
        "### Conclusions\n",
        "There are some transactions where reversal happened after quite sometime. We need to carefully identify them as they can be repeat purchases.\n",
        "\n",
        "There are some reversals that happened from the transactions before date. They might not get captured.\n"
      ],
      "metadata": {
        "id": "WvOipz8QcxPd"
      }
    },
    {
      "cell_type": "code",
      "source": [
        "# Test case to build the code\n",
        "from datetime import datetime\n",
        "import string\n",
        "date1 = datetime.strptime(('2016-12-07T16:34:04').replace('T', ' '), '%Y-%m-%d %H:%M:%S').date()\n",
        "date2 = datetime.strptime(('2016-12-14T10:00:35').replace('T', ' '), '%Y-%m-%d %H:%M:%S').date()\n",
        "\n",
        "print(date1==date2)"
      ],
      "metadata": {
        "colab": {
          "base_uri": "https://localhost:8080/"
        },
        "id": "Fyx9UJBe-E2H",
        "outputId": "a22cb126-5c76-4e3d-d72f-2d81ffc68149"
      },
      "execution_count": null,
      "outputs": [
        {
          "output_type": "stream",
          "name": "stdout",
          "text": [
            "False\n"
          ]
        }
      ]
    },
    {
      "cell_type": "code",
      "source": [
        "data_rev.head(3)"
      ],
      "metadata": {
        "colab": {
          "base_uri": "https://localhost:8080/",
          "height": 224
        },
        "id": "tQPxzjf85lrk",
        "outputId": "d9a13806-6351-42b0-fc35-e71204218f42"
      },
      "execution_count": null,
      "outputs": [
        {
          "output_type": "execute_result",
          "data": {
            "text/html": [
              "\n",
              "  <div id=\"df-711b9b1c-205a-4b27-9b14-2a7812e95716\">\n",
              "    <div class=\"colab-df-container\">\n",
              "      <div>\n",
              "<style scoped>\n",
              "    .dataframe tbody tr th:only-of-type {\n",
              "        vertical-align: middle;\n",
              "    }\n",
              "\n",
              "    .dataframe tbody tr th {\n",
              "        vertical-align: top;\n",
              "    }\n",
              "\n",
              "    .dataframe thead th {\n",
              "        text-align: right;\n",
              "    }\n",
              "</style>\n",
              "<table border=\"1\" class=\"dataframe\">\n",
              "  <thead>\n",
              "    <tr style=\"text-align: right;\">\n",
              "      <th></th>\n",
              "      <th>accountNumber</th>\n",
              "      <th>customerId</th>\n",
              "      <th>creditLimit</th>\n",
              "      <th>availableMoney</th>\n",
              "      <th>transactionDateTime</th>\n",
              "      <th>transactionAmount</th>\n",
              "      <th>merchantName</th>\n",
              "      <th>acqCountry</th>\n",
              "      <th>merchantCountryCode</th>\n",
              "      <th>posEntryMode</th>\n",
              "      <th>posConditionCode</th>\n",
              "      <th>merchantCategoryCode</th>\n",
              "      <th>currentExpDate</th>\n",
              "      <th>accountOpenDate</th>\n",
              "      <th>dateOfLastAddressChange</th>\n",
              "      <th>cardCVV</th>\n",
              "      <th>enteredCVV</th>\n",
              "      <th>cardLast4Digits</th>\n",
              "      <th>transactionType</th>\n",
              "      <th>echoBuffer</th>\n",
              "      <th>currentBalance</th>\n",
              "      <th>merchantCity</th>\n",
              "      <th>merchantState</th>\n",
              "      <th>merchantZip</th>\n",
              "      <th>cardPresent</th>\n",
              "      <th>posOnPremises</th>\n",
              "      <th>recurringAuthInd</th>\n",
              "      <th>expirationDateKeyInMatch</th>\n",
              "      <th>isFraud</th>\n",
              "    </tr>\n",
              "  </thead>\n",
              "  <tbody>\n",
              "    <tr>\n",
              "      <th>39</th>\n",
              "      <td>574788567</td>\n",
              "      <td>574788567</td>\n",
              "      <td>2500</td>\n",
              "      <td>2200.98</td>\n",
              "      <td>2016-05-24T01:38:03</td>\n",
              "      <td>215.13</td>\n",
              "      <td>Convenient Tire</td>\n",
              "      <td>US</td>\n",
              "      <td>US</td>\n",
              "      <td>09</td>\n",
              "      <td>01</td>\n",
              "      <td>auto</td>\n",
              "      <td>10/2021</td>\n",
              "      <td>2015-10-13</td>\n",
              "      <td>2015-10-13</td>\n",
              "      <td>206</td>\n",
              "      <td>206</td>\n",
              "      <td>8522</td>\n",
              "      <td>REVERSAL</td>\n",
              "      <td></td>\n",
              "      <td>299.02</td>\n",
              "      <td></td>\n",
              "      <td></td>\n",
              "      <td></td>\n",
              "      <td>True</td>\n",
              "      <td></td>\n",
              "      <td></td>\n",
              "      <td>False</td>\n",
              "      <td>False</td>\n",
              "    </tr>\n",
              "    <tr>\n",
              "      <th>73</th>\n",
              "      <td>574788567</td>\n",
              "      <td>574788567</td>\n",
              "      <td>2500</td>\n",
              "      <td>2432.72</td>\n",
              "      <td>2016-10-07T10:23:57</td>\n",
              "      <td>3.87</td>\n",
              "      <td>Eazy Repair</td>\n",
              "      <td>US</td>\n",
              "      <td>US</td>\n",
              "      <td>05</td>\n",
              "      <td>01</td>\n",
              "      <td>auto</td>\n",
              "      <td>10/2022</td>\n",
              "      <td>2015-10-13</td>\n",
              "      <td>2015-10-13</td>\n",
              "      <td>579</td>\n",
              "      <td>579</td>\n",
              "      <td>4219</td>\n",
              "      <td>REVERSAL</td>\n",
              "      <td></td>\n",
              "      <td>67.28</td>\n",
              "      <td></td>\n",
              "      <td></td>\n",
              "      <td></td>\n",
              "      <td>True</td>\n",
              "      <td></td>\n",
              "      <td></td>\n",
              "      <td>False</td>\n",
              "      <td>False</td>\n",
              "    </tr>\n",
              "    <tr>\n",
              "      <th>101</th>\n",
              "      <td>924729945</td>\n",
              "      <td>924729945</td>\n",
              "      <td>50000</td>\n",
              "      <td>49831.43</td>\n",
              "      <td>2016-10-19T14:01:45</td>\n",
              "      <td>168.57</td>\n",
              "      <td>discount.com</td>\n",
              "      <td>US</td>\n",
              "      <td>US</td>\n",
              "      <td>05</td>\n",
              "      <td>01</td>\n",
              "      <td>online_retail</td>\n",
              "      <td>11/2024</td>\n",
              "      <td>2014-07-25</td>\n",
              "      <td>2014-07-25</td>\n",
              "      <td>205</td>\n",
              "      <td>265</td>\n",
              "      <td>9459</td>\n",
              "      <td>REVERSAL</td>\n",
              "      <td></td>\n",
              "      <td>168.57</td>\n",
              "      <td></td>\n",
              "      <td></td>\n",
              "      <td></td>\n",
              "      <td>False</td>\n",
              "      <td></td>\n",
              "      <td></td>\n",
              "      <td>False</td>\n",
              "      <td>False</td>\n",
              "    </tr>\n",
              "  </tbody>\n",
              "</table>\n",
              "</div>\n",
              "      <button class=\"colab-df-convert\" onclick=\"convertToInteractive('df-711b9b1c-205a-4b27-9b14-2a7812e95716')\"\n",
              "              title=\"Convert this dataframe to an interactive table.\"\n",
              "              style=\"display:none;\">\n",
              "        \n",
              "  <svg xmlns=\"http://www.w3.org/2000/svg\" height=\"24px\"viewBox=\"0 0 24 24\"\n",
              "       width=\"24px\">\n",
              "    <path d=\"M0 0h24v24H0V0z\" fill=\"none\"/>\n",
              "    <path d=\"M18.56 5.44l.94 2.06.94-2.06 2.06-.94-2.06-.94-.94-2.06-.94 2.06-2.06.94zm-11 1L8.5 8.5l.94-2.06 2.06-.94-2.06-.94L8.5 2.5l-.94 2.06-2.06.94zm10 10l.94 2.06.94-2.06 2.06-.94-2.06-.94-.94-2.06-.94 2.06-2.06.94z\"/><path d=\"M17.41 7.96l-1.37-1.37c-.4-.4-.92-.59-1.43-.59-.52 0-1.04.2-1.43.59L10.3 9.45l-7.72 7.72c-.78.78-.78 2.05 0 2.83L4 21.41c.39.39.9.59 1.41.59.51 0 1.02-.2 1.41-.59l7.78-7.78 2.81-2.81c.8-.78.8-2.07 0-2.86zM5.41 20L4 18.59l7.72-7.72 1.47 1.35L5.41 20z\"/>\n",
              "  </svg>\n",
              "      </button>\n",
              "      \n",
              "  <style>\n",
              "    .colab-df-container {\n",
              "      display:flex;\n",
              "      flex-wrap:wrap;\n",
              "      gap: 12px;\n",
              "    }\n",
              "\n",
              "    .colab-df-convert {\n",
              "      background-color: #E8F0FE;\n",
              "      border: none;\n",
              "      border-radius: 50%;\n",
              "      cursor: pointer;\n",
              "      display: none;\n",
              "      fill: #1967D2;\n",
              "      height: 32px;\n",
              "      padding: 0 0 0 0;\n",
              "      width: 32px;\n",
              "    }\n",
              "\n",
              "    .colab-df-convert:hover {\n",
              "      background-color: #E2EBFA;\n",
              "      box-shadow: 0px 1px 2px rgba(60, 64, 67, 0.3), 0px 1px 3px 1px rgba(60, 64, 67, 0.15);\n",
              "      fill: #174EA6;\n",
              "    }\n",
              "\n",
              "    [theme=dark] .colab-df-convert {\n",
              "      background-color: #3B4455;\n",
              "      fill: #D2E3FC;\n",
              "    }\n",
              "\n",
              "    [theme=dark] .colab-df-convert:hover {\n",
              "      background-color: #434B5C;\n",
              "      box-shadow: 0px 1px 3px 1px rgba(0, 0, 0, 0.15);\n",
              "      filter: drop-shadow(0px 1px 2px rgba(0, 0, 0, 0.3));\n",
              "      fill: #FFFFFF;\n",
              "    }\n",
              "  </style>\n",
              "\n",
              "      <script>\n",
              "        const buttonEl =\n",
              "          document.querySelector('#df-711b9b1c-205a-4b27-9b14-2a7812e95716 button.colab-df-convert');\n",
              "        buttonEl.style.display =\n",
              "          google.colab.kernel.accessAllowed ? 'block' : 'none';\n",
              "\n",
              "        async function convertToInteractive(key) {\n",
              "          const element = document.querySelector('#df-711b9b1c-205a-4b27-9b14-2a7812e95716');\n",
              "          const dataTable =\n",
              "            await google.colab.kernel.invokeFunction('convertToInteractive',\n",
              "                                                     [key], {});\n",
              "          if (!dataTable) return;\n",
              "\n",
              "          const docLinkHtml = 'Like what you see? Visit the ' +\n",
              "            '<a target=\"_blank\" href=https://colab.research.google.com/notebooks/data_table.ipynb>data table notebook</a>'\n",
              "            + ' to learn more about interactive tables.';\n",
              "          element.innerHTML = '';\n",
              "          dataTable['output_type'] = 'display_data';\n",
              "          await google.colab.output.renderOutput(dataTable, element);\n",
              "          const docLink = document.createElement('div');\n",
              "          docLink.innerHTML = docLinkHtml;\n",
              "          element.appendChild(docLink);\n",
              "        }\n",
              "      </script>\n",
              "    </div>\n",
              "  </div>\n",
              "  "
            ],
            "text/plain": [
              "     accountNumber  customerId  ...  expirationDateKeyInMatch  isFraud\n",
              "39       574788567   574788567  ...                     False    False\n",
              "73       574788567   574788567  ...                     False    False\n",
              "101      924729945   924729945  ...                     False    False\n",
              "\n",
              "[3 rows x 29 columns]"
            ]
          },
          "metadata": {},
          "execution_count": 56
        }
      ]
    },
    {
      "cell_type": "markdown",
      "source": [
        "# Question 4: Model\n"
      ],
      "metadata": {
        "id": "4eQbaPEVK-l5"
      }
    },
    {
      "cell_type": "markdown",
      "source": [
        "\n",
        "Fraud is a problem for any bank. Fraud can take many forms, whether it is someone stealing a single credit card, to large batches of stolen credit card numbers being used on the web, or even a mass compromise of credit card numbers stolen from a merchant via tools like credit card skimming devices.\n",
        "\n",
        "\n",
        "1.   Each of the transactions in the dataset has a field called isFraud. Please build a predictive model to determine whether a given transaction will be fraudulent or not. Use as much of the data as you like (or all of it).\n",
        "2.   Provide an estimate of performance using an appropriate sample, and show your work.\n",
        "3. Please explain your methodology (modeling algorithm/method used and why, what features/data you found useful, what questions you have, and what you would do next with more time)"
      ],
      "metadata": {
        "id": "-ukq5Gc1LmjP"
      }
    },
    {
      "cell_type": "code",
      "source": [
        "# plotting graph\n",
        "plt.figure()\n",
        "sns.countplot(data=data, x='isFraud')\n",
        "plt.xlabel('isFraud')\n",
        "plt.ylabel('No. of Records')\n",
        "#plt.yscale('log')\n",
        "plt.title('Fraud Cases')\n",
        "\n",
        "#counting the value\n",
        "data['isFraud'].value_counts()"
      ],
      "metadata": {
        "colab": {
          "base_uri": "https://localhost:8080/",
          "height": 346
        },
        "id": "MoxLiPfct4bA",
        "outputId": "05d23ad7-417d-4a2b-8076-72b15b5182cf"
      },
      "execution_count": null,
      "outputs": [
        {
          "output_type": "execute_result",
          "data": {
            "text/plain": [
              "False    773946\n",
              "True      12417\n",
              "Name: isFraud, dtype: int64"
            ]
          },
          "metadata": {},
          "execution_count": 150
        },
        {
          "output_type": "display_data",
          "data": {
            "image/png": "[encoded data removed]",
            "text/plain": [
              "<Figure size 432x288 with 1 Axes>"
            ]
          },
          "metadata": {
            "needs_background": "light"
          }
        }
      ]
    },
    {
      "cell_type": "markdown",
      "source": [
        "**Observation:** Number of fraudulent transactions are very low. This makes it is extremely had to model. Data Augmentation or techniques like SMOOTE might help."
      ],
      "metadata": {
        "id": "SRm6p7C6A8jD"
      }
    },
    {
      "cell_type": "code",
      "source": [
        "from numpy.ma.core import count\n",
        "fraud = data[data['isFraud'] ==True]\n",
        "most_fraud_account = fraud['accountNumber'].value_counts().head(10)\n",
        "\n",
        "plt.figure()\n",
        "\n",
        "sns.barplot(y=list(range(10)), x=most_fraud_account.values, orient='h')\n",
        "plt.yticks(ticks=list(range(10)), labels=most_fraud_account.index.tolist())\n",
        "plt.ylabel('Account Number')\n",
        "plt.xlabel('Fraud Transactions')\n",
        "plt.title('Top 10 Accounts with the Most Fraud Transactions')"
      ],
      "metadata": {
        "colab": {
          "base_uri": "https://localhost:8080/",
          "height": 312
        },
        "id": "cA7B_ZNNDEEK",
        "outputId": "b7836b64-d06c-47f0-9b36-c59f5e2ec22f"
      },
      "execution_count": null,
      "outputs": [
        {
          "output_type": "execute_result",
          "data": {
            "text/plain": [
              "Text(0.5, 1.0, 'Top 10 Accounts with the Most Fraud Transactions')"
            ]
          },
          "metadata": {},
          "execution_count": 159
        },
        {
          "output_type": "display_data",
          "data": {
            "image/png": "[encoded data removed]",
            "text/plain": [
              "<Figure size 432x288 with 1 Axes>"
            ]
          },
          "metadata": {
            "needs_background": "light"
          }
        }
      ]
    },
    {
      "cell_type": "code",
      "source": [
        "sns.countplot(data=data, x='isFraud', hue='cardPresent')\n",
        "plt.xlabel('Is Fraud')\n",
        "plt.ylabel('Amount of Transactions')\n",
        "plt.title('Relationship between Card Present and Fraudulent Transactions')"
      ],
      "metadata": {
        "colab": {
          "base_uri": "https://localhost:8080/",
          "height": 540
        },
        "id": "F_zdBYv8A666",
        "outputId": "e9fc92a9-0d66-49d1-eaa1-3641658f4894"
      },
      "execution_count": null,
      "outputs": [
        {
          "output_type": "execute_result",
          "data": {
            "text/plain": [
              "accountNumber  customerId  creditLimit  availableMoney  transactionDateTime  transactionAmount  merchantName              acqCountry  merchantCountryCode  posEntryMode  posConditionCode  merchantCategoryCode  currentExpDate  accountOpenDate  dateOfLastAddressChange  cardCVV  enteredCVV  cardLast4Digits  transactionType  echoBuffer  currentBalance  merchantCity  merchantState  merchantZip  cardPresent  posOnPremises  recurringAuthInd  expirationDateKeyInMatch  isFraud\n",
              "100088067      100088067   50000        49734.57        2016-12-26T19:14:46  309.96             South Cafe                US          US                                 01                food                  11/2021         2014-01-09       2014-01-09               546      546         4615             PURCHASE                     265.43                                                    True                                          False                     True       1\n",
              "696060213      696060213   15000        14452.14        2016-08-02T05:44:33  120.13             apple.com                 US          US                   09            01                online_retail         09/2023         2013-06-10       2013-06-10               228      228         1779             PURCHASE                     547.86                                                    False                                         False                     True       1\n",
              "693502825      693502825   2500         506.69          2016-07-12T02:32:46  9.31               Convenient Auto Services  US          US                   05            01                auto                  05/2027         2013-03-19       2016-03-23               240      240         2631             PURCHASE                     1993.31                                                   True                                          False                     True       1\n",
              "                                        536.63          2016-07-11T21:42:12  29.94              Convenient Auto Services  US          US                   09            01                auto                  02/2025         2013-03-19       2016-03-23               240      240         2631             PURCHASE                     1963.37                                                   True                                          False                     True       1\n",
              "                                        549.23          2016-03-02T09:59:07  114.67             Convenient Auto Services  US          US                   09            01                auto                  05/2021         2013-03-19       2013-03-19               391      391         7904             PURCHASE                     1950.77                                                   True                                          False                     True       1\n",
              "                                                                                                                                                                                                                                                                                                                                                                                                                                                                                          ..\n",
              "380680241      380680241   5000         1086.15         2016-12-09T19:13:16  152.55             Fresh Flowers             US          US                   02            01                online_gifts          02/2026         2014-06-21       2016-12-07               869      869         593              PURCHASE                     3913.85                                                   False                                         False                     True       1\n",
              "                                        1089.11         2016-03-16T21:37:58  119.32             Next Day eCards           US          US                   02            01                online_gifts          06/2026         2014-06-21       2016-03-11               869      869         593              PURCHASE                     3910.89                                                   False                                         False                     True       1\n",
              "                                        1093.16         2016-06-13T17:51:27  827.33             Next Day eCards           US          US                   02            01                online_gifts          12/2019         2014-06-21       2016-06-12               869      869         593              PURCHASE                     3906.84                                                   False                                         False                     True       1\n",
              "                                        1105.09         2016-04-08T00:17:31  139.59             Fresh Flowers             US          US                   02            01                online_gifts          01/2030         2014-06-21       2016-04-07               869      869         593              PURCHASE                     3894.91                                                   False                                         False                     True       1\n",
              "999258704      999258704   5000         4609.59         2016-06-26T09:22:02  324.66             oldnavy.com               US          US                   09            01                online_retail         07/2024         2015-12-22       2015-12-22               708      708         3757             PURCHASE                     390.41                                                    False                                         False                     True       1\n",
              "Length: 12417, dtype: int64"
            ]
          },
          "metadata": {},
          "execution_count": 154
        },
        {
          "output_type": "display_data",
          "data": {
            "image/png": "[encoded data removed]",
            "text/plain": [
              "<Figure size 432x288 with 1 Axes>"
            ]
          },
          "metadata": {
            "needs_background": "light"
          }
        }
      ]
    },
    {
      "cell_type": "code",
      "source": [
        "temp = data[data['isFraud']==True]\n",
        "temp['cardPresent'].value_counts\n",
        "\n",
        "sum(fraud['accountNumber'].value_counts().head(20))"
      ],
      "metadata": {
        "colab": {
          "base_uri": "https://localhost:8080/"
        },
        "id": "sda8p1htCzZp",
        "outputId": "a8d3f09f-d9bc-41e1-838c-437409137d9a"
      },
      "execution_count": null,
      "outputs": [
        {
          "output_type": "execute_result",
          "data": {
            "text/plain": [
              "<bound method IndexOpsMixin.value_counts of 694       False\n",
              "971       False\n",
              "1072      False\n",
              "1113      False\n",
              "1321      False\n",
              "          ...  \n",
              "785680    False\n",
              "785713     True\n",
              "785888    False\n",
              "786054    False\n",
              "786112    False\n",
              "Name: cardPresent, Length: 12417, dtype: bool>"
            ]
          },
          "metadata": {},
          "execution_count": 155
        }
      ]
    },
    {
      "cell_type": "markdown",
      "source": [
        "**Observation:** There are very few fradulent transactions with card present "
      ],
      "metadata": {
        "id": "tTjNEsDJDGqy"
      }
    },
    {
      "cell_type": "markdown",
      "source": [
        "# Summary\n",
        "\n",
        "\n",
        "> 1. Total transactions - 786363, out of them fradulent transaction 12417. They account to 1.6%.\n",
        "2. Out of 12417 there are 200 cases where entered CVV did not match with actual CVV 1.6% (Do they add much meaning and should we consider them?)\n",
        "3. There are only 13 transactions with 'transaction type' as blank - not adding much value so we can remove it\n",
        "4. Out of fradulent transactions expirationDateKeyInMatch is fasle for most of them except for a few. There are only 13 entires when expiration key did match.\n",
        "5. There only 1000 transactions out 786363 where expiration key match is true - should we remove expiration key match??\n",
        "6. Does customer ID have significane - can we ignore.\n",
        "\n"
      ],
      "metadata": {
        "id": "hedbV0_HeoS9"
      }
    },
    {
      "cell_type": "code",
      "source": [
        "# Stats for reference\n",
        "# Tx  =  773946 - 12417\n",
        "# CVV =   7015 -  203\n",
        "# EKI =   1000 -  13\n",
        "# ADD =   20169 - 116\n",
        "# rev =   20303 - 337\n",
        "# pur =  745193 - 11950\n",
        "# CP  =  343306 - 3364"
      ],
      "metadata": {
        "id": "6VKmihJgfGbf"
      },
      "execution_count": null,
      "outputs": []
    },
    {
      "cell_type": "markdown",
      "source": [
        "1. By ignoring transaction types other than purchase we only remove 5% of data. Its reasonable to model data based on transaction type. \n",
        "2. Attributes like CVV mismatch, expiration key match does not add much meaning, it is logical to assume that model performance depends on the these features. Will test this hypothesis.\n",
        "3. Attributes like Account number, Customer ID, last 4 digits do not add much meaning to the modelling. So ignoring them.\n",
        "4. Following attributes are relevant- creditLimit,\tavailableMoney,\ttransactionAmount, currentBalance, cardPresent."
      ],
      "metadata": {
        "id": "PFM9sPf9dDCh"
      }
    },
    {
      "cell_type": "code",
      "source": [
        "# Data Processing\n",
        "data = data[data['transactionType'] == \"PURCHASE\"]\n",
        "data.drop([\"accountNumber\", \"customerId\",\"posEntryMode\",\"posConditionCode\",\"transactionDateTime\",\"acqCountry\",\"cardCVV\", \"enteredCVV\",\t\"cardLast4Digits\", \"expirationDateKeyInMatch\", \"merchantCountryCode\",\"merchantName\",\"merchantCategoryCode\",\"currentExpDate\",\"accountOpenDate\",\"dateOfLastAddressChange\",\"transactionType\",\"merchantCity\",\"merchantState\",\"merchantZip\",\"posOnPremises\",\"recurringAuthInd\",\"echoBuffer\"], axis = 1, inplace = True)"
      ],
      "metadata": {
        "id": "S5MZI4QLN8aw",
        "colab": {
          "base_uri": "https://localhost:8080/"
        },
        "outputId": "f796e7a7-3f85-48eb-e381-704d82efe865"
      },
      "execution_count": null,
      "outputs": [
        {
          "output_type": "stream",
          "name": "stderr",
          "text": [
            "/usr/local/lib/python3.7/dist-packages/pandas/core/frame.py:4913: SettingWithCopyWarning: \n",
            "A value is trying to be set on a copy of a slice from a DataFrame\n",
            "\n",
            "See the caveats in the documentation: https://pandas.pydata.org/pandas-docs/stable/user_guide/indexing.html#returning-a-view-versus-a-copy\n",
            "  errors=errors,\n"
          ]
        }
      ]
    },
    {
      "cell_type": "code",
      "source": [
        "data.head()"
      ],
      "metadata": {
        "colab": {
          "base_uri": "https://localhost:8080/",
          "height": 205
        },
        "id": "qywSG3tjf7TY",
        "outputId": "5469654d-757d-4dfb-ce82-fdffcbc8a8c2"
      },
      "execution_count": null,
      "outputs": [
        {
          "output_type": "execute_result",
          "data": {
            "text/html": [
              "\n",
              "  <div id=\"df-6c037745-ccaa-4835-ad43-692df96df48f\">\n",
              "    <div class=\"colab-df-container\">\n",
              "      <div>\n",
              "<style scoped>\n",
              "    .dataframe tbody tr th:only-of-type {\n",
              "        vertical-align: middle;\n",
              "    }\n",
              "\n",
              "    .dataframe tbody tr th {\n",
              "        vertical-align: top;\n",
              "    }\n",
              "\n",
              "    .dataframe thead th {\n",
              "        text-align: right;\n",
              "    }\n",
              "</style>\n",
              "<table border=\"1\" class=\"dataframe\">\n",
              "  <thead>\n",
              "    <tr style=\"text-align: right;\">\n",
              "      <th></th>\n",
              "      <th>creditLimit</th>\n",
              "      <th>availableMoney</th>\n",
              "      <th>transactionAmount</th>\n",
              "      <th>currentBalance</th>\n",
              "      <th>cardPresent</th>\n",
              "      <th>isFraud</th>\n",
              "    </tr>\n",
              "  </thead>\n",
              "  <tbody>\n",
              "    <tr>\n",
              "      <th>0</th>\n",
              "      <td>5000</td>\n",
              "      <td>5000.0</td>\n",
              "      <td>98.55</td>\n",
              "      <td>0.0</td>\n",
              "      <td>False</td>\n",
              "      <td>False</td>\n",
              "    </tr>\n",
              "    <tr>\n",
              "      <th>1</th>\n",
              "      <td>5000</td>\n",
              "      <td>5000.0</td>\n",
              "      <td>74.51</td>\n",
              "      <td>0.0</td>\n",
              "      <td>True</td>\n",
              "      <td>False</td>\n",
              "    </tr>\n",
              "    <tr>\n",
              "      <th>2</th>\n",
              "      <td>5000</td>\n",
              "      <td>5000.0</td>\n",
              "      <td>7.47</td>\n",
              "      <td>0.0</td>\n",
              "      <td>False</td>\n",
              "      <td>False</td>\n",
              "    </tr>\n",
              "    <tr>\n",
              "      <th>3</th>\n",
              "      <td>5000</td>\n",
              "      <td>5000.0</td>\n",
              "      <td>7.47</td>\n",
              "      <td>0.0</td>\n",
              "      <td>False</td>\n",
              "      <td>False</td>\n",
              "    </tr>\n",
              "    <tr>\n",
              "      <th>4</th>\n",
              "      <td>5000</td>\n",
              "      <td>5000.0</td>\n",
              "      <td>71.18</td>\n",
              "      <td>0.0</td>\n",
              "      <td>True</td>\n",
              "      <td>False</td>\n",
              "    </tr>\n",
              "  </tbody>\n",
              "</table>\n",
              "</div>\n",
              "      <button class=\"colab-df-convert\" onclick=\"convertToInteractive('df-6c037745-ccaa-4835-ad43-692df96df48f')\"\n",
              "              title=\"Convert this dataframe to an interactive table.\"\n",
              "              style=\"display:none;\">\n",
              "        \n",
              "  <svg xmlns=\"http://www.w3.org/2000/svg\" height=\"24px\"viewBox=\"0 0 24 24\"\n",
              "       width=\"24px\">\n",
              "    <path d=\"M0 0h24v24H0V0z\" fill=\"none\"/>\n",
              "    <path d=\"M18.56 5.44l.94 2.06.94-2.06 2.06-.94-2.06-.94-.94-2.06-.94 2.06-2.06.94zm-11 1L8.5 8.5l.94-2.06 2.06-.94-2.06-.94L8.5 2.5l-.94 2.06-2.06.94zm10 10l.94 2.06.94-2.06 2.06-.94-2.06-.94-.94-2.06-.94 2.06-2.06.94z\"/><path d=\"M17.41 7.96l-1.37-1.37c-.4-.4-.92-.59-1.43-.59-.52 0-1.04.2-1.43.59L10.3 9.45l-7.72 7.72c-.78.78-.78 2.05 0 2.83L4 21.41c.39.39.9.59 1.41.59.51 0 1.02-.2 1.41-.59l7.78-7.78 2.81-2.81c.8-.78.8-2.07 0-2.86zM5.41 20L4 18.59l7.72-7.72 1.47 1.35L5.41 20z\"/>\n",
              "  </svg>\n",
              "      </button>\n",
              "      \n",
              "  <style>\n",
              "    .colab-df-container {\n",
              "      display:flex;\n",
              "      flex-wrap:wrap;\n",
              "      gap: 12px;\n",
              "    }\n",
              "\n",
              "    .colab-df-convert {\n",
              "      background-color: #E8F0FE;\n",
              "      border: none;\n",
              "      border-radius: 50%;\n",
              "      cursor: pointer;\n",
              "      display: none;\n",
              "      fill: #1967D2;\n",
              "      height: 32px;\n",
              "      padding: 0 0 0 0;\n",
              "      width: 32px;\n",
              "    }\n",
              "\n",
              "    .colab-df-convert:hover {\n",
              "      background-color: #E2EBFA;\n",
              "      box-shadow: 0px 1px 2px rgba(60, 64, 67, 0.3), 0px 1px 3px 1px rgba(60, 64, 67, 0.15);\n",
              "      fill: #174EA6;\n",
              "    }\n",
              "\n",
              "    [theme=dark] .colab-df-convert {\n",
              "      background-color: #3B4455;\n",
              "      fill: #D2E3FC;\n",
              "    }\n",
              "\n",
              "    [theme=dark] .colab-df-convert:hover {\n",
              "      background-color: #434B5C;\n",
              "      box-shadow: 0px 1px 3px 1px rgba(0, 0, 0, 0.15);\n",
              "      filter: drop-shadow(0px 1px 2px rgba(0, 0, 0, 0.3));\n",
              "      fill: #FFFFFF;\n",
              "    }\n",
              "  </style>\n",
              "\n",
              "      <script>\n",
              "        const buttonEl =\n",
              "          document.querySelector('#df-6c037745-ccaa-4835-ad43-692df96df48f button.colab-df-convert');\n",
              "        buttonEl.style.display =\n",
              "          google.colab.kernel.accessAllowed ? 'block' : 'none';\n",
              "\n",
              "        async function convertToInteractive(key) {\n",
              "          const element = document.querySelector('#df-6c037745-ccaa-4835-ad43-692df96df48f');\n",
              "          const dataTable =\n",
              "            await google.colab.kernel.invokeFunction('convertToInteractive',\n",
              "                                                     [key], {});\n",
              "          if (!dataTable) return;\n",
              "\n",
              "          const docLinkHtml = 'Like what you see? Visit the ' +\n",
              "            '<a target=\"_blank\" href=https://colab.research.google.com/notebooks/data_table.ipynb>data table notebook</a>'\n",
              "            + ' to learn more about interactive tables.';\n",
              "          element.innerHTML = '';\n",
              "          dataTable['output_type'] = 'display_data';\n",
              "          await google.colab.output.renderOutput(dataTable, element);\n",
              "          const docLink = document.createElement('div');\n",
              "          docLink.innerHTML = docLinkHtml;\n",
              "          element.appendChild(docLink);\n",
              "        }\n",
              "      </script>\n",
              "    </div>\n",
              "  </div>\n",
              "  "
            ],
            "text/plain": [
              "   creditLimit  availableMoney  ...  cardPresent  isFraud\n",
              "0         5000          5000.0  ...        False    False\n",
              "1         5000          5000.0  ...         True    False\n",
              "2         5000          5000.0  ...        False    False\n",
              "3         5000          5000.0  ...        False    False\n",
              "4         5000          5000.0  ...         True    False\n",
              "\n",
              "[5 rows x 6 columns]"
            ]
          },
          "metadata": {},
          "execution_count": 80
        }
      ]
    },
    {
      "cell_type": "code",
      "source": [
        "data[\"cardPresent\"] = data['cardPresent'] * 1\n",
        "data.head()\n",
        "\n",
        "valid = data[data.isFraud == 0]\n",
        "fraud = data[data.isFraud == 1]\n",
        "\n",
        "#checking the count of new variables\n",
        "print(\"Number of Records: {} and Number of Columns: {} for valid\".format(valid.shape[0],valid.shape[1]))\n",
        "print(\"Number of Records: {} and Number of Columns: {} for fraud\".format(fraud.shape[0],fraud.shape[1]))\n",
        "\n",
        "print(\"Statistical Data for Valid Transactions\\n\",valid.transactionAmount.describe(),\"\\n\")\n",
        "print(\"Statistical Data for Fraud Transactions\\n\",fraud.transactionAmount.describe())"
      ],
      "metadata": {
        "colab": {
          "base_uri": "https://localhost:8080/"
        },
        "id": "di-boSRHgikG",
        "outputId": "fe89ae7d-9507-4216-dd1b-1be8f2fd68a0"
      },
      "execution_count": null,
      "outputs": [
        {
          "output_type": "stream",
          "name": "stdout",
          "text": [
            "Number of Records: 733243 and Number of Columns: 6 for valid\n",
            "Number of Records: 11950 and Number of Columns: 6 for fraud\n",
            "Statistical Data for Valid Transactions\n",
            " count    733243.000000\n",
            "mean        139.210027\n",
            "std         146.761288\n",
            "min           0.000000\n",
            "25%          36.670000\n",
            "50%          90.630000\n",
            "75%         193.340000\n",
            "max        2011.540000\n",
            "Name: transactionAmount, dtype: float64 \n",
            "\n",
            "Statistical Data for Fraud Transactions\n",
            " count    11950.000000\n",
            "mean       227.240809\n",
            "std        188.748419\n",
            "min          0.010000\n",
            "25%         88.700000\n",
            "50%        179.105000\n",
            "75%        313.180000\n",
            "max       1608.350000\n",
            "Name: transactionAmount, dtype: float64\n"
          ]
        }
      ]
    },
    {
      "cell_type": "code",
      "source": [
        "# Data Imbalance is huge and needs to be fixed."
      ],
      "metadata": {
        "id": "bwkIFBPQax05"
      },
      "execution_count": null,
      "outputs": []
    },
    {
      "cell_type": "markdown",
      "source": [
        "# Sampling Data"
      ],
      "metadata": {
        "id": "ZcBW_zcMkY3j"
      }
    },
    {
      "cell_type": "code",
      "source": [
        "# Simplest way of sampling is random sampling\n",
        "valid_sample = valid.sample(len(fraud))\n",
        "\n",
        "#concatinating two data frams (valid_sample and fruad) so we have equal number of records. # axis is 0 because we don't want to add data column wise, we want to add it row wise\n",
        "new_df = pd.concat([valid_sample,fraud],axis = 0)\n",
        "\n",
        "# we can confirm the data is random by looking at the index.\n",
        "print(new_df.head(10))\n",
        "\n",
        "print(new_df.tail(10))\n",
        "\n",
        "new_df['isFraud'].value_counts()"
      ],
      "metadata": {
        "colab": {
          "base_uri": "https://localhost:8080/"
        },
        "id": "KVo4lJ0Wi8Sp",
        "outputId": "4bfff393-44ac-4f06-d5ed-2c517dfd9ea3"
      },
      "execution_count": null,
      "outputs": [
        {
          "output_type": "stream",
          "name": "stdout",
          "text": [
            "        creditLimit  availableMoney  ...  cardPresent  isFraud\n",
            "207371         7500         5020.42  ...            1    False\n",
            "140211        50000        40376.16  ...            1    False\n",
            "156522          250           82.43  ...            1    False\n",
            "721191         2500         2080.82  ...            1    False\n",
            "365056        15000         3947.87  ...            0    False\n",
            "445357         7500         6258.31  ...            0    False\n",
            "547060         1000          233.50  ...            1    False\n",
            "448393          250           58.64  ...            0    False\n",
            "434404        15000        14079.13  ...            0    False\n",
            "206844         7500         4739.13  ...            1    False\n",
            "\n",
            "[10 rows x 6 columns]\n",
            "        creditLimit  availableMoney  ...  cardPresent  isFraud\n",
            "785305        50000        12580.54  ...            0     True\n",
            "785306        50000        12188.19  ...            0     True\n",
            "785409        50000        40226.12  ...            0     True\n",
            "785410        50000        40134.91  ...            0     True\n",
            "785482        50000        29198.83  ...            0     True\n",
            "785680         7500         5517.88  ...            0     True\n",
            "785713         7500          764.48  ...            1     True\n",
            "785888          250           61.94  ...            0     True\n",
            "786054        20000        20000.00  ...            0     True\n",
            "786112         2500          340.38  ...            0     True\n",
            "\n",
            "[10 rows x 6 columns]\n"
          ]
        },
        {
          "output_type": "execute_result",
          "data": {
            "text/plain": [
              "False    11950\n",
              "True     11950\n",
              "Name: isFraud, dtype: int64"
            ]
          },
          "metadata": {},
          "execution_count": 71
        }
      ]
    },
    {
      "cell_type": "code",
      "source": [
        "X = new_df.drop(columns='isFraud',axis = 1)\n",
        "Y = new_df['isFraud']\n",
        "\n",
        "#converting true false to 0 1\n",
        "Y = Y*1  "
      ],
      "metadata": {
        "id": "Cv68MbIJjNEg"
      },
      "execution_count": null,
      "outputs": []
    },
    {
      "cell_type": "code",
      "source": [
        "X_train, X_test, Y_train, Y_test = train_test_split(X, Y, test_size = 0.2, stratify= Y, random_state= 2  )\n",
        "print(X.shape,Y_train.shape,X_test.shape)\n",
        "X.info()"
      ],
      "metadata": {
        "id": "4h3bH2dSjNlv",
        "colab": {
          "base_uri": "https://localhost:8080/"
        },
        "outputId": "bf90cd13-a1b6-4481-8242-fc66ea3b7ae8"
      },
      "execution_count": null,
      "outputs": [
        {
          "output_type": "stream",
          "name": "stdout",
          "text": [
            "(23900, 5) (19120,) (4780, 5)\n",
            "<class 'pandas.core.frame.DataFrame'>\n",
            "Int64Index: 23900 entries, 207371 to 786112\n",
            "Data columns (total 5 columns):\n",
            " #   Column             Non-Null Count  Dtype  \n",
            "---  ------             --------------  -----  \n",
            " 0   creditLimit        23900 non-null  int64  \n",
            " 1   availableMoney     23900 non-null  float64\n",
            " 2   transactionAmount  23900 non-null  float64\n",
            " 3   currentBalance     23900 non-null  float64\n",
            " 4   cardPresent        23900 non-null  int64  \n",
            "dtypes: float64(3), int64(2)\n",
            "memory usage: 1.1 MB\n"
          ]
        }
      ]
    },
    {
      "cell_type": "code",
      "source": [
        "model = LogisticRegression()\n",
        "svm_model = SVC()\n",
        "svm_model.fit(X_train, Y_train)\n",
        "model.fit(X_train,Y_train)"
      ],
      "metadata": {
        "colab": {
          "base_uri": "https://localhost:8080/"
        },
        "id": "UEyoCmLLlrIs",
        "outputId": "1fbd7fb1-7eed-49f3-ab31-f57007929d7b"
      },
      "execution_count": null,
      "outputs": [
        {
          "output_type": "execute_result",
          "data": {
            "text/plain": [
              "LogisticRegression()"
            ]
          },
          "metadata": {},
          "execution_count": 211
        }
      ]
    },
    {
      "cell_type": "code",
      "source": [
        "#checking accuracy againt the test data\n",
        "X_test_prediction = model.predict(X_test)\n",
        "testing_data_accuracy = accuracy_score(X_test_prediction, Y_test)\n",
        "\n",
        "print(\"Accuracy of Logistic Regression :\",testing_data_accuracy*100,\"%\")\n"
      ],
      "metadata": {
        "colab": {
          "base_uri": "https://localhost:8080/"
        },
        "id": "89E5JP6wl-lD",
        "outputId": "a52c439b-8018-4fc6-ffee-053d6e281b58"
      },
      "execution_count": null,
      "outputs": [
        {
          "output_type": "stream",
          "name": "stdout",
          "text": [
            "Accuracy of Logistic Regression : 63.38912133891213 %\n"
          ]
        }
      ]
    },
    {
      "cell_type": "code",
      "source": [
        "X_train_prediction_svm = svm_model.predict(X_train)\n",
        "training_data_accuracy_svm = accuracy_score(X_train_prediction_svm, Y_train)\n",
        "print(\"Accuracy of SVM :\",training_data_accuracy_svm*100,'%')"
      ],
      "metadata": {
        "colab": {
          "base_uri": "https://localhost:8080/"
        },
        "id": "FQKIVudrm96S",
        "outputId": "7a71501a-5fae-48dc-f010-5f793cde7dd7"
      },
      "execution_count": null,
      "outputs": [
        {
          "output_type": "stream",
          "name": "stdout",
          "text": [
            "Accuracy of SVM : 56.9560669456067 %\n"
          ]
        }
      ]
    },
    {
      "cell_type": "code",
      "source": [
        "from sklearn.preprocessing import StandardScaler\n",
        "sc = StandardScaler()\n",
        "X_train = sc.fit_transform(X_train)\n",
        "X_test = sc.transform(X_test)"
      ],
      "metadata": {
        "id": "Sxz2naKntvxp"
      },
      "execution_count": null,
      "outputs": []
    },
    {
      "cell_type": "code",
      "source": [
        "from sklearn.metrics import confusion_matrix, accuracy_score\n",
        "classifier = SVC(kernel='linear')\n",
        "classifier.fit(X_train, Y_train)\n",
        "\n",
        "Y_pred = classifier.predict(X_test)\n",
        "cm = confusion_matrix(Y_test, Y_pred)\n",
        "print(cm)\n",
        "accuracy_score(Y_test, Y_pred)\n"
      ],
      "metadata": {
        "colab": {
          "base_uri": "https://localhost:8080/"
        },
        "id": "_lmGcRu_naQ4",
        "outputId": "2c954fd7-0717-4faa-d25e-547d99e16fac"
      },
      "execution_count": null,
      "outputs": [
        {
          "output_type": "stream",
          "name": "stdout",
          "text": [
            "[[1211 1179]\n",
            " [ 636 1754]]\n"
          ]
        },
        {
          "output_type": "execute_result",
          "data": {
            "text/plain": [
              "0.6202928870292888"
            ]
          },
          "metadata": {},
          "execution_count": 13
        }
      ]
    },
    {
      "cell_type": "code",
      "source": [
        "#rfm = RandomForestClassifier(n_estimators=20, max_depth = 5, oob_score=True,n_jobs=-1,random_state=101, max_features=None, min_samples_leaf= 30)\n",
        "rfm = RandomForestClassifier(n_estimators=15, max_depth = 5, min_samples_leaf= 50, random_state=101)\n",
        "\n",
        "rfm.fit(X_train,Y_train)\n",
        "Y_pred_rfm = rfm.predict(X_test)\n",
        "\n",
        "print(\"Accuracy of Random Forest :\",accuracy_score(Y_test, Y_pred_rfm)*100,'%')"
      ],
      "metadata": {
        "colab": {
          "base_uri": "https://localhost:8080/"
        },
        "id": "nsguUmWyrNjS",
        "outputId": "dd7311a8-5650-440a-e968-572a155771e5"
      },
      "execution_count": null,
      "outputs": [
        {
          "output_type": "stream",
          "name": "stdout",
          "text": [
            "Accuracy of Random Forest : 64.76987447698744 %\n"
          ]
        }
      ]
    },
    {
      "cell_type": "code",
      "source": [
        "from xgboost import XGBClassifier\n",
        "XGBmodel = XGBClassifier(max_depth=5, n_estimators=500)\n",
        "XGBmodel.fit(X_train, Y_train)\n",
        "Y_pred_XGB = XGBmodel.predict(X_train)\n",
        "print(\"Accuracy of XGB :\",accuracy_score(Y_train, Y_pred_XGB)*100,'%')"
      ],
      "metadata": {
        "colab": {
          "base_uri": "https://localhost:8080/"
        },
        "id": "UjzNvwRL1foF",
        "outputId": "a050f8ff-c2f5-492c-8550-ff31857d66f0"
      },
      "execution_count": null,
      "outputs": [
        {
          "output_type": "stream",
          "name": "stdout",
          "text": [
            "Accuracy of XGB : 73.4623430962343 %\n"
          ]
        }
      ]
    },
    {
      "cell_type": "markdown",
      "source": [
        "# Imbalance "
      ],
      "metadata": {
        "id": "Iedc41PL9isY"
      }
    },
    {
      "cell_type": "code",
      "source": [
        "#concatinating two data frams (valid and fruad) so we have equal number of records. # axis is 0 because we don't want to add data column wise, we want to add it row wise\n",
        "new_df = pd.concat([valid,fraud],axis = 0)\n",
        "\n",
        "# we can confirm the data is random by looking at the index.\n",
        "print(new_df.head(10))\n",
        "\n",
        "print(new_df.tail(10))\n",
        "\n",
        "new_df['isFraud'].value_counts()"
      ],
      "metadata": {
        "colab": {
          "base_uri": "https://localhost:8080/"
        },
        "id": "bVTSx7_w993z",
        "outputId": "e16eea1e-3eaa-4193-8123-9ac18e62bf4d"
      },
      "execution_count": null,
      "outputs": [
        {
          "output_type": "stream",
          "name": "stdout",
          "text": [
            "   creditLimit  availableMoney  ...  cardPresent  isFraud\n",
            "0         5000         5000.00  ...            0    False\n",
            "1         5000         5000.00  ...            1    False\n",
            "2         5000         5000.00  ...            0    False\n",
            "3         5000         5000.00  ...            0    False\n",
            "4         5000         5000.00  ...            1    False\n",
            "5         5000         5000.00  ...            1    False\n",
            "6         5000         5000.00  ...            1    False\n",
            "7         5000         5000.00  ...            1    False\n",
            "8         5000         4990.63  ...            1    False\n",
            "9         5000         5000.00  ...            1    False\n",
            "\n",
            "[10 rows x 6 columns]\n",
            "        creditLimit  availableMoney  ...  cardPresent  isFraud\n",
            "785305        50000        12580.54  ...            0     True\n",
            "785306        50000        12188.19  ...            0     True\n",
            "785409        50000        40226.12  ...            0     True\n",
            "785410        50000        40134.91  ...            0     True\n",
            "785482        50000        29198.83  ...            0     True\n",
            "785680         7500         5517.88  ...            0     True\n",
            "785713         7500          764.48  ...            1     True\n",
            "785888          250           61.94  ...            0     True\n",
            "786054        20000        20000.00  ...            0     True\n",
            "786112         2500          340.38  ...            0     True\n",
            "\n",
            "[10 rows x 6 columns]\n"
          ]
        },
        {
          "output_type": "execute_result",
          "data": {
            "text/plain": [
              "False    733243\n",
              "True      11950\n",
              "Name: isFraud, dtype: int64"
            ]
          },
          "metadata": {},
          "execution_count": 82
        }
      ]
    },
    {
      "cell_type": "code",
      "source": [
        "X = new_df.drop(columns='isFraud',axis = 1)\n",
        "Y = new_df['isFraud']\n",
        "\n",
        "#converting true false to 0 1\n",
        "Y = Y*1  "
      ],
      "metadata": {
        "id": "7bL0xpc5-Skf"
      },
      "execution_count": null,
      "outputs": []
    },
    {
      "cell_type": "code",
      "source": [
        "X_train, X_test, Y_train, Y_test = train_test_split(X, Y, test_size = 0.2, stratify= Y, random_state= 2  )\n",
        "print(X.shape,Y_train.shape,X_test.shape)\n",
        "X.info()"
      ],
      "metadata": {
        "colab": {
          "base_uri": "https://localhost:8080/"
        },
        "id": "R9Mat_q4-ZwN",
        "outputId": "6239611a-49fb-442c-9845-4accbe71af75"
      },
      "execution_count": null,
      "outputs": [
        {
          "output_type": "stream",
          "name": "stdout",
          "text": [
            "(745193, 5) (596154,) (149039, 5)\n",
            "<class 'pandas.core.frame.DataFrame'>\n",
            "Int64Index: 745193 entries, 0 to 786112\n",
            "Data columns (total 5 columns):\n",
            " #   Column             Non-Null Count   Dtype  \n",
            "---  ------             --------------   -----  \n",
            " 0   creditLimit        745193 non-null  int64  \n",
            " 1   availableMoney     745193 non-null  float64\n",
            " 2   transactionAmount  745193 non-null  float64\n",
            " 3   currentBalance     745193 non-null  float64\n",
            " 4   cardPresent        745193 non-null  int64  \n",
            "dtypes: float64(3), int64(2)\n",
            "memory usage: 34.1 MB\n"
          ]
        }
      ]
    },
    {
      "cell_type": "code",
      "source": [
        "rfm = RandomForestClassifier(n_estimators=15, max_depth = 5, min_samples_leaf= 50, random_state=101)\n",
        "\n",
        "rfm.fit(X_train,Y_train)\n",
        "Y_pred_rfm = rfm.predict(X_test)\n",
        "\n",
        "print(\"Accuracy of Random Forest :\",accuracy_score(Y_test, Y_pred_rfm)*100,'%')\n",
        "# This high accuracy may be accounted to biased data"
      ],
      "metadata": {
        "colab": {
          "base_uri": "https://localhost:8080/"
        },
        "id": "OWby6GP2-fr-",
        "outputId": "a46ce669-092a-4504-f3f5-c3d0c5cc7f0d"
      },
      "execution_count": null,
      "outputs": [
        {
          "output_type": "stream",
          "name": "stdout",
          "text": [
            "Accuracy of Random Forest : 98.3963928904515 %\n"
          ]
        }
      ]
    },
    {
      "cell_type": "code",
      "source": [
        "cm = confusion_matrix(Y_test, Y_pred_rfm)\n",
        "print(cm)\n",
        "accuracy_score(Y_test, Y_pred)"
      ],
      "metadata": {
        "id": "0iXTSPaz-2ia"
      },
      "execution_count": null,
      "outputs": []
    },
    {
      "cell_type": "code",
      "source": [
        "from imblearn.pipeline import Pipeline\n",
        "import matplotlib.pyplot as plt\n",
        "from sklearn.datasets import make_classification\n",
        "from sklearn.model_selection import cross_validate\n",
        "from sklearn.model_selection import RepeatedStratifiedKFold\n",
        "from sklearn.ensemble import AdaBoostClassifier\n",
        "from imblearn.combine import SMOTEENN\n",
        "from imblearn.under_sampling import EditedNearestNeighbours\n",
        "\n",
        "##No Imbalance Handling\n",
        "#Define model\n",
        "model_ori=AdaBoostClassifier()\n",
        "#Define evaluation procedure (here we use Repeated Stratified K-Fold CV)\n",
        "cv_ori=RepeatedStratifiedKFold(n_splits=10, n_repeats=3, random_state=1)\n",
        "#Evaluate model\n",
        "scoring=['accuracy','precision_macro','recall_macro']\n",
        "scores_ori = cross_validate(model_ori, X, Y, scoring=scoring, cv=cv_ori, n_jobs=-1)\n",
        "\n",
        "# summarize performance\n",
        "print('Mean Accuracy: %.4f' % np.mean(scores_ori['test_accuracy']))\n",
        "print('Mean Precision: %.4f' % np.mean(scores_ori['test_precision_macro']))\n",
        "print('Mean Recall: %.4f' % np.mean(scores_ori['test_recall_macro']))"
      ],
      "metadata": {
        "id": "o81fcdzU5crI"
      },
      "execution_count": null,
      "outputs": []
    },
    {
      "cell_type": "code",
      "source": [
        "##Using SMOTE-ENN to balance the data\n",
        "#Define model\n",
        "model=AdaBoostClassifier()\n",
        "#Define SMOTE-ENN\n",
        "resample=SMOTEENN(enn=EditedNearestNeighbours(sampling_strategy='all'))\n",
        "#Define pipeline\n",
        "pipeline=Pipeline(steps=[('r', resample), ('m', model)])\n",
        "#Define evaluation procedure (here we use Repeated Stratified K-Fold CV)\n",
        "cv=RepeatedStratifiedKFold(n_splits=10, n_repeats=3, random_state=1)\n",
        "#Evaluate model\n",
        "scoring=['accuracy','precision_macro','recall_macro']\n",
        "scores = cross_validate(pipeline, X_train, Y_train, scoring=scoring, cv=cv, n_jobs=-1)\n",
        "\n",
        "# summarize performance\n",
        "print('Mean Accuracy: %.4f' % np.mean(scores['test_accuracy']))\n",
        "print('Mean Precision: %.4f' % np.mean(scores['test_precision_macro']))\n",
        "print('Mean Recall: %.4f' % np.mean(scores['test_recall_macro']))"
      ],
      "metadata": {
        "colab": {
          "base_uri": "https://localhost:8080/"
        },
        "id": "j8qBkBWq7L-w",
        "outputId": "cb4e7840-6deb-4a84-93e5-3b8dc7bbc5c9"
      },
      "execution_count": null,
      "outputs": [
        {
          "output_type": "stream",
          "name": "stdout",
          "text": [
            "Mean Accuracy: 0.6518\n",
            "Mean Precision: 0.5099\n",
            "Mean Recall: 0.6435\n"
          ]
        }
      ]
    },
    {
      "cell_type": "code",
      "source": [
        "scores"
      ],
      "metadata": {
        "id": "qdkakvhnOCcr",
        "outputId": "35ace4ba-fafd-4faa-8b75-72c3b7558f7e",
        "colab": {
          "base_uri": "https://localhost:8080/"
        }
      },
      "execution_count": null,
      "outputs": [
        {
          "output_type": "execute_result",
          "data": {
            "text/plain": [
              "{'fit_time': array([91.98044038, 92.13250327, 94.98961091, 96.56101394, 93.76080132,\n",
              "        92.51380515, 92.76805925, 93.23924589, 92.82825565, 91.63023806,\n",
              "        94.3244803 , 94.30865407, 93.27880883, 86.95049405, 87.89850163,\n",
              "        92.50400186, 90.06577373, 92.7004416 , 89.31649637, 92.87411404,\n",
              "        91.30667257, 93.48441315, 89.07447529, 95.93932414, 89.72042823,\n",
              "        93.49241352, 90.81186533, 90.98177242, 88.15246105, 83.85108519]),\n",
              " 'score_time': array([0.73067474, 0.75266147, 0.72205281, 0.69658828, 0.72252584,\n",
              "        0.76399398, 0.68511176, 0.70965004, 0.73720837, 0.73067451,\n",
              "        0.71921968, 0.7326436 , 0.67925143, 0.70558691, 0.71479321,\n",
              "        0.70131278, 0.70756316, 0.67806721, 0.70637512, 0.68277383,\n",
              "        0.67984939, 0.69604492, 0.70379806, 0.68897271, 0.73664331,\n",
              "        0.69728851, 0.71197391, 0.6891377 , 0.69017673, 0.50395441]),\n",
              " 'test_accuracy': array([0.65574678, 0.65042941, 0.65532743, 0.6507649 , 0.64768934,\n",
              "        0.64926612, 0.6516313 , 0.64710224, 0.65582488, 0.65050742,\n",
              "        0.64787976, 0.65261004, 0.6523752 , 0.64970813, 0.65912941,\n",
              "        0.65369454, 0.6553552 , 0.65386228, 0.65337583, 0.6468674 ,\n",
              "        0.65120102, 0.65059716, 0.64650429, 0.65162037, 0.6523526 ,\n",
              "        0.65292292, 0.65468422, 0.65166485, 0.65419777, 0.64919903]),\n",
              " 'test_precision_macro': array([0.51025249, 0.50957416, 0.51002031, 0.51011649, 0.50976021,\n",
              "        0.51021998, 0.50977195, 0.51004699, 0.50993875, 0.50971842,\n",
              "        0.50927907, 0.51020544, 0.5093851 , 0.51041605, 0.51034869,\n",
              "        0.50980046, 0.50952748, 0.51005513, 0.50974992, 0.51073359,\n",
              "        0.51080366, 0.51066915, 0.510472  , 0.50956037, 0.50994711,\n",
              "        0.50923507, 0.50938937, 0.5099141 , 0.50993044, 0.50884964]),\n",
              " 'test_recall_macro': array([0.64756953, 0.63869366, 0.64426951, 0.64658146, 0.64193169,\n",
              "        0.64839231, 0.64136235, 0.64626376, 0.64297882, 0.64079125,\n",
              "        0.63482561, 0.64751907, 0.63556649, 0.65118936, 0.64825944,\n",
              "        0.64138181, 0.63708078, 0.64506847, 0.64070536, 0.6564342 ,\n",
              "        0.65657837, 0.65472805, 0.65264827, 0.63826986, 0.64378683,\n",
              "        0.63327238, 0.63519636, 0.64343735, 0.64318099, 0.62829315])}"
            ]
          },
          "metadata": {},
          "execution_count": 90
        }
      ]
    },
    {
      "cell_type": "code",
      "source": [
        "from imblearn.over_sampling import SMOTE\n",
        "sm = SMOTE(random_state=42)\n",
        "X_res, y_res = sm.fit_resample(X_train, Y_train)"
      ],
      "metadata": {
        "id": "vV0b4pTK7NHm"
      },
      "execution_count": null,
      "outputs": []
    },
    {
      "cell_type": "code",
      "source": [
        "from sklearn.preprocessing import StandardScaler\n",
        "sc = StandardScaler()\n",
        "X_train = sc.fit_transform(X_res)\n",
        "X_test = sc.transform(X_test)"
      ],
      "metadata": {
        "colab": {
          "base_uri": "https://localhost:8080/"
        },
        "id": "sOePZ6lw8bmE",
        "outputId": "8a4b6fe1-c1d2-462b-bfbc-7263d7c4ae02"
      },
      "execution_count": null,
      "outputs": [
        {
          "output_type": "stream",
          "name": "stderr",
          "text": [
            "/usr/local/lib/python3.7/dist-packages/sklearn/base.py:451: UserWarning: X does not have valid feature names, but StandardScaler was fitted with feature names\n",
            "  \"X does not have valid feature names, but\"\n"
          ]
        }
      ]
    },
    {
      "cell_type": "code",
      "source": [
        "rfm = RandomForestClassifier(n_estimators=25, max_depth = 5, min_samples_leaf= 50, random_state=101)\n",
        "\n",
        "rfm.fit(X_res, y_res)\n",
        "Y_pred_rfm = rfm.predict(X_test)\n",
        "\n",
        "print(\"Accuracy of Random Forest :\",accuracy_score(Y_test, Y_pred_rfm)*100,'%')"
      ],
      "metadata": {
        "colab": {
          "base_uri": "https://localhost:8080/"
        },
        "id": "MPDUSq4b7uuu",
        "outputId": "c01fd8fd-b0ef-49ed-9367-477e67fbe079"
      },
      "execution_count": null,
      "outputs": [
        {
          "output_type": "stream",
          "name": "stdout",
          "text": [
            "Accuracy of Random Forest : 62.395748763746404 %\n"
          ]
        }
      ]
    },
    {
      "cell_type": "code",
      "source": [
        ""
      ],
      "metadata": {
        "id": "8vI1-XIJ8J16"
      },
      "execution_count": null,
      "outputs": []
    },
    {
      "cell_type": "markdown",
      "source": [
        "Can we use more attributes??\n",
        "Like posEntryMode and posConditionCode"
      ],
      "metadata": {
        "id": "aDbvEU64a6l_"
      }
    },
    {
      "cell_type": "markdown",
      "source": [
        "# Things I can do if given more time:\n",
        "\n",
        "1. Programmatically download the data instead of using git to clone the repository and unzipping it.\n",
        "2. In Duplicate transactions - could have refined my criteria better to identify reversals and multi-swipes.\n",
        "3. Could have experimented on more attributes that may help identify fraud. Analyze the top 20 fraudlent transactions to get some pattern/behaviour.\n",
        "4. Could have tried some more techniques to identify fraud. I have taken a course on anomaly detection where there is very huge data imbalance and interesting techniques to detect anomalies. Given my packed schedule could not try them out on this dataset :(\n",
        "\n",
        "This project is not my best work but given the limited time (around 8hrs) this is best I could do. "
      ],
      "metadata": {
        "id": "9gEhV93kbYVn"
      }
    }
  ],
  "metadata": {
    "colab": {
      "name": "dsc_C2072009.ipynb",
      "provenance": []
    },
    "kernelspec": {
      "display_name": "Python 3",
      "name": "python3"
    },
    "language_info": {
      "name": "python"
    }
  },
  "nbformat": 4,
  "nbformat_minor": 0
}