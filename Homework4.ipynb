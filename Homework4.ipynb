{
 "cells": [
  {
   "cell_type": "markdown",
   "metadata": {},
   "source": [
    "### Author: Vamsi Tallam\n",
    "### UIN: 432001932"
   ]
  },
  {
   "cell_type": "markdown",
   "metadata": {},
   "source": [
    "#### Task 1\n",
    "\n",
    "1. Create a TfidfVectorizer using the spam files in GP and ham files for kitchen-l and lokay-m from\n",
    "http://www2.aueb.gr/users/ion/data/enron-spam/\n",
    "       a. Hints: os.walk is handy. TfidfVectorizer can take a list of filenames. You can ignore\n",
    "decode errors. I found https://programmerbackpack.com/tf-idf-explained-and-pythonimplementation/ helpful"
   ]
  },
  {
   "cell_type": "code",
   "execution_count": 36,
   "metadata": {
    "collapsed": true
   },
   "outputs": [],
   "source": [
    "import matplotlib.pyplot as plt\n",
    "import numpy as np\n",
    "import pandas as pd\n",
    "import os\n",
    "import time\n",
    "import pickle\n",
    "import seaborn as sns\n",
    "import sys\n",
    "import tarfile\n",
    "import re\n",
    "from string import punctuation\n",
    "from sklearn.feature_extraction.text import TfidfVectorizer\n",
    "from sklearn.ensemble import RandomForestClassifier\n",
    "from sklearn.metrics import accuracy_score\n",
    "from sklearn.metrics import confusion_matrix\n",
    "import matplotlib.pyplot as plt\n",
    "from sklearn import metrics"
   ]
  },
  {
   "cell_type": "code",
   "execution_count": 37,
   "metadata": {
    "collapsed": true
   },
   "outputs": [],
   "source": [
    "# Fetch the files from .tar.gz files\n",
    "# open --> extract all --> close\n",
    "\n",
    "dataset = tarfile.open('GP.tar.gz')\n",
    "dataset.extractall('./Dataset')\n",
    "dataset.close()\n",
    "\n",
    "dataset = tarfile.open('kitchen-l.tar.gz')\n",
    "dataset.extractall('./Dataset')\n",
    "dataset.close()\n",
    "\n",
    "dataset = tarfile.open('lokay-m.tar.gz')\n",
    "dataset.extractall('./Dataset')\n",
    "dataset.close()"
   ]
  },
  {
   "cell_type": "code",
   "execution_count": 137,
   "metadata": {
    "collapsed": true
   },
   "outputs": [],
   "source": [
    "# TfidfVectorizer can take a list of filenames but this is taking time to load as there are a lot of files.\n",
    "# Hence, I have chosen to load data using file open. Quicker and more clearer.\n",
    "\n",
    "# Loading trainig and testing datasets\n",
    "# We want to create filename and its corresponding content, excluding SKIP_FILES.\n",
    "\n",
    "# Labels for spam and ham\n",
    "HAM  = 'notspam'\n",
    "SPAM = 'spam'\n",
    "\n",
    "# Path and labels\n",
    "SOURCES = [ ('/home/vamsi/Desktop/ECEN704/Dataset/GP',        SPAM),\n",
    "            ('/home/vamsi/Desktop/ECEN704/Dataset/kitchen-l',  HAM),\n",
    "            ('/home/vamsi/Desktop/ECEN704/Dataset/lokay-m',    HAM) ]\n",
    "\n",
    "SKIP_FILES = {'cmds'}\n",
    "SPACE =\" \"\n",
    "\n",
    "# To read files \n",
    "def load_files(path, TestFlag):\n",
    "    for root, direc_name, file_names in os.walk(path):\n",
    "        # temp is a boolean to differentiate train from test\n",
    "        temp = (root.find('lokay-m')>0 or root.find('part10')>0 or root.find('part11')>0 or root.find('part12')>0)\n",
    "        if temp == TestFlag:\n",
    "            #print(root)\n",
    "            for path in direc_name:\n",
    "                load_files(os.path.join(root, path), TestFlag)\n",
    "            for file_name in file_names:\n",
    "                if file_name not in SKIP_FILES:\n",
    "                    file_path = os.path.join(root, file_name)\n",
    "                    if os.path.isfile(file_path):\n",
    "                        #print(file_path)\n",
    "                        f = open(file_path, encoding=\"latin-1\") \n",
    "                        #Initalize an empty list, read and append each line of the file\n",
    "                        lines = []\n",
    "                        for line in f:\n",
    "                            lines.append(line)\n",
    "                        #close the file\n",
    "                        f.close()\n",
    "                        content = SPACE.join(lines)\n",
    "                        yield file_path, content\n",
    "\n",
    "# To build data frame\n",
    "def build_data_frame(l, path, classification, TestFlag):\n",
    "    rows = []\n",
    "    index = []\n",
    "    for i, (file_name, text) in enumerate(load_files(path, TestFlag)):\n",
    "        rows.append({'text': text, 'label': classification,'file':file_name})\n",
    "        index.append(file_name)\n",
    "   \n",
    "    data_frame = pd.DataFrame(rows, index=index)\n",
    "    return data_frame, len(rows)\n",
    "\n",
    "# To load data, calls upon training and testing data\n",
    "def load_data(TestFlag):\n",
    "    #Initialize\n",
    "    data = pd.DataFrame({'text': [], 'label': [],'file':[]})\n",
    "    l = 0\n",
    "    for path, classification in SOURCES:\n",
    "        data_frame, nrows = build_data_frame(l, path, classification, TestFlag)\n",
    "        data = data.append(data_frame)\n",
    "        l += nrows\n",
    "    # Randomize data for better learning \n",
    "    data = data.reindex(np.random.permutation(data.index))\n",
    "    return data"
   ]
  },
  {
   "cell_type": "code",
   "execution_count": 141,
   "metadata": {},
   "outputs": [],
   "source": [
    "# To fetch training and testing data; if TestFlag = True then testing data else training data\n",
    "training_data = load_data(False)\n",
    "testing_data  = load_data(True)"
   ]
  },
  {
   "cell_type": "code",
   "execution_count": 142,
   "metadata": {},
   "outputs": [
    {
     "data": {
      "text/html": [
       "<div>\n",
       "<style>\n",
       "    .dataframe thead tr:only-child th {\n",
       "        text-align: right;\n",
       "    }\n",
       "\n",
       "    .dataframe thead th {\n",
       "        text-align: left;\n",
       "    }\n",
       "\n",
       "    .dataframe tbody tr th {\n",
       "        vertical-align: top;\n",
       "    }\n",
       "</style>\n",
       "<table border=\"1\" class=\"dataframe\">\n",
       "  <thead>\n",
       "    <tr style=\"text-align: right;\">\n",
       "      <th></th>\n",
       "      <th>file</th>\n",
       "      <th>label</th>\n",
       "      <th>text</th>\n",
       "    </tr>\n",
       "  </thead>\n",
       "  <tbody>\n",
       "    <tr>\n",
       "      <th>/home/vamsi/Desktop/ECEN704/Dataset/GP/part12/msg3988.eml</th>\n",
       "      <td>/home/vamsi/Desktop/ECEN704/Dataset/GP/part12/...</td>\n",
       "      <td>spam</td>\n",
       "      <td>From: \"Larry Sharp\" &lt;sharp_fv@asapso.de&gt;\\n To:...</td>\n",
       "    </tr>\n",
       "    <tr>\n",
       "      <th>/home/vamsi/Desktop/ECEN704/Dataset/lokay-m/systems/182</th>\n",
       "      <td>/home/vamsi/Desktop/ECEN704/Dataset/lokay-m/sy...</td>\n",
       "      <td>notspam</td>\n",
       "      <td>Message-ID: &lt;24064894.1075860996324.JavaMail.e...</td>\n",
       "    </tr>\n",
       "    <tr>\n",
       "      <th>/home/vamsi/Desktop/ECEN704/Dataset/GP/part10/msg1537.eml</th>\n",
       "      <td>/home/vamsi/Desktop/ECEN704/Dataset/GP/part10/...</td>\n",
       "      <td>spam</td>\n",
       "      <td>From: \"Ilene Hollingsworth\" &lt;chvzwdaw@spray.fr...</td>\n",
       "    </tr>\n",
       "    <tr>\n",
       "      <th>/home/vamsi/Desktop/ECEN704/Dataset/GP/part11/msg2799.eml</th>\n",
       "      <td>/home/vamsi/Desktop/ECEN704/Dataset/GP/part11/...</td>\n",
       "      <td>spam</td>\n",
       "      <td>From: \"Lowell Lynn\" &lt;hpuwkwibgdtxba@fromru.com...</td>\n",
       "    </tr>\n",
       "    <tr>\n",
       "      <th>/home/vamsi/Desktop/ECEN704/Dataset/GP/part11/msg2455.eml</th>\n",
       "      <td>/home/vamsi/Desktop/ECEN704/Dataset/GP/part11/...</td>\n",
       "      <td>spam</td>\n",
       "      <td>From: \"Darla Avery\" &lt;carolinejil@iamwasted.com...</td>\n",
       "    </tr>\n",
       "  </tbody>\n",
       "</table>\n",
       "</div>"
      ],
      "text/plain": [
       "                                                                                                 file  \\\n",
       "/home/vamsi/Desktop/ECEN704/Dataset/GP/part12/m...  /home/vamsi/Desktop/ECEN704/Dataset/GP/part12/...   \n",
       "/home/vamsi/Desktop/ECEN704/Dataset/lokay-m/sys...  /home/vamsi/Desktop/ECEN704/Dataset/lokay-m/sy...   \n",
       "/home/vamsi/Desktop/ECEN704/Dataset/GP/part10/m...  /home/vamsi/Desktop/ECEN704/Dataset/GP/part10/...   \n",
       "/home/vamsi/Desktop/ECEN704/Dataset/GP/part11/m...  /home/vamsi/Desktop/ECEN704/Dataset/GP/part11/...   \n",
       "/home/vamsi/Desktop/ECEN704/Dataset/GP/part11/m...  /home/vamsi/Desktop/ECEN704/Dataset/GP/part11/...   \n",
       "\n",
       "                                                      label  \\\n",
       "/home/vamsi/Desktop/ECEN704/Dataset/GP/part12/m...     spam   \n",
       "/home/vamsi/Desktop/ECEN704/Dataset/lokay-m/sys...  notspam   \n",
       "/home/vamsi/Desktop/ECEN704/Dataset/GP/part10/m...     spam   \n",
       "/home/vamsi/Desktop/ECEN704/Dataset/GP/part11/m...     spam   \n",
       "/home/vamsi/Desktop/ECEN704/Dataset/GP/part11/m...     spam   \n",
       "\n",
       "                                                                                                 text  \n",
       "/home/vamsi/Desktop/ECEN704/Dataset/GP/part12/m...  From: \"Larry Sharp\" <sharp_fv@asapso.de>\\n To:...  \n",
       "/home/vamsi/Desktop/ECEN704/Dataset/lokay-m/sys...  Message-ID: <24064894.1075860996324.JavaMail.e...  \n",
       "/home/vamsi/Desktop/ECEN704/Dataset/GP/part10/m...  From: \"Ilene Hollingsworth\" <chvzwdaw@spray.fr...  \n",
       "/home/vamsi/Desktop/ECEN704/Dataset/GP/part11/m...  From: \"Lowell Lynn\" <hpuwkwibgdtxba@fromru.com...  \n",
       "/home/vamsi/Desktop/ECEN704/Dataset/GP/part11/m...  From: \"Darla Avery\" <carolinejil@iamwasted.com...  "
      ]
     },
     "execution_count": 142,
     "metadata": {},
     "output_type": "execute_result"
    }
   ],
   "source": [
    "# To see if we are loading it correctly\n",
    "training_data.head()\n",
    "testing_data.head()"
   ]
  },
  {
   "cell_type": "code",
   "execution_count": 143,
   "metadata": {},
   "outputs": [],
   "source": [
    "# Removing unnecessary columns and changing labels from spam,ham to 1,0\n",
    "Testingdata  = testing_data[[\"text\", \"label\"]]\n",
    "Trainingdata = training_data[[\"text\",\"label\"]]\n",
    "\n",
    "Testingdata  = Testingdata.reset_index(drop=True)\n",
    "Trainingdata = Trainingdata.reset_index(drop=True)\n",
    "\n",
    "Testingdata['label']  = Testingdata['label'].map({'spam':1, 'notspam':0})\n",
    "Trainingdata['label'] = Trainingdata['label'].map({'spam':1, 'notspam':0})"
   ]
  },
  {
   "cell_type": "code",
   "execution_count": 145,
   "metadata": {},
   "outputs": [
    {
     "data": {
      "text/html": [
       "<div>\n",
       "<style>\n",
       "    .dataframe thead tr:only-child th {\n",
       "        text-align: right;\n",
       "    }\n",
       "\n",
       "    .dataframe thead th {\n",
       "        text-align: left;\n",
       "    }\n",
       "\n",
       "    .dataframe tbody tr th {\n",
       "        vertical-align: top;\n",
       "    }\n",
       "</style>\n",
       "<table border=\"1\" class=\"dataframe\">\n",
       "  <thead>\n",
       "    <tr style=\"text-align: right;\">\n",
       "      <th></th>\n",
       "      <th>text</th>\n",
       "      <th>label</th>\n",
       "    </tr>\n",
       "  </thead>\n",
       "  <tbody>\n",
       "    <tr>\n",
       "      <th>0</th>\n",
       "      <td>From: \"Larry Sharp\" &lt;sharp_fv@asapso.de&gt;\\n To:...</td>\n",
       "      <td>1</td>\n",
       "    </tr>\n",
       "    <tr>\n",
       "      <th>1</th>\n",
       "      <td>Message-ID: &lt;24064894.1075860996324.JavaMail.e...</td>\n",
       "      <td>0</td>\n",
       "    </tr>\n",
       "    <tr>\n",
       "      <th>2</th>\n",
       "      <td>From: \"Ilene Hollingsworth\" &lt;chvzwdaw@spray.fr...</td>\n",
       "      <td>1</td>\n",
       "    </tr>\n",
       "    <tr>\n",
       "      <th>3</th>\n",
       "      <td>From: \"Lowell Lynn\" &lt;hpuwkwibgdtxba@fromru.com...</td>\n",
       "      <td>1</td>\n",
       "    </tr>\n",
       "    <tr>\n",
       "      <th>4</th>\n",
       "      <td>From: \"Darla Avery\" &lt;carolinejil@iamwasted.com...</td>\n",
       "      <td>1</td>\n",
       "    </tr>\n",
       "  </tbody>\n",
       "</table>\n",
       "</div>"
      ],
      "text/plain": [
       "                                                text  label\n",
       "0  From: \"Larry Sharp\" <sharp_fv@asapso.de>\\n To:...      1\n",
       "1  Message-ID: <24064894.1075860996324.JavaMail.e...      0\n",
       "2  From: \"Ilene Hollingsworth\" <chvzwdaw@spray.fr...      1\n",
       "3  From: \"Lowell Lynn\" <hpuwkwibgdtxba@fromru.com...      1\n",
       "4  From: \"Darla Avery\" <carolinejil@iamwasted.com...      1"
      ]
     },
     "execution_count": 145,
     "metadata": {},
     "output_type": "execute_result"
    }
   ],
   "source": [
    "Testingdata.head()"
   ]
  },
  {
   "cell_type": "code",
   "execution_count": 144,
   "metadata": {
    "collapsed": true
   },
   "outputs": [],
   "source": [
    "# Extracting data and labels\n",
    "Xtrain = Trainingdata['text'].values\n",
    "Ytrain = Trainingdata['label'].values\n",
    "Xtest  = Testingdata['text'].values\n",
    "Ytest  = Testingdata['label'].values"
   ]
  },
  {
   "cell_type": "code",
   "execution_count": 146,
   "metadata": {},
   "outputs": [
    {
     "name": "stdout",
     "output_type": "stream",
     "text": [
      "14308\n",
      "5787\n",
      "(20095,)\n"
     ]
    }
   ],
   "source": [
    "numtraining = Xtrain.shape[0]\n",
    "numtesting = Xtest.shape[0]\n",
    "print(numtraining)\n",
    "print(numtesting)\n",
    "totaldata = np.concatenate((Xtrain, Xtest))\n",
    "print(totaldata.shape)"
   ]
  },
  {
   "cell_type": "code",
   "execution_count": 148,
   "metadata": {
    "collapsed": true
   },
   "outputs": [],
   "source": [
    "# Not using any stopwords and not removing html tags\n",
    "vectorizer = TfidfVectorizer()\n",
    "BigMatrix = vectorizer.fit_transform(totaldata)"
   ]
  },
  {
   "cell_type": "markdown",
   "metadata": {},
   "source": [
    "#### End of Task 1"
   ]
  },
  {
   "cell_type": "markdown",
   "metadata": {},
   "source": [
    "#### Task 2"
   ]
  },
  {
   "cell_type": "markdown",
   "metadata": {},
   "source": [
    "Use a pandas DataFrame to look at the top 25 words in one spam message and the top 25 words\n",
    "in one ham message"
   ]
  },
  {
   "cell_type": "code",
   "execution_count": 153,
   "metadata": {},
   "outputs": [
    {
     "data": {
      "text/html": [
       "<div>\n",
       "<style>\n",
       "    .dataframe thead tr:only-child th {\n",
       "        text-align: right;\n",
       "    }\n",
       "\n",
       "    .dataframe thead th {\n",
       "        text-align: left;\n",
       "    }\n",
       "\n",
       "    .dataframe tbody tr th {\n",
       "        vertical-align: top;\n",
       "    }\n",
       "</style>\n",
       "<table border=\"1\" class=\"dataframe\">\n",
       "  <thead>\n",
       "    <tr style=\"text-align: right;\">\n",
       "      <th></th>\n",
       "      <th>a0</th>\n",
       "      <th>armor</th>\n",
       "      <th>electric</th>\n",
       "      <th>arme</th>\n",
       "      <th>and</th>\n",
       "      <th>vehicle</th>\n",
       "      <th>of</th>\n",
       "      <th>vehicles</th>\n",
       "      <th>the</th>\n",
       "      <th>enterprises</th>\n",
       "      <th>...</th>\n",
       "      <th>in</th>\n",
       "      <th>ev</th>\n",
       "      <th>major</th>\n",
       "      <th>to</th>\n",
       "      <th>distribution</th>\n",
       "      <th>20</th>\n",
       "      <th>atv</th>\n",
       "      <th>scooters</th>\n",
       "      <th>technologies</th>\n",
       "      <th>with</th>\n",
       "    </tr>\n",
       "  </thead>\n",
       "  <tbody>\n",
       "    <tr>\n",
       "      <th>tfidf_values</th>\n",
       "      <td>0.538795</td>\n",
       "      <td>0.284842</td>\n",
       "      <td>0.269967</td>\n",
       "      <td>0.206958</td>\n",
       "      <td>0.205763</td>\n",
       "      <td>0.178731</td>\n",
       "      <td>0.161169</td>\n",
       "      <td>0.159211</td>\n",
       "      <td>0.155595</td>\n",
       "      <td>0.146251</td>\n",
       "      <td>...</td>\n",
       "      <td>0.087839</td>\n",
       "      <td>0.086129</td>\n",
       "      <td>0.078345</td>\n",
       "      <td>0.075408</td>\n",
       "      <td>0.074811</td>\n",
       "      <td>0.074722</td>\n",
       "      <td>0.069569</td>\n",
       "      <td>0.066808</td>\n",
       "      <td>0.066668</td>\n",
       "      <td>0.064065</td>\n",
       "    </tr>\n",
       "  </tbody>\n",
       "</table>\n",
       "<p>1 rows × 25 columns</p>\n",
       "</div>"
      ],
      "text/plain": [
       "                    a0     armor  electric      arme       and   vehicle  \\\n",
       "tfidf_values  0.538795  0.284842  0.269967  0.206958  0.205763  0.178731   \n",
       "\n",
       "                    of  vehicles       the  enterprises    ...           in  \\\n",
       "tfidf_values  0.161169  0.159211  0.155595     0.146251    ...     0.087839   \n",
       "\n",
       "                    ev     major        to  distribution        20       atv  \\\n",
       "tfidf_values  0.086129  0.078345  0.075408      0.074811  0.074722  0.069569   \n",
       "\n",
       "              scooters  technologies      with  \n",
       "tfidf_values  0.066808      0.066668  0.064065  \n",
       "\n",
       "[1 rows x 25 columns]"
      ]
     },
     "execution_count": 153,
     "metadata": {},
     "output_type": "execute_result"
    }
   ],
   "source": [
    "# The first row is an extract from a spam mail and the second row is an extract from a ham mail\n",
    "# it is a sparse vector, we can remove 0s and sort it to print top 25 \n",
    "feature_names = vectorizer.get_feature_names()\n",
    "temp_spam = pd.DataFrame(BigMatrix[0].T.todense(), index = feature_names)\n",
    "temp_spam.columns = ['tfidf_values']\n",
    "temp_spam.sort_values(by = 'tfidf_values', ascending = False).head(25).T"
   ]
  },
  {
   "cell_type": "code",
   "execution_count": 154,
   "metadata": {},
   "outputs": [
    {
     "data": {
      "text/html": [
       "<div>\n",
       "<style>\n",
       "    .dataframe thead tr:only-child th {\n",
       "        text-align: right;\n",
       "    }\n",
       "\n",
       "    .dataframe thead th {\n",
       "        text-align: left;\n",
       "    }\n",
       "\n",
       "    .dataframe tbody tr th {\n",
       "        vertical-align: top;\n",
       "    }\n",
       "</style>\n",
       "<table border=\"1\" class=\"dataframe\">\n",
       "  <thead>\n",
       "    <tr style=\"text-align: right;\">\n",
       "      <th></th>\n",
       "      <th>onondaga</th>\n",
       "      <th>the</th>\n",
       "      <th>ben</th>\n",
       "      <th>receivable</th>\n",
       "      <th>jacoby</th>\n",
       "      <th>million</th>\n",
       "      <th>asset</th>\n",
       "      <th>that</th>\n",
       "      <th>payment</th>\n",
       "      <th>to</th>\n",
       "      <th>...</th>\n",
       "      <th>of</th>\n",
       "      <th>internal</th>\n",
       "      <th>agreement</th>\n",
       "      <th>income</th>\n",
       "      <th>duran</th>\n",
       "      <th>billy</th>\n",
       "      <th>our</th>\n",
       "      <th>down</th>\n",
       "      <th>will</th>\n",
       "      <th>oclp</th>\n",
       "    </tr>\n",
       "  </thead>\n",
       "  <tbody>\n",
       "    <tr>\n",
       "      <th>tfidf_values</th>\n",
       "      <td>0.391533</td>\n",
       "      <td>0.316749</td>\n",
       "      <td>0.223213</td>\n",
       "      <td>0.182196</td>\n",
       "      <td>0.179114</td>\n",
       "      <td>0.144877</td>\n",
       "      <td>0.140787</td>\n",
       "      <td>0.139326</td>\n",
       "      <td>0.132205</td>\n",
       "      <td>0.128668</td>\n",
       "      <td>...</td>\n",
       "      <td>0.10859</td>\n",
       "      <td>0.104132</td>\n",
       "      <td>0.102134</td>\n",
       "      <td>0.101641</td>\n",
       "      <td>0.101265</td>\n",
       "      <td>0.097407</td>\n",
       "      <td>0.095307</td>\n",
       "      <td>0.095163</td>\n",
       "      <td>0.094238</td>\n",
       "      <td>0.093628</td>\n",
       "    </tr>\n",
       "  </tbody>\n",
       "</table>\n",
       "<p>1 rows × 25 columns</p>\n",
       "</div>"
      ],
      "text/plain": [
       "              onondaga       the       ben  receivable    jacoby   million  \\\n",
       "tfidf_values  0.391533  0.316749  0.223213    0.182196  0.179114  0.144877   \n",
       "\n",
       "                 asset      that   payment        to    ...          of  \\\n",
       "tfidf_values  0.140787  0.139326  0.132205  0.128668    ...     0.10859   \n",
       "\n",
       "              internal  agreement    income     duran     billy       our  \\\n",
       "tfidf_values  0.104132   0.102134  0.101641  0.101265  0.097407  0.095307   \n",
       "\n",
       "                  down      will      oclp  \n",
       "tfidf_values  0.095163  0.094238  0.093628  \n",
       "\n",
       "[1 rows x 25 columns]"
      ]
     },
     "execution_count": 154,
     "metadata": {},
     "output_type": "execute_result"
    }
   ],
   "source": [
    "# The first row is an extract from a spam mail and the second row is an extract from a ham mail\n",
    "# it is a sparse vector, we can remove 0s and sort it to print top 25 \n",
    "\n",
    "temp_ham = pd.DataFrame(BigMatrix[1].T.todense(), index = feature_names)\n",
    "temp_ham.columns = ['tfidf_values']\n",
    "temp_ham.sort_values(by = 'tfidf_values', ascending = False).head(25).T"
   ]
  },
  {
   "cell_type": "markdown",
   "metadata": {},
   "source": [
    "#### End of Task 2"
   ]
  },
  {
   "cell_type": "markdown",
   "metadata": {},
   "source": [
    "#### Task 3 and Task 4"
   ]
  },
  {
   "cell_type": "markdown",
   "metadata": {},
   "source": [
    "Train a RandomForestClassifier using the parts 1-9 spam emails and kitchen-l ham emails.\n",
    "\n",
    "Using your RandomForestClassifier, predict the emails in GP parts 10-12 and lokay-m. Display\n",
    "the number of true positive (spam), false positive, true negative (ham) and false negatives."
   ]
  },
  {
   "cell_type": "code",
   "execution_count": 155,
   "metadata": {
    "collapsed": true
   },
   "outputs": [],
   "source": [
    "# Split the training and testing data\n",
    "finaltrain = BigMatrix[0:numtraining, :]\n",
    "finaltest = BigMatrix[numtraining:BigMatrix.shape[0],:]"
   ]
  },
  {
   "cell_type": "code",
   "execution_count": 156,
   "metadata": {},
   "outputs": [
    {
     "name": "stdout",
     "output_type": "stream",
     "text": [
      "(14308, 413456)\n",
      "(5787, 413456)\n"
     ]
    }
   ],
   "source": [
    "# To check if we split the data correctly\n",
    "print(finaltrain.shape)\n",
    "print(finaltest.shape)"
   ]
  },
  {
   "cell_type": "code",
   "execution_count": 159,
   "metadata": {},
   "outputs": [
    {
     "name": "stdout",
     "output_type": "stream",
     "text": [
      "Accuracy: 1.0\n"
     ]
    }
   ],
   "source": [
    "# Building a Random Forest Classifier\n",
    "RFC = RandomForestClassifier(n_estimators=20)\n",
    "model= RFC.fit(finaltrain, Ytrain)\n",
    "pred = RFC.predict(finaltest)\n",
    "\n",
    "# Calculate the accuracy on the test data.\n",
    "print(\"Accuracy: {}\".format(RFC.score(finaltest, Ytest)))"
   ]
  },
  {
   "cell_type": "code",
   "execution_count": 163,
   "metadata": {},
   "outputs": [
    {
     "name": "stdout",
     "output_type": "stream",
     "text": [
      "             precision    recall  f1-score   support\n",
      "\n",
      "       Spam       1.00      1.00      1.00      2364\n",
      "        Ham       1.00      1.00      1.00      3423\n",
      "\n",
      "avg / total       1.00      1.00      1.00      5787\n",
      "\n"
     ]
    },
    {
     "data": {
      "text/plain": [
       "<matplotlib.text.Text at 0x7f4886f9a7f0>"
      ]
     },
     "execution_count": 163,
     "metadata": {},
     "output_type": "execute_result"
    },
    {
     "data": {
      "image/png": "[encoded data removed]",
      "text/plain": [
       "<matplotlib.figure.Figure at 0x7f48862eeb38>"
      ]
     },
     "metadata": {},
     "output_type": "display_data"
    }
   ],
   "source": [
    "# To generate classification report\n",
    "print(metrics.classification_report(Ytest, pred,target_names=['Spam','Ham']))\n",
    "\n",
    "# To build the confusion matrix\n",
    "cm = confusion_matrix(Ytest, pred)\n",
    "labels = ['True Neg','False Pos','False Neg','True Pos']\n",
    "annotations = [f\"{v1} ({v2})\" for v1, v2 in zip(labels, cm.flatten())]\n",
    "annotations = np.asarray(annotations).reshape(2,2)\n",
    "sns.heatmap(cm, annot=annotations, fmt='', cbar = False)\n",
    "plt.title(\"Confusion Matrix\")\n",
    "plt.xlabel(\"Predicted label\")\n",
    "plt.ylabel(\"True label\")"
   ]
  },
  {
   "cell_type": "markdown",
   "metadata": {},
   "source": [
    "We can see 100% accuracy on test data "
   ]
  },
  {
   "cell_type": "markdown",
   "metadata": {},
   "source": [
    "#### End of Task 3 and Task 4"
   ]
  },
  {
   "cell_type": "markdown",
   "metadata": {},
   "source": [
    "#### Task 5"
   ]
  },
  {
   "cell_type": "markdown",
   "metadata": {},
   "source": [
    "In the second half of your Jupyter notebook (i.e. don’t change your code above, add more), redo the steps above using a stopwords list containing “enron” and HTML tags. Again, predict the emails in GP parts 10-12 and lokay-m.\n",
    "\n",
    "Display the number of true positive (spam), false positive, true negative (ham) and false\n",
    "negatives.\n",
    "\n",
    "I created a stopwords list using: https://raw.githubusercontent.com/stopwords-\n",
    "iso/stopwords-en/master/stopwords-en.txt and https://techspirited.com/all-html-tags-\n",
    "list-of-all-html-tags"
   ]
  },
  {
   "cell_type": "code",
   "execution_count": 172,
   "metadata": {},
   "outputs": [],
   "source": [
    "# To fetch stopwords\n",
    "import urllib\n",
    "url = \"https://raw.githubusercontent.com/stopwords-iso/stopwords-en/master/stopwords-en.txt\"\n",
    "\n",
    "stop_words_file = urllib.request.urlopen(url)\n",
    "\n",
    "stopwords = {'enron'}\n",
    "for line in stop_words_file:\n",
    "    stopwords.add(line.decode(\"utf-8\").strip())\n",
    "\n",
    "#to see the stop words\n",
    "#print(stopwords)"
   ]
  },
  {
   "cell_type": "code",
   "execution_count": 171,
   "metadata": {
    "collapsed": true
   },
   "outputs": [],
   "source": [
    "# To remove html tags, url linking and cleaning\n",
    "def clean_messages(message):\n",
    "    # To url linking\n",
    "    message = re.sub(r'http\\S+', ' ', message)\n",
    "    message = re.sub(\"\\d+\", \" \", message)\n",
    "    message = message.replace('\\n', ' ')\n",
    "    # To remove html tags\n",
    "    message = message.translate(str.maketrans(\"\", \"\", punctuation))\n",
    "    soup = BeautifulSoup(message, \"html.parser\")\n",
    "    message = soup.get_text()\n",
    "    message = message.lower()\n",
    "    \n",
    "    return message"
   ]
  },
  {
   "cell_type": "code",
   "execution_count": 175,
   "metadata": {},
   "outputs": [],
   "source": [
    "Trainingdata['clean_text'] = Trainingdata['text'].apply(clean_messages)\n",
    "Testingdata['clean_text'] = Testingdata['text'].apply(clean_messages)"
   ]
  },
  {
   "cell_type": "code",
   "execution_count": 176,
   "metadata": {
    "collapsed": true
   },
   "outputs": [],
   "source": [
    "# Extracting data and labels\n",
    "Xtrain_new = Trainingdata['clean_text'].values\n",
    "Ytrain_new = Trainingdata['label'].values\n",
    "Xtest_new  = Testingdata['clean_text'].values\n",
    "Ytest_new  = Testingdata['label'].values"
   ]
  },
  {
   "cell_type": "code",
   "execution_count": 177,
   "metadata": {
    "collapsed": true
   },
   "outputs": [],
   "source": [
    "totaldata_new = np.concatenate((Xtrain_new, Xtest_new))"
   ]
  },
  {
   "cell_type": "code",
   "execution_count": 178,
   "metadata": {},
   "outputs": [],
   "source": [
    "##stop_word_set = {\"enron\"}\n",
    "vectorizer = TfidfVectorizer(stop_words= stop_words_list)\n",
    "BigMatrix_new= vectorizer.fit_transform(totaldata_new)"
   ]
  },
  {
   "cell_type": "code",
   "execution_count": 179,
   "metadata": {},
   "outputs": [
    {
     "data": {
      "text/html": [
       "<div>\n",
       "<style>\n",
       "    .dataframe thead tr:only-child th {\n",
       "        text-align: right;\n",
       "    }\n",
       "\n",
       "    .dataframe thead th {\n",
       "        text-align: left;\n",
       "    }\n",
       "\n",
       "    .dataframe tbody tr th {\n",
       "        vertical-align: top;\n",
       "    }\n",
       "</style>\n",
       "<table border=\"1\" class=\"dataframe\">\n",
       "  <thead>\n",
       "    <tr style=\"text-align: right;\">\n",
       "      <th></th>\n",
       "      <th>electric</th>\n",
       "      <th>armor</th>\n",
       "      <th>vehicle</th>\n",
       "      <th>arme</th>\n",
       "      <th>vehicles</th>\n",
       "      <th>enterprises</th>\n",
       "      <th>battery</th>\n",
       "      <th>major</th>\n",
       "      <th>atvs</th>\n",
       "      <th>barmor</th>\n",
       "      <th>...</th>\n",
       "      <th>rapidly</th>\n",
       "      <th>ev</th>\n",
       "      <th>board</th>\n",
       "      <th>drive</th>\n",
       "      <th>strategic</th>\n",
       "      <th>marine</th>\n",
       "      <th>industry</th>\n",
       "      <th>craft</th>\n",
       "      <th>revenues</th>\n",
       "      <th>gokart</th>\n",
       "    </tr>\n",
       "  </thead>\n",
       "  <tbody>\n",
       "    <tr>\n",
       "      <th>tfidf_values</th>\n",
       "      <td>0.411894</td>\n",
       "      <td>0.30439</td>\n",
       "      <td>0.249457</td>\n",
       "      <td>0.2477</td>\n",
       "      <td>0.239834</td>\n",
       "      <td>0.235001</td>\n",
       "      <td>0.151322</td>\n",
       "      <td>0.118271</td>\n",
       "      <td>0.104081</td>\n",
       "      <td>0.104081</td>\n",
       "      <td>...</td>\n",
       "      <td>0.083266</td>\n",
       "      <td>0.082788</td>\n",
       "      <td>0.080938</td>\n",
       "      <td>0.079537</td>\n",
       "      <td>0.074552</td>\n",
       "      <td>0.072587</td>\n",
       "      <td>0.072551</td>\n",
       "      <td>0.072134</td>\n",
       "      <td>0.069998</td>\n",
       "      <td>0.069388</td>\n",
       "    </tr>\n",
       "  </tbody>\n",
       "</table>\n",
       "<p>1 rows × 25 columns</p>\n",
       "</div>"
      ],
      "text/plain": [
       "              electric    armor   vehicle    arme  vehicles  enterprises  \\\n",
       "tfidf_values  0.411894  0.30439  0.249457  0.2477  0.239834     0.235001   \n",
       "\n",
       "               battery     major      atvs    barmor    ...      rapidly  \\\n",
       "tfidf_values  0.151322  0.118271  0.104081  0.104081    ...     0.083266   \n",
       "\n",
       "                    ev     board     drive  strategic    marine  industry  \\\n",
       "tfidf_values  0.082788  0.080938  0.079537   0.074552  0.072587  0.072551   \n",
       "\n",
       "                 craft  revenues    gokart  \n",
       "tfidf_values  0.072134  0.069998  0.069388  \n",
       "\n",
       "[1 rows x 25 columns]"
      ]
     },
     "execution_count": 179,
     "metadata": {},
     "output_type": "execute_result"
    }
   ],
   "source": [
    "# The first row is an extract from a spam mail and the second row is an extract from a ham mail\n",
    "# it is a sparse vector, we can remove 0s and sort it to print top 25 \n",
    "feature_names = vectorizer.get_feature_names()\n",
    "temp_spam = pd.DataFrame(BigMatrix_new[0].T.todense(), index = feature_names)\n",
    "temp_spam.columns = ['tfidf_values']\n",
    "temp_spam.sort_values(by = 'tfidf_values', ascending = False).head(25).T"
   ]
  },
  {
   "cell_type": "code",
   "execution_count": 180,
   "metadata": {},
   "outputs": [
    {
     "data": {
      "text/html": [
       "<div>\n",
       "<style>\n",
       "    .dataframe thead tr:only-child th {\n",
       "        text-align: right;\n",
       "    }\n",
       "\n",
       "    .dataframe thead th {\n",
       "        text-align: left;\n",
       "    }\n",
       "\n",
       "    .dataframe tbody tr th {\n",
       "        vertical-align: top;\n",
       "    }\n",
       "</style>\n",
       "<table border=\"1\" class=\"dataframe\">\n",
       "  <thead>\n",
       "    <tr style=\"text-align: right;\">\n",
       "      <th></th>\n",
       "      <th>onondaga</th>\n",
       "      <th>ben</th>\n",
       "      <th>receivable</th>\n",
       "      <th>jacoby</th>\n",
       "      <th>asset</th>\n",
       "      <th>payment</th>\n",
       "      <th>received</th>\n",
       "      <th>valuation</th>\n",
       "      <th>accounting</th>\n",
       "      <th>internal</th>\n",
       "      <th>...</th>\n",
       "      <th>support</th>\n",
       "      <th>original</th>\n",
       "      <th>prior</th>\n",
       "      <th>louise</th>\n",
       "      <th>duran</th>\n",
       "      <th>cashflow</th>\n",
       "      <th>gain</th>\n",
       "      <th>fleenor</th>\n",
       "      <th>mtm</th>\n",
       "      <th>adjustment</th>\n",
       "    </tr>\n",
       "  </thead>\n",
       "  <tbody>\n",
       "    <tr>\n",
       "      <th>tfidf_values</th>\n",
       "      <td>0.513656</td>\n",
       "      <td>0.258627</td>\n",
       "      <td>0.23671</td>\n",
       "      <td>0.194938</td>\n",
       "      <td>0.184192</td>\n",
       "      <td>0.178911</td>\n",
       "      <td>0.15739</td>\n",
       "      <td>0.155317</td>\n",
       "      <td>0.153276</td>\n",
       "      <td>0.135967</td>\n",
       "      <td>...</td>\n",
       "      <td>0.104414</td>\n",
       "      <td>0.103791</td>\n",
       "      <td>0.103202</td>\n",
       "      <td>0.099909</td>\n",
       "      <td>0.099703</td>\n",
       "      <td>0.098344</td>\n",
       "      <td>0.09654</td>\n",
       "      <td>0.091845</td>\n",
       "      <td>0.091225</td>\n",
       "      <td>0.085866</td>\n",
       "    </tr>\n",
       "  </tbody>\n",
       "</table>\n",
       "<p>1 rows × 25 columns</p>\n",
       "</div>"
      ],
      "text/plain": [
       "              onondaga       ben  receivable    jacoby     asset   payment  \\\n",
       "tfidf_values  0.513656  0.258627     0.23671  0.194938  0.184192  0.178911   \n",
       "\n",
       "              received  valuation  accounting  internal     ...       support  \\\n",
       "tfidf_values   0.15739   0.155317    0.153276  0.135967     ...      0.104414   \n",
       "\n",
       "              original     prior    louise     duran  cashflow     gain  \\\n",
       "tfidf_values  0.103791  0.103202  0.099909  0.099703  0.098344  0.09654   \n",
       "\n",
       "               fleenor       mtm  adjustment  \n",
       "tfidf_values  0.091845  0.091225    0.085866  \n",
       "\n",
       "[1 rows x 25 columns]"
      ]
     },
     "execution_count": 180,
     "metadata": {},
     "output_type": "execute_result"
    }
   ],
   "source": [
    "# The first row is an extract from a spam mail and the second row is an extract from a ham mail\n",
    "# it is a sparse vector, we can remove 0s and sort it to print top 25 \n",
    "\n",
    "temp_ham = pd.DataFrame(BigMatrix_new[1].T.todense(), index = feature_names)\n",
    "temp_ham.columns = ['tfidf_values']\n",
    "temp_ham.sort_values(by = 'tfidf_values', ascending = False).head(25).T"
   ]
  },
  {
   "cell_type": "markdown",
   "metadata": {},
   "source": [
    "You can see the difference after removing the stop words"
   ]
  },
  {
   "cell_type": "code",
   "execution_count": 182,
   "metadata": {},
   "outputs": [
    {
     "name": "stdout",
     "output_type": "stream",
     "text": [
      "(14308, 636672)\n",
      "(5787, 636672)\n"
     ]
    }
   ],
   "source": [
    "# Split the training and testing data\n",
    "finaltrain_new = BigMatrix_new[0:numtraining, :]\n",
    "finaltest_new = BigMatrix_new[numtraining:BigMatrix_new.shape[0],:]\n",
    "\n",
    "# To check if we split the data correctly\n",
    "print(finaltrain_new.shape)\n",
    "print(finaltest_new.shape)"
   ]
  },
  {
   "cell_type": "code",
   "execution_count": 188,
   "metadata": {},
   "outputs": [
    {
     "name": "stdout",
     "output_type": "stream",
     "text": [
      "Accuracy: 1.0\n",
      "             precision    recall  f1-score   support\n",
      "\n",
      "       Spam       1.00      1.00      1.00      2364\n",
      "        Ham       1.00      1.00      1.00      3423\n",
      "\n",
      "avg / total       1.00      1.00      1.00      5787\n",
      "\n"
     ]
    }
   ],
   "source": [
    "# Building a Random Forest Classifier\n",
    "RFC = RandomForestClassifier(n_estimators=20)\n",
    "model_new= RFC.fit(finaltrain_new, Ytrain)\n",
    "pred = RFC.predict(finaltest_new)\n",
    "\n",
    "# Calculate the accuracy on the test data.\n",
    "print(\"Accuracy: {}\".format(RFC.score(finaltest_new, Ytest)))\n",
    "\n",
    "# To generate classification report\n",
    "print(metrics.classification_report(Ytest, pred,target_names=['Spam','Ham']))"
   ]
  },
  {
   "cell_type": "code",
   "execution_count": 189,
   "metadata": {},
   "outputs": [
    {
     "name": "stdout",
     "output_type": "stream",
     "text": [
      "Accuracy: 0.9998271988940729\n",
      "             precision    recall  f1-score   support\n",
      "\n",
      "       Spam       1.00      1.00      1.00      2364\n",
      "        Ham       1.00      1.00      1.00      3423\n",
      "\n",
      "avg / total       1.00      1.00      1.00      5787\n",
      "\n"
     ]
    }
   ],
   "source": [
    "# For 20 estimators we see a 100% accuracy so reducing them\n",
    "RFC = RandomForestClassifier(n_estimators=10)\n",
    "model_new= RFC.fit(finaltrain_new, Ytrain)\n",
    "pred = RFC.predict(finaltest_new)\n",
    "\n",
    "# Calculate the accuracy on the test data.\n",
    "print(\"Accuracy: {}\".format(RFC.score(finaltest_new, Ytest)))\n",
    "\n",
    "# To generate classification report\n",
    "print(metrics.classification_report(Ytest, pred,target_names=['Spam','Ham']))"
   ]
  },
  {
   "cell_type": "code",
   "execution_count": 190,
   "metadata": {},
   "outputs": [
    {
     "data": {
      "text/plain": [
       "<matplotlib.text.Text at 0x7f489713a940>"
      ]
     },
     "execution_count": 190,
     "metadata": {},
     "output_type": "execute_result"
    },
    {
     "data": {
      "image/png": "[encoded data removed]",
      "text/plain": [
       "<matplotlib.figure.Figure at 0x7f4886edee48>"
      ]
     },
     "metadata": {},
     "output_type": "display_data"
    }
   ],
   "source": [
    "# To build the confusion matrix\n",
    "cm = confusion_matrix(Ytest, pred)\n",
    "labels = ['True Neg','False Pos','False Neg','True Pos']\n",
    "annotations = [f\"{v1} ({v2})\" for v1, v2 in zip(labels, cm.flatten())]\n",
    "annotations = np.asarray(annotations).reshape(2,2)\n",
    "sns.heatmap(cm, annot=annotations, fmt='', cbar = False)\n",
    "plt.title(\"Confusion Matrix\")\n",
    "plt.xlabel(\"Predicted label\")\n",
    "plt.ylabel(\"True label\")"
   ]
  },
  {
   "cell_type": "markdown",
   "metadata": {},
   "source": [
    "Using 10 estimators we get 99.982% accuracy (1 misclassification)."
   ]
  },
  {
   "cell_type": "markdown",
   "metadata": {},
   "source": [
    "#### End of part 5"
   ]
  }
 ],
 "metadata": {
  "kernelspec": {
   "display_name": "Python 3",
   "language": "python",
   "name": "python3"
  },
  "language_info": {
   "codemirror_mode": {
    "name": "ipython",
    "version": 3
   },
   "file_extension": ".py",
   "mimetype": "text/x-python",
   "name": "python",
   "nbconvert_exporter": "python",
   "pygments_lexer": "ipython3",
   "version": "3.6.1"
  }
 },
 "nbformat": 4,
 "nbformat_minor": 2
}
