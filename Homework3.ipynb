{
  "nbformat": 4,
  "nbformat_minor": 0,
  "metadata": {
    "colab": {
      "name": "Homework3.ipynb",
      "provenance": []
    },
    "kernelspec": {
      "name": "python3",
      "display_name": "Python 3"
    },
    "language_info": {
      "name": "python"
    }
  },
  "cells": [
    {
      "cell_type": "markdown",
      "metadata": {
        "id": "JxE7qW7eMFnU"
      },
      "source": [
        "#### Author: Vamsi Tallam\n",
        "####  UIN:    432001932\n"
      ]
    },
    {
      "cell_type": "markdown",
      "metadata": {
        "id": "Q7klgdJFbERB"
      },
      "source": [
        "## Task1\n",
        "Create a dataset class suitable for loading the HW3 dataset files (hw3-letters-test-images-idx3-ubyte,\n",
        "hw3-letters-test-labels-idx1-ubyte, hw3-letters-train-images-idx3-ubyte, hw3-letters-train-labels-idx1-\n",
        "ubyte) into your Jupyter notebook on Google colab (colab.research.google.com)\n",
        "\n",
        "1.   You probably want to mount your Google drive and keep the files there\n",
        "2.   The label files have a 4 byte integer for the number of items, followed by 1 unsigned byte per label\n",
        "3.   The image files have a 4 byte integer for the number of images, followed by a 4 byte integer for number of row, followed by a 4 byte integer for number of columns, followed by 1 unsigned byte per pixel (0-255, white -> black)\n",
        "4.   Create a child class for torch.utils.data.Dataset\n",
        "5.   NOTE: I have deliberately changed the file format/data files from the MNIST dataset used by\n",
        "Yann LeCun. You should write your own load method to read the file instead of using a library\n",
        "that parses the IDX format. "
      ]
    },
    {
      "cell_type": "code",
      "metadata": {
        "colab": {
          "base_uri": "https://localhost:8080/"
        },
        "id": "dY7yYFqNJyCd",
        "outputId": "fff1b8a6-5e51-4b84-e644-c06d3dd05a81"
      },
      "source": [
        "# Mount the drive to access data\n",
        "from google.colab import drive\n",
        "drive.mount('/content/gdrive')"
      ],
      "execution_count": null,
      "outputs": [
        {
          "output_type": "stream",
          "name": "stdout",
          "text": [
            "Mounted at /content/gdrive\n"
          ]
        }
      ]
    },
    {
      "cell_type": "code",
      "metadata": {
        "id": "AtdHnnNLVHUt"
      },
      "source": [
        "import os\n",
        "import pandas as pd\n",
        "import numpy as np\n",
        "import torch\n",
        "import random\n",
        "import tensorflow as tf\n",
        "import struct as st\n",
        "import string\n",
        "import seaborn as sn\n",
        "\n",
        "from matplotlib import pyplot as plt\n",
        "from keras.models import Sequential\n",
        "from keras.layers import Dense, Dropout, Flatten, Input, Activation\n",
        "from keras.layers import Conv2D, MaxPooling2D, ZeroPadding2D\n",
        "from keras.models import Model\n",
        "from skimage import io, transform\n",
        "from sklearn.model_selection import train_test_split\n",
        "from sklearn.metrics import confusion_matrix\n",
        "from tensorflow.keras.layers import BatchNormalization\n",
        "from tensorflow.keras.utils import to_categorical\n",
        "from torchvision import transforms, utils\n",
        "from torch.utils.data import Dataset, DataLoader\n",
        "from __future__ import print_function, division\n",
        "import keras\n",
        "from keras.layers.advanced_activations import LeakyReLU"
      ],
      "execution_count": null,
      "outputs": []
    },
    {
      "cell_type": "code",
      "metadata": {
        "id": "A0E2b4mYLmni"
      },
      "source": [
        "# To create a child class for torch.utils.data.Dataset'\n",
        "# As asked built a custom Dataset inspired from https://pytorch.org/tutorials/beginner/data_loading_tutorial.html\n",
        "\n",
        "class Extract_Images_Labels(Dataset):\n",
        "  \"To Load Labels and Images\"\n",
        "  Images  = None\n",
        "  Lablels = None  \n",
        "  \n",
        "  def __init__(self, Images_path, Labels_path):\n",
        "    Images_data = open(Images_path, 'rb')\n",
        "    Labels_data = open(Labels_path, 'rb')\n",
        "    \n",
        "    NImages  = st.unpack('>I',Images_data.read(4))[0]   #number of images\n",
        "    NRows    = st.unpack('>I',Images_data.read(4))[0]   #number of rows\n",
        "    NColumns = st.unpack('>I',Images_data.read(4))[0]   #number of column\n",
        "    NLabels  = st.unpack('>I',Labels_data.read(4))[0]   #number of labels\n",
        "\n",
        "    NBytes   = NImages*NRows*NColumns*1\n",
        "    self.Images = np.asarray(st.unpack('>'+'B'*NBytes,Images_data.read(NBytes))).reshape((NImages,NRows,NColumns))\n",
        "    NBytes   = NLabels*1\n",
        "    self.Labels = np.asarray(st.unpack('>'+'B'*NBytes,Labels_data.read(NBytes)))\n",
        "\n",
        "  def __len__(self):\n",
        "    return len(self.NLabels)\n",
        "\n",
        "  def __getitem__(self, idx):\n",
        "    return (self.Images[idx], self.Labels[idx])"
      ],
      "execution_count": null,
      "outputs": []
    },
    {
      "cell_type": "code",
      "metadata": {
        "id": "S2ZC2x0B4iBL",
        "colab": {
          "base_uri": "https://localhost:8080/"
        },
        "outputId": "84e6664a-3bcb-4bcb-c5c6-33b31834925d"
      },
      "source": [
        "# Path for training images and labels \n",
        "Training_data = Extract_Images_Labels('gdrive/MyDrive/Colab Notebooks/CSCE704/hw3-letters-train-images-idx3-ubyte', 'gdrive/MyDrive/Colab Notebooks/CSCE704/hw3-letters-train-labels-idx1-ubyte')\n",
        "\n",
        "# Assigning Images and corresponding Labels of training data to x_train and y_train \n",
        "x_train, y_train = Training_data[:]\n",
        " \n",
        "# Primary checks on loading training data\n",
        "print(x_train.shape)\n",
        "print(y_train.shape)\n"
      ],
      "execution_count": null,
      "outputs": [
        {
          "output_type": "stream",
          "name": "stdout",
          "text": [
            "(124800, 28, 28)\n",
            "(124800,)\n"
          ]
        }
      ]
    },
    {
      "cell_type": "code",
      "metadata": {
        "id": "KN_xUBzh6sL9",
        "colab": {
          "base_uri": "https://localhost:8080/"
        },
        "outputId": "71298ea3-55a8-4c3e-9711-bf5bd0f88cb9"
      },
      "source": [
        "# Path for testing images and labels\n",
        "Testing_data = Extract_Images_Labels('gdrive/MyDrive/Colab Notebooks/CSCE704/hw3-letters-test-images-idx3-ubyte', 'gdrive/MyDrive/Colab Notebooks/CSCE704/hw3-letters-test-labels-idx1-ubyte')\n",
        "\n",
        "x_test, y_test = Testing_data[:]\n",
        "\n",
        "# Primary checks on loading testing data\n",
        "print(x_test.shape)\n",
        "print(y_test.shape)"
      ],
      "execution_count": null,
      "outputs": [
        {
          "output_type": "stream",
          "name": "stdout",
          "text": [
            "(20800, 28, 28)\n",
            "(20800,)\n"
          ]
        }
      ]
    },
    {
      "cell_type": "markdown",
      "metadata": {
        "id": "kVwUqL9rBCk9"
      },
      "source": [
        "End of Task 1"
      ]
    },
    {
      "cell_type": "markdown",
      "metadata": {
        "id": "bmKZmiMQ0euE"
      },
      "source": [
        "### Task 2\n",
        "Plot at least 20 of the images using matplotlib.pyplot.imshow (note they may appear rotated 90 degrees\n",
        "clockwise- that’s OK. If it bothers you transpose the matrix)"
      ]
    },
    {
      "cell_type": "code",
      "metadata": {
        "colab": {
          "base_uri": "https://localhost:8080/",
          "height": 103
        },
        "id": "thujgH6jw2aX",
        "outputId": "d89db099-13fb-4954-b718-8a53cc529844"
      },
      "source": [
        "# plot an image to see if we have loaded correctly\n",
        "plt.figure(figsize=[1,1])\n",
        "plt.axis('off')\n",
        "plt.imshow(x_train[1].T, cmap='gray_r')"
      ],
      "execution_count": null,
      "outputs": [
        {
          "output_type": "execute_result",
          "data": {
            "text/plain": [
              "<matplotlib.image.AxesImage at 0x7fa824814cd0>"
            ]
          },
          "metadata": {},
          "execution_count": 6
        },
        {
          "output_type": "display_data",
          "data": {
            "image/png": "[encoded data removed]",
            "text/plain": [
              "<Figure size 72x72 with 1 Axes>"
            ]
          },
          "metadata": {
            "needs_background": "light"
          }
        }
      ]
    },
    {
      "cell_type": "code",
      "metadata": {
        "colab": {
          "base_uri": "https://localhost:8080/"
        },
        "id": "oOBzS_1T_sdj",
        "outputId": "a4c29726-215d-4f4e-bd2b-0e11654d0569"
      },
      "source": [
        "# To generate a random number\n",
        "r = np.random.RandomState(1234)\n",
        "randomindex = r.random_integers(0,x_train.shape[0])\n",
        "randomindex"
      ],
      "execution_count": null,
      "outputs": [
        {
          "output_type": "stream",
          "name": "stderr",
          "text": [
            "/usr/local/lib/python3.7/dist-packages/ipykernel_launcher.py:3: DeprecationWarning: This function is deprecated. Please call randint(0, 124800 + 1) instead\n",
            "  This is separate from the ipykernel package so we can avoid doing imports until\n"
          ]
        },
        {
          "output_type": "execute_result",
          "data": {
            "text/plain": [
              "92975"
            ]
          },
          "metadata": {},
          "execution_count": 7
        }
      ]
    },
    {
      "cell_type": "code",
      "metadata": {
        "id": "FzceuJpH0OEp",
        "colab": {
          "base_uri": "https://localhost:8080/",
          "height": 333
        },
        "outputId": "b25ae51f-3914-40fc-9fec-80654a0ba666"
      },
      "source": [
        "# Plot a grid of 5X4\n",
        "r = np.random.RandomState(1234)\n",
        "\n",
        "for i in range(1, 21):\n",
        "    plt.subplot(5, 4, i)\n",
        "    plt.axis('off')\n",
        "    plt.imshow(x_train[r.random_integers(0,x_train.shape[0])].T, cmap='gray_r') # Used Transpose to rotate the image\n",
        "\n",
        "plt.suptitle('Sample Training Images');"
      ],
      "execution_count": null,
      "outputs": [
        {
          "output_type": "stream",
          "name": "stderr",
          "text": [
            "/usr/local/lib/python3.7/dist-packages/ipykernel_launcher.py:7: DeprecationWarning: This function is deprecated. Please call randint(0, 124800 + 1) instead\n",
            "  import sys\n"
          ]
        },
        {
          "output_type": "display_data",
          "data": {
            "image/png": "[encoded data removed]",
            "text/plain": [
              "<Figure size 432x288 with 20 Axes>"
            ]
          },
          "metadata": {
            "needs_background": "light"
          }
        }
      ]
    },
    {
      "cell_type": "markdown",
      "metadata": {
        "id": "FWcItI4iBIO8"
      },
      "source": [
        "End of Task 2"
      ]
    },
    {
      "cell_type": "markdown",
      "metadata": {
        "id": "mt0OLwny4NFd"
      },
      "source": [
        "### Task 3\n",
        "Train a convolutional neural network to recognize the 26 letters (note the labels are 1-26 instead of 0-\n",
        "25).\n",
        "\n",
        "1.   https://github.com/erykml/medium_articles/blob/master/Computer%20Vision/lenet5_pytorch.\n",
        "ipynb may be helpful, but that code works on images that are 32x32 (the homework images are\n",
        "28x28 so you’ll need to create a different architecture)\n",
        "\n",
        "2.   You should be at least 90% accurate on the validation set. Don’t overtrain your model!"
      ]
    },
    {
      "cell_type": "code",
      "metadata": {
        "colab": {
          "base_uri": "https://localhost:8080/"
        },
        "id": "PnjVTuf44jv_",
        "outputId": "cca80cb6-ea06-44d3-9263-62c0c5fbb64d"
      },
      "source": [
        "# Reshape data to be used for training CNN\n",
        "NRows = x_train.shape[1]\n",
        "NCols = x_train.shape[2]\n",
        "input_shape = (NRows, NCols, 1)\n",
        "\n",
        "x_train = x_train.reshape(x_train.shape[0], NRows, NCols, 1)\n",
        "x_test  = x_test.reshape(x_test.shape[0], NRows, NCols, 1)\n",
        "\n",
        "x_train = x_train.astype('float32')/255\n",
        "x_test  = x_test.astype('float32')/255\n",
        "\n",
        "# To see if reshape it done accurately\n",
        "print(x_train.shape)"
      ],
      "execution_count": null,
      "outputs": [
        {
          "output_type": "stream",
          "name": "stdout",
          "text": [
            "(124800, 28, 28, 1)\n"
          ]
        }
      ]
    },
    {
      "cell_type": "code",
      "metadata": {
        "colab": {
          "base_uri": "https://localhost:8080/"
        },
        "id": "jc7Q0WhNN37T",
        "outputId": "2eb056b9-3fcd-44b0-eca2-8454622fe7cc"
      },
      "source": [
        "# Checking training labels (1 to 26)\n",
        "np.unique(y_train)"
      ],
      "execution_count": null,
      "outputs": [
        {
          "output_type": "execute_result",
          "data": {
            "text/plain": [
              "array([ 1,  2,  3,  4,  5,  6,  7,  8,  9, 10, 11, 12, 13, 14, 15, 16, 17,\n",
              "       18, 19, 20, 21, 22, 23, 24, 25, 26])"
            ]
          },
          "metadata": {},
          "execution_count": 10
        }
      ]
    },
    {
      "cell_type": "code",
      "metadata": {
        "id": "yzgIqIppFeAp",
        "colab": {
          "base_uri": "https://localhost:8080/"
        },
        "outputId": "6425b1c3-f07a-4395-818f-1ea22acdeabc"
      },
      "source": [
        "y_train = to_categorical(np.subtract(y_train,1), dtype =\"uint8\")\n",
        "print(y_train.shape)\n",
        "\n",
        "np.unique(y_train)"
      ],
      "execution_count": null,
      "outputs": [
        {
          "output_type": "stream",
          "name": "stdout",
          "text": [
            "(124800, 26)\n"
          ]
        },
        {
          "output_type": "execute_result",
          "data": {
            "text/plain": [
              "array([0, 1], dtype=uint8)"
            ]
          },
          "metadata": {},
          "execution_count": 11
        }
      ]
    },
    {
      "cell_type": "code",
      "metadata": {
        "id": "DeoP16DhG381"
      },
      "source": [
        "def model(input_shape):\n",
        "    model = Sequential()\n",
        "    model.add(Conv2D(32, kernel_size=(3, 3), strides=1, activation='LeakyReLU', input_shape = input_shape))  # Input 28 X 28 X 1, Kernelsize (3 X 3), # Filters =32, ouput (28-3+1) X (28-3+1) X 32\n",
        "    model.add(BatchNormalization()) # Normalization\n",
        "    model.add(Conv2D(32, (3, 3), activation='LeakyReLU', strides=2)) # Stride = 2 with 32 kernels of size (3 X 3) Reduces map size and tries to learn high level patterns\n",
        "    model.add(BatchNormalization()) # Normalization\n",
        "    model.add(Conv2D(64, (3, 3), activation='LeakyReLU', strides=2)) # Stride =2 with 64 kernelsof size (3 X 3) \n",
        "    model.add(Dropout(0.4))         # Randomly drop 40% this forces the remaining to learn better\n",
        "    model.add(Flatten())\n",
        "    model.add(Dense(128, activation='relu'))\n",
        "    model.add(Dense(64, activation='relu'))\n",
        "    model.add(Dense(26, activation='softmax'))\n",
        "    return model"
      ],
      "execution_count": null,
      "outputs": []
    },
    {
      "cell_type": "code",
      "metadata": {
        "colab": {
          "base_uri": "https://localhost:8080/",
          "height": 35
        },
        "id": "gs0X2R-7dj9M",
        "outputId": "254ceacd-79a2-46b6-fab8-17afe38a6692"
      },
      "source": [
        "# To test if GPU is available\n",
        "tf.test.gpu_device_name()"
      ],
      "execution_count": null,
      "outputs": [
        {
          "output_type": "execute_result",
          "data": {
            "application/vnd.google.colaboratory.intrinsic+json": {
              "type": "string"
            },
            "text/plain": [
              "'/device:GPU:0'"
            ]
          },
          "metadata": {},
          "execution_count": 18
        }
      ]
    },
    {
      "cell_type": "markdown",
      "metadata": {
        "id": "p7E0wZo_BSKb"
      },
      "source": [
        "Model Training on GPU ( Edit -> NoteBook Settings -> Hardware accelerator -> GPU)"
      ]
    },
    {
      "cell_type": "code",
      "metadata": {
        "colab": {
          "base_uri": "https://localhost:8080/"
        },
        "id": "rL0ZFKXiJqB4",
        "outputId": "cab7cb58-0a16-423e-fde5-d9ed72a109f8"
      },
      "source": [
        "print(x_train.shape[1:])\n",
        "\n",
        "SimpleModel = model(x_train.shape[1:])\n",
        "SimpleModel.compile(optimizer='Adam', loss='categorical_crossentropy', metrics=['accuracy'])\n",
        "\n",
        "SimpleModel.summary()"
      ],
      "execution_count": null,
      "outputs": [
        {
          "output_type": "stream",
          "name": "stdout",
          "text": [
            "(28, 28, 1)\n",
            "Model: \"sequential_2\"\n",
            "_________________________________________________________________\n",
            "Layer (type)                 Output Shape              Param #   \n",
            "=================================================================\n",
            "conv2d_6 (Conv2D)            (None, 26, 26, 32)        320       \n",
            "_________________________________________________________________\n",
            "batch_normalization_4 (Batch (None, 26, 26, 32)        128       \n",
            "_________________________________________________________________\n",
            "conv2d_7 (Conv2D)            (None, 12, 12, 32)        9248      \n",
            "_________________________________________________________________\n",
            "batch_normalization_5 (Batch (None, 12, 12, 32)        128       \n",
            "_________________________________________________________________\n",
            "conv2d_8 (Conv2D)            (None, 5, 5, 64)          18496     \n",
            "_________________________________________________________________\n",
            "dropout_2 (Dropout)          (None, 5, 5, 64)          0         \n",
            "_________________________________________________________________\n",
            "flatten_2 (Flatten)          (None, 1600)              0         \n",
            "_________________________________________________________________\n",
            "dense_6 (Dense)              (None, 128)               204928    \n",
            "_________________________________________________________________\n",
            "dense_7 (Dense)              (None, 64)                8256      \n",
            "_________________________________________________________________\n",
            "dense_8 (Dense)              (None, 26)                1690      \n",
            "=================================================================\n",
            "Total params: 243,194\n",
            "Trainable params: 243,066\n",
            "Non-trainable params: 128\n",
            "_________________________________________________________________\n"
          ]
        }
      ]
    },
    {
      "cell_type": "code",
      "metadata": {
        "colab": {
          "base_uri": "https://localhost:8080/"
        },
        "id": "dHyw8mP2e1Jf",
        "outputId": "6f7a64e7-9859-4328-e429-e3078d60b584"
      },
      "source": [
        "SimpleModel.fit(x_train, y_train, epochs = 10, batch_size = 256)"
      ],
      "execution_count": null,
      "outputs": [
        {
          "output_type": "stream",
          "name": "stdout",
          "text": [
            "Epoch 1/10\n",
            "488/488 [==============================] - 9s 16ms/step - loss: 0.6254 - accuracy: 0.8084\n",
            "Epoch 2/10\n",
            "488/488 [==============================] - 8s 16ms/step - loss: 0.2852 - accuracy: 0.9061\n",
            "Epoch 3/10\n",
            "488/488 [==============================] - 8s 16ms/step - loss: 0.2392 - accuracy: 0.9197\n",
            "Epoch 4/10\n",
            "488/488 [==============================] - 8s 16ms/step - loss: 0.2177 - accuracy: 0.9260\n",
            "Epoch 5/10\n",
            "488/488 [==============================] - 8s 16ms/step - loss: 0.2006 - accuracy: 0.9313\n",
            "Epoch 6/10\n",
            "488/488 [==============================] - 8s 16ms/step - loss: 0.1903 - accuracy: 0.9335\n",
            "Epoch 7/10\n",
            "488/488 [==============================] - 8s 16ms/step - loss: 0.1798 - accuracy: 0.9364\n",
            "Epoch 8/10\n",
            "488/488 [==============================] - 8s 16ms/step - loss: 0.1720 - accuracy: 0.9391\n",
            "Epoch 9/10\n",
            "488/488 [==============================] - 8s 16ms/step - loss: 0.1660 - accuracy: 0.9404\n",
            "Epoch 10/10\n",
            "488/488 [==============================] - 8s 16ms/step - loss: 0.1595 - accuracy: 0.9427\n"
          ]
        },
        {
          "output_type": "execute_result",
          "data": {
            "text/plain": [
              "<keras.callbacks.History at 0x7fa82618c750>"
            ]
          },
          "metadata": {},
          "execution_count": 22
        }
      ]
    },
    {
      "cell_type": "code",
      "metadata": {
        "id": "JqSVccqOJ3WR",
        "colab": {
          "base_uri": "https://localhost:8080/"
        },
        "outputId": "107db6eb-25af-4720-afed-55e6f750df00"
      },
      "source": [
        "y_pred = SimpleModel.predict(x_test)\n",
        "y_pred = np.argmax(y_pred, axis=1)\n",
        "y_pred = np.add(y_pred,1)\n",
        "\n",
        "from sklearn.metrics import accuracy_score\n",
        "accuracy_score(y_test, y_pred)"
      ],
      "execution_count": null,
      "outputs": [
        {
          "output_type": "execute_result",
          "data": {
            "text/plain": [
              "0.9333653846153847"
            ]
          },
          "metadata": {},
          "execution_count": 23
        }
      ]
    },
    {
      "cell_type": "markdown",
      "metadata": {
        "id": "1tHxZpNEEKXy"
      },
      "source": [
        "### End of Task 3"
      ]
    },
    {
      "cell_type": "markdown",
      "metadata": {
        "id": "RVI4XL_P4mMC"
      },
      "source": [
        "### Task 4\n",
        "Compare the time to train the model with and without a hardware accelerator\n",
        "\n",
        "1.   You can use a comment to indicate the timed output since you can’t easily switch back and forth\n",
        "in the middle of the code\n",
        "\n",
        " **Using CPU** (Edit -> NoteBook Settings -> Hardware accelerator -> **None**)"
      ]
    },
    {
      "cell_type": "code",
      "metadata": {
        "id": "ft4r5yrd4zRT",
        "colab": {
          "base_uri": "https://localhost:8080/"
        },
        "outputId": "dc63e31e-9b70-472b-af71-a9a6376da416"
      },
      "source": [
        "# Using CPU\n",
        "CPUModel = model(x_train.shape[1:])\n",
        "CPUModel.compile(optimizer='Adam', loss='categorical_crossentropy', metrics=['accuracy'])\n",
        "CPUModel.fit(x_train, y_train, epochs = 10, batch_size = 256)"
      ],
      "execution_count": null,
      "outputs": [
        {
          "output_type": "stream",
          "name": "stdout",
          "text": [
            "Epoch 1/10\n",
            "488/488 [==============================] - 148s 301ms/step - loss: 0.6316 - accuracy: 0.8047\n",
            "Epoch 2/10\n",
            "488/488 [==============================] - 147s 302ms/step - loss: 0.2876 - accuracy: 0.9049\n",
            "Epoch 3/10\n",
            "488/488 [==============================] - 147s 302ms/step - loss: 0.2420 - accuracy: 0.9195\n",
            "Epoch 4/10\n",
            "488/488 [==============================] - 148s 304ms/step - loss: 0.2186 - accuracy: 0.9256\n",
            "Epoch 5/10\n",
            "488/488 [==============================] - 148s 304ms/step - loss: 0.2029 - accuracy: 0.9299\n",
            "Epoch 6/10\n",
            "488/488 [==============================] - 148s 303ms/step - loss: 0.1933 - accuracy: 0.9327\n",
            "Epoch 7/10\n",
            "488/488 [==============================] - 148s 303ms/step - loss: 0.1832 - accuracy: 0.9359\n",
            "Epoch 8/10\n",
            "488/488 [==============================] - 148s 303ms/step - loss: 0.1759 - accuracy: 0.9374\n",
            "Epoch 9/10\n",
            "488/488 [==============================] - 148s 303ms/step - loss: 0.1687 - accuracy: 0.9403\n",
            "Epoch 10/10\n",
            "488/488 [==============================] - 148s 303ms/step - loss: 0.1618 - accuracy: 0.9415\n"
          ]
        },
        {
          "output_type": "execute_result",
          "data": {
            "text/plain": [
              "<keras.callbacks.History at 0x7f6c91723210>"
            ]
          },
          "metadata": {},
          "execution_count": 36
        }
      ]
    },
    {
      "cell_type": "markdown",
      "metadata": {
        "id": "l03fFhrMDLmq"
      },
      "source": [
        "Using CPU each Epoch takes **148s** while using GPU each Epoch takes only **8s**"
      ]
    },
    {
      "cell_type": "code",
      "metadata": {
        "colab": {
          "base_uri": "https://localhost:8080/"
        },
        "id": "c4UbPNpHs6jl",
        "outputId": "23afe3f6-9489-4d89-cf81-72a8c967a06f"
      },
      "source": [
        "CPUModel.summary()"
      ],
      "execution_count": null,
      "outputs": [
        {
          "output_type": "stream",
          "name": "stdout",
          "text": [
            "Model: \"sequential\"\n",
            "_________________________________________________________________\n",
            "Layer (type)                 Output Shape              Param #   \n",
            "=================================================================\n",
            "conv2d (Conv2D)              (None, 28, 28, 32)        320       \n",
            "_________________________________________________________________\n",
            "batch_normalization (BatchNo (None, 28, 28, 32)        128       \n",
            "_________________________________________________________________\n",
            "conv2d_1 (Conv2D)            (None, 14, 14, 32)        9248      \n",
            "_________________________________________________________________\n",
            "batch_normalization_1 (Batch (None, 14, 14, 32)        128       \n",
            "_________________________________________________________________\n",
            "conv2d_2 (Conv2D)            (None, 7, 7, 64)          18496     \n",
            "_________________________________________________________________\n",
            "dropout (Dropout)            (None, 7, 7, 64)          0         \n",
            "_________________________________________________________________\n",
            "flatten (Flatten)            (None, 3136)              0         \n",
            "_________________________________________________________________\n",
            "dense (Dense)                (None, 128)               401536    \n",
            "_________________________________________________________________\n",
            "dense_1 (Dense)              (None, 64)                8256      \n",
            "_________________________________________________________________\n",
            "dense_2 (Dense)              (None, 26)                1690      \n",
            "=================================================================\n",
            "Total params: 439,802\n",
            "Trainable params: 439,674\n",
            "Non-trainable params: 128\n",
            "_________________________________________________________________\n"
          ]
        }
      ]
    },
    {
      "cell_type": "code",
      "metadata": {
        "colab": {
          "base_uri": "https://localhost:8080/"
        },
        "id": "BOuKziILl058",
        "outputId": "b7bd114e-539c-42fc-caf1-ae01c8d6c6ee"
      },
      "source": [
        "# Using CPU\n",
        "y_pred_CPU = CPUModel.predict(x_test)\n",
        "y_pred_CPU = np.argmax(y_pred_CPU, axis=1)\n",
        "y_pred_CPU = np.add(y_pred_CPU,1)\n",
        "\n",
        "from sklearn.metrics import accuracy_score\n",
        "accuracy_score(y_test, y_pred_CPU)"
      ],
      "execution_count": null,
      "outputs": [
        {
          "output_type": "execute_result",
          "data": {
            "text/plain": [
              "0.9345192307692308"
            ]
          },
          "metadata": {},
          "execution_count": 39
        }
      ]
    },
    {
      "cell_type": "markdown",
      "metadata": {
        "id": "rjHBdwTAD9Mj"
      },
      "source": [
        "### End of Task 4"
      ]
    },
    {
      "cell_type": "markdown",
      "metadata": {
        "id": "iJ81eSD_42C7"
      },
      "source": [
        "### Task 5\n",
        "Output a confusion matrix of the test set with model."
      ]
    },
    {
      "cell_type": "code",
      "metadata": {
        "id": "Q3cxEOKM48OK",
        "colab": {
          "base_uri": "https://localhost:8080/",
          "height": 610
        },
        "outputId": "121dc0be-8405-466a-d89f-48f3203bc124"
      },
      "source": [
        "# Confusion Matrix\n",
        "con_mat = confusion_matrix(y_test,y_pred_CPU)\n",
        "con_mat_df = pd.DataFrame(con_mat,list(string.ascii_lowercase),list(string.ascii_lowercase)) \n",
        "plt.figure(figsize = (10,10))\n",
        "plt.ylabel('True label')\n",
        "plt.xlabel('Predicted label')\n",
        "sn.set(font_scale=0.8)\n",
        "sn.heatmap(con_mat_df, annot = True, fmt='g', cbar=False)"
      ],
      "execution_count": null,
      "outputs": [
        {
          "output_type": "execute_result",
          "data": {
            "text/plain": [
              "<matplotlib.axes._subplots.AxesSubplot at 0x7f6c8cf83750>"
            ]
          },
          "metadata": {},
          "execution_count": 40
        },
        {
          "output_type": "display_data",
          "data": {
            "image/png": "[encoded data removed]",
            "text/plain": [
              "<Figure size 720x720 with 1 Axes>"
            ]
          },
          "metadata": {
            "needs_background": "light"
          }
        }
      ]
    },
    {
      "cell_type": "markdown",
      "metadata": {
        "id": "gd8V5-GpvTjZ"
      },
      "source": [
        "**Observations:** The following pairs were misclassfied more frequently\n",
        "\n",
        "1.   i and l\n",
        "2.   q and g\n",
        "3.   d and o\n",
        "4.   a and q and a and g\n",
        "5.   h and n\n",
        "\n",
        "\n"
      ]
    },
    {
      "cell_type": "markdown",
      "metadata": {
        "id": "RxctQF7rD38M"
      },
      "source": [
        "### End of Task 5"
      ]
    }
  ]
}